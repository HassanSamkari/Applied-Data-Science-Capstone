{
  "nbformat": 4,
  "nbformat_minor": 0,
  "metadata": {
    "colab": {
      "name": "Untitled0.ipynb",
      "provenance": [],
      "mount_file_id": "1OqsdB7LNbQPcpbQq8_7tZPeSYW6DRIfi",
      "authorship_tag": "ABX9TyPJyQe0s8pSbnkJmA47m6M3",
      "include_colab_link": true
    },
    "kernelspec": {
      "name": "python3",
      "display_name": "Python 3"
    }
  },
  "cells": [
    {
      "cell_type": "markdown",
      "metadata": {
        "id": "view-in-github",
        "colab_type": "text"
      },
      "source": [
        "<a href=\"https://colab.research.google.com/github/HassanSamkari/Applied-Data-Science-Capstone/blob/master/LA_Restaurant_Health.ipynb\" target=\"_parent\"><img src=\"https://colab.research.google.com/assets/colab-badge.svg\" alt=\"Open In Colab\"/></a>"
      ]
    },
    {
      "cell_type": "code",
      "metadata": {
        "id": "wYbCk9Hx6c0l",
        "colab_type": "code",
        "colab": {}
      },
      "source": [
        "import pandas as pd\n",
        "import numpy as np"
      ],
      "execution_count": 0,
      "outputs": []
    },
    {
      "cell_type": "code",
      "metadata": {
        "id": "y1W_0MPG6sBD",
        "colab_type": "code",
        "colab": {}
      },
      "source": [
        "df = pd.read_csv('/content/drive/My Drive/project for colab/la-restaurant-market-health-data/restaurant-and-market-health-inspections.csv')"
      ],
      "execution_count": 0,
      "outputs": []
    },
    {
      "cell_type": "code",
      "metadata": {
        "id": "yI0dq-Nb7BlT",
        "colab_type": "code",
        "colab": {
          "base_uri": "https://localhost:8080/",
          "height": 394
        },
        "outputId": "2a725ecb-4052-4f7f-f35e-7c656426d75c"
      },
      "source": [
        "df.head()"
      ],
      "execution_count": 4,
      "outputs": [
        {
          "output_type": "execute_result",
          "data": {
            "text/html": [
              "<div>\n",
              "<style scoped>\n",
              "    .dataframe tbody tr th:only-of-type {\n",
              "        vertical-align: middle;\n",
              "    }\n",
              "\n",
              "    .dataframe tbody tr th {\n",
              "        vertical-align: top;\n",
              "    }\n",
              "\n",
              "    .dataframe thead th {\n",
              "        text-align: right;\n",
              "    }\n",
              "</style>\n",
              "<table border=\"1\" class=\"dataframe\">\n",
              "  <thead>\n",
              "    <tr style=\"text-align: right;\">\n",
              "      <th></th>\n",
              "      <th>serial_number</th>\n",
              "      <th>activity_date</th>\n",
              "      <th>facility_name</th>\n",
              "      <th>score</th>\n",
              "      <th>grade</th>\n",
              "      <th>service_code</th>\n",
              "      <th>service_description</th>\n",
              "      <th>employee_id</th>\n",
              "      <th>facility_address</th>\n",
              "      <th>facility_city</th>\n",
              "      <th>facility_id</th>\n",
              "      <th>facility_state</th>\n",
              "      <th>facility_zip</th>\n",
              "      <th>owner_id</th>\n",
              "      <th>owner_name</th>\n",
              "      <th>pe_description</th>\n",
              "      <th>program_element_pe</th>\n",
              "      <th>program_name</th>\n",
              "      <th>program_status</th>\n",
              "      <th>record_id</th>\n",
              "    </tr>\n",
              "  </thead>\n",
              "  <tbody>\n",
              "    <tr>\n",
              "      <th>0</th>\n",
              "      <td>DAJ00E07B</td>\n",
              "      <td>2017-12-29T00:00:00.000</td>\n",
              "      <td>HABITAT COFFEE SHOP</td>\n",
              "      <td>95</td>\n",
              "      <td>A</td>\n",
              "      <td>1</td>\n",
              "      <td>ROUTINE INSPECTION</td>\n",
              "      <td>EE0000923</td>\n",
              "      <td>3708 N EAGLE ROCK BLVD</td>\n",
              "      <td>LOS ANGELES</td>\n",
              "      <td>FA0170465</td>\n",
              "      <td>CA</td>\n",
              "      <td>90065</td>\n",
              "      <td>OW0178123</td>\n",
              "      <td>GLASSELL COFFEE SHOP LLC</td>\n",
              "      <td>RESTAURANT (0-30) SEATS MODERATE RISK</td>\n",
              "      <td>1631</td>\n",
              "      <td>HABITAT COFFEE SHOP</td>\n",
              "      <td>ACTIVE</td>\n",
              "      <td>PR0160774</td>\n",
              "    </tr>\n",
              "    <tr>\n",
              "      <th>1</th>\n",
              "      <td>DAQOKRFZB</td>\n",
              "      <td>2017-12-29T00:00:00.000</td>\n",
              "      <td>REILLY'S</td>\n",
              "      <td>92</td>\n",
              "      <td>A</td>\n",
              "      <td>1</td>\n",
              "      <td>ROUTINE INSPECTION</td>\n",
              "      <td>EE0000633</td>\n",
              "      <td>100 WORLD WAY # 120</td>\n",
              "      <td>LOS ANGELES</td>\n",
              "      <td>FA0244690</td>\n",
              "      <td>CA</td>\n",
              "      <td>90045</td>\n",
              "      <td>OW0208441</td>\n",
              "      <td>AREAS SKYVIEW LAX JV, LLC</td>\n",
              "      <td>RESTAURANT (0-30) SEATS MODERATE RISK</td>\n",
              "      <td>1631</td>\n",
              "      <td>REILLY'S</td>\n",
              "      <td>ACTIVE</td>\n",
              "      <td>PR0193026</td>\n",
              "    </tr>\n",
              "    <tr>\n",
              "      <th>2</th>\n",
              "      <td>DASJI4LUR</td>\n",
              "      <td>2017-12-29T00:00:00.000</td>\n",
              "      <td>STREET CHURROS</td>\n",
              "      <td>93</td>\n",
              "      <td>A</td>\n",
              "      <td>1</td>\n",
              "      <td>ROUTINE INSPECTION</td>\n",
              "      <td>EE0000835</td>\n",
              "      <td>6801 HOLLYWOOD BLVD # 253</td>\n",
              "      <td>LOS ANGELES</td>\n",
              "      <td>FA0224109</td>\n",
              "      <td>CA</td>\n",
              "      <td>90028</td>\n",
              "      <td>OW0228670</td>\n",
              "      <td>STREETCHURROS, INC</td>\n",
              "      <td>RESTAURANT (0-30) SEATS LOW RISK</td>\n",
              "      <td>1630</td>\n",
              "      <td>STREET CHURROS</td>\n",
              "      <td>ACTIVE</td>\n",
              "      <td>PR0179282</td>\n",
              "    </tr>\n",
              "    <tr>\n",
              "      <th>3</th>\n",
              "      <td>DA40LU5AT</td>\n",
              "      <td>2017-12-29T00:00:00.000</td>\n",
              "      <td>TRINITI ECHO PARK</td>\n",
              "      <td>94</td>\n",
              "      <td>A</td>\n",
              "      <td>1</td>\n",
              "      <td>ROUTINE INSPECTION</td>\n",
              "      <td>EE0000923</td>\n",
              "      <td>1814 W SUNSET BLVD</td>\n",
              "      <td>LOS ANGELES</td>\n",
              "      <td>FA0252528</td>\n",
              "      <td>CA</td>\n",
              "      <td>90026-3227</td>\n",
              "      <td>OW0246287</td>\n",
              "      <td>AMERICAN HOSPITALITY</td>\n",
              "      <td>RESTAURANT (0-30) SEATS MODERATE RISK</td>\n",
              "      <td>1631</td>\n",
              "      <td>TRINITI ECHO PARK</td>\n",
              "      <td>ACTIVE</td>\n",
              "      <td>PR0201836</td>\n",
              "    </tr>\n",
              "    <tr>\n",
              "      <th>4</th>\n",
              "      <td>DAXV2RMYC</td>\n",
              "      <td>2017-12-29T00:00:00.000</td>\n",
              "      <td>POLLEN</td>\n",
              "      <td>94</td>\n",
              "      <td>A</td>\n",
              "      <td>1</td>\n",
              "      <td>ROUTINE INSPECTION</td>\n",
              "      <td>EE0000923</td>\n",
              "      <td>2100 ECHO PARK AVE</td>\n",
              "      <td>LOS ANGELES</td>\n",
              "      <td>FA0252789</td>\n",
              "      <td>CA</td>\n",
              "      <td>90026</td>\n",
              "      <td>OW0246479</td>\n",
              "      <td>POLLEN AND PASTRY , LLC</td>\n",
              "      <td>RESTAURANT (0-30) SEATS MODERATE RISK</td>\n",
              "      <td>1631</td>\n",
              "      <td>POLLEN</td>\n",
              "      <td>ACTIVE</td>\n",
              "      <td>PR0202148</td>\n",
              "    </tr>\n",
              "  </tbody>\n",
              "</table>\n",
              "</div>"
            ],
            "text/plain": [
              "  serial_number            activity_date  ... program_status  record_id\n",
              "0     DAJ00E07B  2017-12-29T00:00:00.000  ...         ACTIVE  PR0160774\n",
              "1     DAQOKRFZB  2017-12-29T00:00:00.000  ...         ACTIVE  PR0193026\n",
              "2     DASJI4LUR  2017-12-29T00:00:00.000  ...         ACTIVE  PR0179282\n",
              "3     DA40LU5AT  2017-12-29T00:00:00.000  ...         ACTIVE  PR0201836\n",
              "4     DAXV2RMYC  2017-12-29T00:00:00.000  ...         ACTIVE  PR0202148\n",
              "\n",
              "[5 rows x 20 columns]"
            ]
          },
          "metadata": {
            "tags": []
          },
          "execution_count": 4
        }
      ]
    },
    {
      "cell_type": "code",
      "metadata": {
        "id": "2YZ86LfF7L5h",
        "colab_type": "code",
        "colab": {
          "base_uri": "https://localhost:8080/",
          "height": 34
        },
        "outputId": "565cad15-94f7-41b7-fc07-a5fde90b32a7"
      },
      "source": [
        "df.shape"
      ],
      "execution_count": 5,
      "outputs": [
        {
          "output_type": "execute_result",
          "data": {
            "text/plain": [
              "(67573, 20)"
            ]
          },
          "metadata": {
            "tags": []
          },
          "execution_count": 5
        }
      ]
    },
    {
      "cell_type": "code",
      "metadata": {
        "id": "w43uN_4t7P8A",
        "colab_type": "code",
        "colab": {
          "base_uri": "https://localhost:8080/",
          "height": 374
        },
        "outputId": "f4718356-a341-41e7-fe4e-412a5d0e9a6b"
      },
      "source": [
        "df.dtypes"
      ],
      "execution_count": 6,
      "outputs": [
        {
          "output_type": "execute_result",
          "data": {
            "text/plain": [
              "serial_number          object\n",
              "activity_date          object\n",
              "facility_name          object\n",
              "score                   int64\n",
              "grade                  object\n",
              "service_code            int64\n",
              "service_description    object\n",
              "employee_id            object\n",
              "facility_address       object\n",
              "facility_city          object\n",
              "facility_id            object\n",
              "facility_state         object\n",
              "facility_zip           object\n",
              "owner_id               object\n",
              "owner_name             object\n",
              "pe_description         object\n",
              "program_element_pe      int64\n",
              "program_name           object\n",
              "program_status         object\n",
              "record_id              object\n",
              "dtype: object"
            ]
          },
          "metadata": {
            "tags": []
          },
          "execution_count": 6
        }
      ]
    },
    {
      "cell_type": "code",
      "metadata": {
        "id": "VwrCsqEG7yNE",
        "colab_type": "code",
        "colab": {
          "base_uri": "https://localhost:8080/",
          "height": 221
        },
        "outputId": "73c95b84-f6ac-426b-c468-5a01c4632588"
      },
      "source": [
        "df.grade"
      ],
      "execution_count": 9,
      "outputs": [
        {
          "output_type": "execute_result",
          "data": {
            "text/plain": [
              "0        A\n",
              "1        A\n",
              "2        A\n",
              "3        A\n",
              "4        A\n",
              "        ..\n",
              "67568    A\n",
              "67569    A\n",
              "67570    A\n",
              "67571    A\n",
              "67572    A\n",
              "Name: grade, Length: 67573, dtype: object"
            ]
          },
          "metadata": {
            "tags": []
          },
          "execution_count": 9
        }
      ]
    },
    {
      "cell_type": "code",
      "metadata": {
        "id": "rAwwmhfd8DVf",
        "colab_type": "code",
        "colab": {
          "base_uri": "https://localhost:8080/",
          "height": 227
        },
        "outputId": "00840d68-36ae-4bef-a73b-77cb8fc0cba2"
      },
      "source": [
        "df.describe(include=[\"O\"])"
      ],
      "execution_count": 12,
      "outputs": [
        {
          "output_type": "execute_result",
          "data": {
            "text/html": [
              "<div>\n",
              "<style scoped>\n",
              "    .dataframe tbody tr th:only-of-type {\n",
              "        vertical-align: middle;\n",
              "    }\n",
              "\n",
              "    .dataframe tbody tr th {\n",
              "        vertical-align: top;\n",
              "    }\n",
              "\n",
              "    .dataframe thead th {\n",
              "        text-align: right;\n",
              "    }\n",
              "</style>\n",
              "<table border=\"1\" class=\"dataframe\">\n",
              "  <thead>\n",
              "    <tr style=\"text-align: right;\">\n",
              "      <th></th>\n",
              "      <th>serial_number</th>\n",
              "      <th>activity_date</th>\n",
              "      <th>facility_name</th>\n",
              "      <th>grade</th>\n",
              "      <th>service_description</th>\n",
              "      <th>employee_id</th>\n",
              "      <th>facility_address</th>\n",
              "      <th>facility_city</th>\n",
              "      <th>facility_id</th>\n",
              "      <th>facility_state</th>\n",
              "      <th>facility_zip</th>\n",
              "      <th>owner_id</th>\n",
              "      <th>owner_name</th>\n",
              "      <th>pe_description</th>\n",
              "      <th>program_name</th>\n",
              "      <th>program_status</th>\n",
              "      <th>record_id</th>\n",
              "    </tr>\n",
              "  </thead>\n",
              "  <tbody>\n",
              "    <tr>\n",
              "      <th>count</th>\n",
              "      <td>67573</td>\n",
              "      <td>67573</td>\n",
              "      <td>67573</td>\n",
              "      <td>67570</td>\n",
              "      <td>67573</td>\n",
              "      <td>67573</td>\n",
              "      <td>67573</td>\n",
              "      <td>67573</td>\n",
              "      <td>67573</td>\n",
              "      <td>67573</td>\n",
              "      <td>67573</td>\n",
              "      <td>67573</td>\n",
              "      <td>67573</td>\n",
              "      <td>67573</td>\n",
              "      <td>67544</td>\n",
              "      <td>67573</td>\n",
              "      <td>67573</td>\n",
              "    </tr>\n",
              "    <tr>\n",
              "      <th>unique</th>\n",
              "      <td>67573</td>\n",
              "      <td>860</td>\n",
              "      <td>12071</td>\n",
              "      <td>4</td>\n",
              "      <td>2</td>\n",
              "      <td>143</td>\n",
              "      <td>11782</td>\n",
              "      <td>1</td>\n",
              "      <td>13545</td>\n",
              "      <td>1</td>\n",
              "      <td>1053</td>\n",
              "      <td>11786</td>\n",
              "      <td>11566</td>\n",
              "      <td>30</td>\n",
              "      <td>12928</td>\n",
              "      <td>2</td>\n",
              "      <td>14558</td>\n",
              "    </tr>\n",
              "    <tr>\n",
              "      <th>top</th>\n",
              "      <td>DA3FXZYKG</td>\n",
              "      <td>2016-03-07T00:00:00.000</td>\n",
              "      <td>DODGER STADIUM</td>\n",
              "      <td>A</td>\n",
              "      <td>ROUTINE INSPECTION</td>\n",
              "      <td>EE0000721</td>\n",
              "      <td>1000 VIN SCULLY AVE</td>\n",
              "      <td>LOS ANGELES</td>\n",
              "      <td>FA0019271</td>\n",
              "      <td>CA</td>\n",
              "      <td>90012</td>\n",
              "      <td>OW0029458</td>\n",
              "      <td>RALPHS GROCERY COMPANY</td>\n",
              "      <td>RESTAURANT (0-30) SEATS HIGH RISK</td>\n",
              "      <td>SUBWAY</td>\n",
              "      <td>ACTIVE</td>\n",
              "      <td>PR0122106</td>\n",
              "    </tr>\n",
              "    <tr>\n",
              "      <th>freq</th>\n",
              "      <td>1</td>\n",
              "      <td>182</td>\n",
              "      <td>464</td>\n",
              "      <td>63134</td>\n",
              "      <td>66455</td>\n",
              "      <td>5195</td>\n",
              "      <td>467</td>\n",
              "      <td>67573</td>\n",
              "      <td>464</td>\n",
              "      <td>67573</td>\n",
              "      <td>2671</td>\n",
              "      <td>619</td>\n",
              "      <td>619</td>\n",
              "      <td>15885</td>\n",
              "      <td>175</td>\n",
              "      <td>58693</td>\n",
              "      <td>12</td>\n",
              "    </tr>\n",
              "  </tbody>\n",
              "</table>\n",
              "</div>"
            ],
            "text/plain": [
              "       serial_number            activity_date  ... program_status  record_id\n",
              "count          67573                    67573  ...          67573      67573\n",
              "unique         67573                      860  ...              2      14558\n",
              "top        DA3FXZYKG  2016-03-07T00:00:00.000  ...         ACTIVE  PR0122106\n",
              "freq               1                      182  ...          58693         12\n",
              "\n",
              "[4 rows x 17 columns]"
            ]
          },
          "metadata": {
            "tags": []
          },
          "execution_count": 12
        }
      ]
    },
    {
      "cell_type": "code",
      "metadata": {
        "id": "OSy9edvr8ffX",
        "colab_type": "code",
        "colab": {}
      },
      "source": [
        "import matplotlib as mpl\n",
        "import matplotlib.pyplot as plt"
      ],
      "execution_count": 0,
      "outputs": []
    },
    {
      "cell_type": "code",
      "metadata": {
        "id": "QqSmL4eJ9AwZ",
        "colab_type": "code",
        "colab": {
          "base_uri": "https://localhost:8080/",
          "height": 280
        },
        "outputId": "081c44e3-4c86-445c-b17a-4b15372e9536"
      },
      "source": [
        "df.plot(kind='line')\n",
        "\n",
        "\n",
        "plt.ylabel('grade')\n",
        "plt.xlabel('facility_name')\n",
        "\n",
        "plt.show()"
      ],
      "execution_count": 14,
      "outputs": [
        {
          "output_type": "display_data",
          "data": {
            "image/png": "[encoded data removed]",
            "text/plain": [
              "<Figure size 432x288 with 1 Axes>"
            ]
          },
          "metadata": {
            "tags": [],
            "needs_background": "light"
          }
        }
      ]
    },
    {
      "cell_type": "code",
      "metadata": {
        "id": "O_cTlMdI9Qvg",
        "colab_type": "code",
        "colab": {}
      },
      "source": [
        "vio_df = pd.read_csv('/content/drive/My Drive/project for colab/la-restaurant-market-health-data/restaurant-and-market-health-violations.csv')"
      ],
      "execution_count": 0,
      "outputs": []
    },
    {
      "cell_type": "code",
      "metadata": {
        "id": "D2hTsz1192wQ",
        "colab_type": "code",
        "colab": {
          "base_uri": "https://localhost:8080/",
          "height": 394
        },
        "outputId": "e0d909cb-64de-4637-9dd0-75771c99383a"
      },
      "source": [
        "vio_df.head()"
      ],
      "execution_count": 16,
      "outputs": [
        {
          "output_type": "execute_result",
          "data": {
            "text/html": [
              "<div>\n",
              "<style scoped>\n",
              "    .dataframe tbody tr th:only-of-type {\n",
              "        vertical-align: middle;\n",
              "    }\n",
              "\n",
              "    .dataframe tbody tr th {\n",
              "        vertical-align: top;\n",
              "    }\n",
              "\n",
              "    .dataframe thead th {\n",
              "        text-align: right;\n",
              "    }\n",
              "</style>\n",
              "<table border=\"1\" class=\"dataframe\">\n",
              "  <thead>\n",
              "    <tr style=\"text-align: right;\">\n",
              "      <th></th>\n",
              "      <th>serial_number</th>\n",
              "      <th>activity_date</th>\n",
              "      <th>facility_name</th>\n",
              "      <th>violation_code</th>\n",
              "      <th>violation_description</th>\n",
              "      <th>violation_status</th>\n",
              "      <th>points</th>\n",
              "      <th>grade</th>\n",
              "      <th>facility_address</th>\n",
              "      <th>facility_city</th>\n",
              "      <th>facility_id</th>\n",
              "      <th>facility_state</th>\n",
              "      <th>facility_zip</th>\n",
              "      <th>employee_id</th>\n",
              "      <th>owner_id</th>\n",
              "      <th>owner_name</th>\n",
              "      <th>pe_description</th>\n",
              "      <th>program_element_pe</th>\n",
              "      <th>program_name</th>\n",
              "      <th>program_status</th>\n",
              "      <th>record_id</th>\n",
              "      <th>score</th>\n",
              "      <th>service_code</th>\n",
              "      <th>service_description</th>\n",
              "      <th>row_id</th>\n",
              "    </tr>\n",
              "  </thead>\n",
              "  <tbody>\n",
              "    <tr>\n",
              "      <th>0</th>\n",
              "      <td>DA08R0TCU</td>\n",
              "      <td>2018-03-30T00:00:00.000</td>\n",
              "      <td>KRUANG TEDD</td>\n",
              "      <td>F030</td>\n",
              "      <td># 30. Food properly stored; food storage conta...</td>\n",
              "      <td>OUT OF COMPLIANCE</td>\n",
              "      <td>1</td>\n",
              "      <td>A</td>\n",
              "      <td>5151 HOLLYWOOD BLVD</td>\n",
              "      <td>LOS ANGELES</td>\n",
              "      <td>FA0064949</td>\n",
              "      <td>CA</td>\n",
              "      <td>90027</td>\n",
              "      <td>EE0000857</td>\n",
              "      <td>OW0001034</td>\n",
              "      <td>5151 HOLLYWOOD LLC</td>\n",
              "      <td>RESTAURANT (31-60) SEATS HIGH RISK</td>\n",
              "      <td>1635</td>\n",
              "      <td>KRUANG TEDD</td>\n",
              "      <td>ACTIVE</td>\n",
              "      <td>PR0031205</td>\n",
              "      <td>92</td>\n",
              "      <td>1</td>\n",
              "      <td>ROUTINE INSPECTION</td>\n",
              "      <td>DA08R0TCUF030</td>\n",
              "    </tr>\n",
              "    <tr>\n",
              "      <th>1</th>\n",
              "      <td>DA08R0TCU</td>\n",
              "      <td>2018-03-30T00:00:00.000</td>\n",
              "      <td>KRUANG TEDD</td>\n",
              "      <td>F027</td>\n",
              "      <td># 27. Food separated and protected</td>\n",
              "      <td>OUT OF COMPLIANCE</td>\n",
              "      <td>1</td>\n",
              "      <td>A</td>\n",
              "      <td>5151 HOLLYWOOD BLVD</td>\n",
              "      <td>LOS ANGELES</td>\n",
              "      <td>FA0064949</td>\n",
              "      <td>CA</td>\n",
              "      <td>90027</td>\n",
              "      <td>EE0000857</td>\n",
              "      <td>OW0001034</td>\n",
              "      <td>5151 HOLLYWOOD LLC</td>\n",
              "      <td>RESTAURANT (31-60) SEATS HIGH RISK</td>\n",
              "      <td>1635</td>\n",
              "      <td>KRUANG TEDD</td>\n",
              "      <td>ACTIVE</td>\n",
              "      <td>PR0031205</td>\n",
              "      <td>92</td>\n",
              "      <td>1</td>\n",
              "      <td>ROUTINE INSPECTION</td>\n",
              "      <td>DA08R0TCUF027</td>\n",
              "    </tr>\n",
              "    <tr>\n",
              "      <th>2</th>\n",
              "      <td>DA08R0TCU</td>\n",
              "      <td>2018-03-30T00:00:00.000</td>\n",
              "      <td>KRUANG TEDD</td>\n",
              "      <td>F035</td>\n",
              "      <td># 35. Equipment/Utensils - approved; installed...</td>\n",
              "      <td>OUT OF COMPLIANCE</td>\n",
              "      <td>1</td>\n",
              "      <td>A</td>\n",
              "      <td>5151 HOLLYWOOD BLVD</td>\n",
              "      <td>LOS ANGELES</td>\n",
              "      <td>FA0064949</td>\n",
              "      <td>CA</td>\n",
              "      <td>90027</td>\n",
              "      <td>EE0000857</td>\n",
              "      <td>OW0001034</td>\n",
              "      <td>5151 HOLLYWOOD LLC</td>\n",
              "      <td>RESTAURANT (31-60) SEATS HIGH RISK</td>\n",
              "      <td>1635</td>\n",
              "      <td>KRUANG TEDD</td>\n",
              "      <td>ACTIVE</td>\n",
              "      <td>PR0031205</td>\n",
              "      <td>92</td>\n",
              "      <td>1</td>\n",
              "      <td>ROUTINE INSPECTION</td>\n",
              "      <td>DA08R0TCUF035</td>\n",
              "    </tr>\n",
              "    <tr>\n",
              "      <th>3</th>\n",
              "      <td>DA08R0TCU</td>\n",
              "      <td>2018-03-30T00:00:00.000</td>\n",
              "      <td>KRUANG TEDD</td>\n",
              "      <td>F033</td>\n",
              "      <td># 33. Nonfood-contact surfaces clean and in go...</td>\n",
              "      <td>OUT OF COMPLIANCE</td>\n",
              "      <td>1</td>\n",
              "      <td>A</td>\n",
              "      <td>5151 HOLLYWOOD BLVD</td>\n",
              "      <td>LOS ANGELES</td>\n",
              "      <td>FA0064949</td>\n",
              "      <td>CA</td>\n",
              "      <td>90027</td>\n",
              "      <td>EE0000857</td>\n",
              "      <td>OW0001034</td>\n",
              "      <td>5151 HOLLYWOOD LLC</td>\n",
              "      <td>RESTAURANT (31-60) SEATS HIGH RISK</td>\n",
              "      <td>1635</td>\n",
              "      <td>KRUANG TEDD</td>\n",
              "      <td>ACTIVE</td>\n",
              "      <td>PR0031205</td>\n",
              "      <td>92</td>\n",
              "      <td>1</td>\n",
              "      <td>ROUTINE INSPECTION</td>\n",
              "      <td>DA08R0TCUF033</td>\n",
              "    </tr>\n",
              "    <tr>\n",
              "      <th>4</th>\n",
              "      <td>DA08R0TCU</td>\n",
              "      <td>2018-03-30T00:00:00.000</td>\n",
              "      <td>KRUANG TEDD</td>\n",
              "      <td>F029</td>\n",
              "      <td># 29. Toxic substances properly identified, st...</td>\n",
              "      <td>OUT OF COMPLIANCE</td>\n",
              "      <td>1</td>\n",
              "      <td>A</td>\n",
              "      <td>5151 HOLLYWOOD BLVD</td>\n",
              "      <td>LOS ANGELES</td>\n",
              "      <td>FA0064949</td>\n",
              "      <td>CA</td>\n",
              "      <td>90027</td>\n",
              "      <td>EE0000857</td>\n",
              "      <td>OW0001034</td>\n",
              "      <td>5151 HOLLYWOOD LLC</td>\n",
              "      <td>RESTAURANT (31-60) SEATS HIGH RISK</td>\n",
              "      <td>1635</td>\n",
              "      <td>KRUANG TEDD</td>\n",
              "      <td>ACTIVE</td>\n",
              "      <td>PR0031205</td>\n",
              "      <td>92</td>\n",
              "      <td>1</td>\n",
              "      <td>ROUTINE INSPECTION</td>\n",
              "      <td>DA08R0TCUF029</td>\n",
              "    </tr>\n",
              "  </tbody>\n",
              "</table>\n",
              "</div>"
            ],
            "text/plain": [
              "  serial_number            activity_date  ... service_description         row_id\n",
              "0     DA08R0TCU  2018-03-30T00:00:00.000  ...  ROUTINE INSPECTION  DA08R0TCUF030\n",
              "1     DA08R0TCU  2018-03-30T00:00:00.000  ...  ROUTINE INSPECTION  DA08R0TCUF027\n",
              "2     DA08R0TCU  2018-03-30T00:00:00.000  ...  ROUTINE INSPECTION  DA08R0TCUF035\n",
              "3     DA08R0TCU  2018-03-30T00:00:00.000  ...  ROUTINE INSPECTION  DA08R0TCUF033\n",
              "4     DA08R0TCU  2018-03-30T00:00:00.000  ...  ROUTINE INSPECTION  DA08R0TCUF029\n",
              "\n",
              "[5 rows x 25 columns]"
            ]
          },
          "metadata": {
            "tags": []
          },
          "execution_count": 16
        }
      ]
    },
    {
      "cell_type": "code",
      "metadata": {
        "id": "EF44OiLf95Z4",
        "colab_type": "code",
        "colab": {}
      },
      "source": [
        ""
      ],
      "execution_count": 0,
      "outputs": []
    }
  ]
}