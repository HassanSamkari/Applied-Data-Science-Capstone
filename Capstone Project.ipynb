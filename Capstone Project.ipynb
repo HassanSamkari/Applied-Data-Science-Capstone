{
  "nbformat": 4,
  "nbformat_minor": 0,
  "metadata": {
    "name": "final capstone project",
    "notebookId": 4305624862839516,
    "colab": {
      "name": "Capstone Project.ipynb",
      "provenance": [],
      "toc_visible": true
    },
    "kernelspec": {
      "name": "python3",
      "display_name": "Python 3"
    }
  },
  "cells": [
    {
      "cell_type": "markdown",
      "metadata": {
        "id": "fqGFbBSJYxja",
        "colab_type": "text"
      },
      "source": [
        "Import libraries"
      ]
    },
    {
      "cell_type": "code",
      "metadata": {
        "id": "aWPECbgjYxjc",
        "colab_type": "code",
        "colab": {}
      },
      "source": [
        "#libraries to manipulate dataset\n",
        "import pandas as pd \n",
        "import numpy as np \n",
        "\n",
        "# library to visualize the data\n",
        "import matplotlib.pyplot as plt\n",
        "\n",
        "\n",
        "#libraries for normalization and split data \n",
        "from sklearn import preprocessing\n",
        "from sklearn.model_selection import train_test_split\n",
        "\n",
        "#libraries for model\n",
        "from sklearn.tree import DecisionTreeClassifier\n",
        "from sklearn.linear_model import LogisticRegression\n",
        "from sklearn import svm\n",
        "\n",
        "#libraries for evaluation th model\n",
        "\n",
        "from sklearn.metrics import classification_report, confusion_matrix\n",
        "\n",
        "\n",
        "import itertools\n"
      ],
      "execution_count": 0,
      "outputs": []
    },
    {
      "cell_type": "markdown",
      "metadata": {
        "id": "T-vJYPjCYxjl",
        "colab_type": "text"
      },
      "source": [
        "## Data pre-processing and  Visulationa dataframe"
      ]
    },
    {
      "cell_type": "markdown",
      "metadata": {
        "id": "B2gL94NxYxjm",
        "colab_type": "text"
      },
      "source": [
        "load product data"
      ]
    },
    {
      "cell_type": "code",
      "metadata": {
        "id": "LaeNJiT7Yxjm",
        "colab_type": "code",
        "outputId": "bd7bf69b-b66d-4bb1-f918-0a298d44b3a6",
        "colab": {
          "base_uri": "https://localhost:8080/",
          "height": 221
        }
      },
      "source": [
        "products = pd.read_csv(\"/content/products.csv\")\n",
        "print(\"shape:\", products.shape)\n",
        "products.head()"
      ],
      "execution_count": 89,
      "outputs": [
        {
          "output_type": "stream",
          "text": [
            "shape: (15238, 4)\n"
          ],
          "name": "stdout"
        },
        {
          "output_type": "execute_result",
          "data": {
            "text/html": [
              "<div>\n",
              "<style scoped>\n",
              "    .dataframe tbody tr th:only-of-type {\n",
              "        vertical-align: middle;\n",
              "    }\n",
              "\n",
              "    .dataframe tbody tr th {\n",
              "        vertical-align: top;\n",
              "    }\n",
              "\n",
              "    .dataframe thead th {\n",
              "        text-align: right;\n",
              "    }\n",
              "</style>\n",
              "<table border=\"1\" class=\"dataframe\">\n",
              "  <thead>\n",
              "    <tr style=\"text-align: right;\">\n",
              "      <th></th>\n",
              "      <th>product_id</th>\n",
              "      <th>family_id</th>\n",
              "      <th>subfamily_id</th>\n",
              "      <th>price</th>\n",
              "    </tr>\n",
              "  </thead>\n",
              "  <tbody>\n",
              "    <tr>\n",
              "      <th>0</th>\n",
              "      <td>151926</td>\n",
              "      <td>396066037</td>\n",
              "      <td>335531561</td>\n",
              "      <td>25.95</td>\n",
              "    </tr>\n",
              "    <tr>\n",
              "      <th>1</th>\n",
              "      <td>213413</td>\n",
              "      <td>552529755</td>\n",
              "      <td>11509337</td>\n",
              "      <td>19.95</td>\n",
              "    </tr>\n",
              "    <tr>\n",
              "      <th>2</th>\n",
              "      <td>310130</td>\n",
              "      <td>679611953</td>\n",
              "      <td>533441312</td>\n",
              "      <td>12.95</td>\n",
              "    </tr>\n",
              "    <tr>\n",
              "      <th>3</th>\n",
              "      <td>373883</td>\n",
              "      <td>775013441</td>\n",
              "      <td>62518413</td>\n",
              "      <td>17.95</td>\n",
              "    </tr>\n",
              "    <tr>\n",
              "      <th>4</th>\n",
              "      <td>455200</td>\n",
              "      <td>998145072</td>\n",
              "      <td>490222156</td>\n",
              "      <td>29.95</td>\n",
              "    </tr>\n",
              "  </tbody>\n",
              "</table>\n",
              "</div>"
            ],
            "text/plain": [
              "   product_id  family_id  subfamily_id  price\n",
              "0      151926  396066037     335531561  25.95\n",
              "1      213413  552529755      11509337  19.95\n",
              "2      310130  679611953     533441312  12.95\n",
              "3      373883  775013441      62518413  17.95\n",
              "4      455200  998145072     490222156  29.95"
            ]
          },
          "metadata": {
            "tags": []
          },
          "execution_count": 89
        }
      ]
    },
    {
      "cell_type": "code",
      "metadata": {
        "id": "7sMidMLDYxjt",
        "colab_type": "code",
        "outputId": "58723185-c04f-4bfc-f2d3-053b04d7dbf6",
        "colab": {
          "base_uri": "https://localhost:8080/",
          "height": 34
        }
      },
      "source": [
        "products.price.mean()"
      ],
      "execution_count": 90,
      "outputs": [
        {
          "output_type": "execute_result",
          "data": {
            "text/plain": [
              "25.34484840530919"
            ]
          },
          "metadata": {
            "tags": []
          },
          "execution_count": 90
        }
      ]
    },
    {
      "cell_type": "markdown",
      "metadata": {
        "id": "Zjc3uIDXYxjy",
        "colab_type": "text"
      },
      "source": [
        "load sales data"
      ]
    },
    {
      "cell_type": "code",
      "metadata": {
        "id": "Ma-ad6nFYxj2",
        "colab_type": "code",
        "outputId": "bda4c14b-224a-480d-c897-c01a1eac5068",
        "colab": {
          "base_uri": "https://localhost:8080/",
          "height": 221
        }
      },
      "source": [
        "sales = pd.read_csv('/content/sales_stock.csv' ) \n",
        "print(\"shape:\",sales.shape)\n",
        "sales.head()"
      ],
      "execution_count": 91,
      "outputs": [
        {
          "output_type": "stream",
          "text": [
            "shape: (3736218, 6)\n"
          ],
          "name": "stdout"
        },
        {
          "output_type": "execute_result",
          "data": {
            "text/html": [
              "<div>\n",
              "<style scoped>\n",
              "    .dataframe tbody tr th:only-of-type {\n",
              "        vertical-align: middle;\n",
              "    }\n",
              "\n",
              "    .dataframe tbody tr th {\n",
              "        vertical-align: top;\n",
              "    }\n",
              "\n",
              "    .dataframe thead th {\n",
              "        text-align: right;\n",
              "    }\n",
              "</style>\n",
              "<table border=\"1\" class=\"dataframe\">\n",
              "  <thead>\n",
              "    <tr style=\"text-align: right;\">\n",
              "      <th></th>\n",
              "      <th>date_number</th>\n",
              "      <th>product_id</th>\n",
              "      <th>color_id</th>\n",
              "      <th>size_id</th>\n",
              "      <th>sales</th>\n",
              "      <th>stock</th>\n",
              "    </tr>\n",
              "  </thead>\n",
              "  <tbody>\n",
              "    <tr>\n",
              "      <th>0</th>\n",
              "      <td>0</td>\n",
              "      <td>310130</td>\n",
              "      <td>78467031</td>\n",
              "      <td>7026791</td>\n",
              "      <td>1</td>\n",
              "      <td>93</td>\n",
              "    </tr>\n",
              "    <tr>\n",
              "      <th>1</th>\n",
              "      <td>0</td>\n",
              "      <td>310130</td>\n",
              "      <td>78467031</td>\n",
              "      <td>8015276</td>\n",
              "      <td>2</td>\n",
              "      <td>62</td>\n",
              "    </tr>\n",
              "    <tr>\n",
              "      <th>2</th>\n",
              "      <td>0</td>\n",
              "      <td>310130</td>\n",
              "      <td>78467031</td>\n",
              "      <td>452052101</td>\n",
              "      <td>1</td>\n",
              "      <td>18</td>\n",
              "    </tr>\n",
              "    <tr>\n",
              "      <th>3</th>\n",
              "      <td>0</td>\n",
              "      <td>310130</td>\n",
              "      <td>78467031</td>\n",
              "      <td>541898038</td>\n",
              "      <td>2</td>\n",
              "      <td>42</td>\n",
              "    </tr>\n",
              "    <tr>\n",
              "      <th>4</th>\n",
              "      <td>0</td>\n",
              "      <td>310130</td>\n",
              "      <td>78467031</td>\n",
              "      <td>558685710</td>\n",
              "      <td>3</td>\n",
              "      <td>113</td>\n",
              "    </tr>\n",
              "  </tbody>\n",
              "</table>\n",
              "</div>"
            ],
            "text/plain": [
              "   date_number  product_id  color_id    size_id  sales  stock\n",
              "0            0      310130  78467031    7026791      1     93\n",
              "1            0      310130  78467031    8015276      2     62\n",
              "2            0      310130  78467031  452052101      1     18\n",
              "3            0      310130  78467031  541898038      2     42\n",
              "4            0      310130  78467031  558685710      3    113"
            ]
          },
          "metadata": {
            "tags": []
          },
          "execution_count": 91
        }
      ]
    },
    {
      "cell_type": "markdown",
      "metadata": {
        "id": "gLRVW6iUYxj7",
        "colab_type": "text"
      },
      "source": [
        "create data frame for sales by day"
      ]
    },
    {
      "cell_type": "code",
      "metadata": {
        "id": "I7oZZJe8Yxj9",
        "colab_type": "code",
        "outputId": "93de8de6-3449-460e-da7c-4bd774d10916",
        "colab": {
          "base_uri": "https://localhost:8080/",
          "height": 204
        }
      },
      "source": [
        "sales_day=pd.DataFrame(sales.groupby(['date_number']).sum()['sales']).reset_index()\n",
        "sales_day.head()"
      ],
      "execution_count": 92,
      "outputs": [
        {
          "output_type": "execute_result",
          "data": {
            "text/html": [
              "<div>\n",
              "<style scoped>\n",
              "    .dataframe tbody tr th:only-of-type {\n",
              "        vertical-align: middle;\n",
              "    }\n",
              "\n",
              "    .dataframe tbody tr th {\n",
              "        vertical-align: top;\n",
              "    }\n",
              "\n",
              "    .dataframe thead th {\n",
              "        text-align: right;\n",
              "    }\n",
              "</style>\n",
              "<table border=\"1\" class=\"dataframe\">\n",
              "  <thead>\n",
              "    <tr style=\"text-align: right;\">\n",
              "      <th></th>\n",
              "      <th>date_number</th>\n",
              "      <th>sales</th>\n",
              "    </tr>\n",
              "  </thead>\n",
              "  <tbody>\n",
              "    <tr>\n",
              "      <th>0</th>\n",
              "      <td>0</td>\n",
              "      <td>30609</td>\n",
              "    </tr>\n",
              "    <tr>\n",
              "      <th>1</th>\n",
              "      <td>1</td>\n",
              "      <td>29806</td>\n",
              "    </tr>\n",
              "    <tr>\n",
              "      <th>2</th>\n",
              "      <td>2</td>\n",
              "      <td>28408</td>\n",
              "    </tr>\n",
              "    <tr>\n",
              "      <th>3</th>\n",
              "      <td>3</td>\n",
              "      <td>30983</td>\n",
              "    </tr>\n",
              "    <tr>\n",
              "      <th>4</th>\n",
              "      <td>4</td>\n",
              "      <td>40190</td>\n",
              "    </tr>\n",
              "  </tbody>\n",
              "</table>\n",
              "</div>"
            ],
            "text/plain": [
              "   date_number  sales\n",
              "0            0  30609\n",
              "1            1  29806\n",
              "2            2  28408\n",
              "3            3  30983\n",
              "4            4  40190"
            ]
          },
          "metadata": {
            "tags": []
          },
          "execution_count": 92
        }
      ]
    },
    {
      "cell_type": "code",
      "metadata": {
        "id": "97y8BqusYxkB",
        "colab_type": "code",
        "outputId": "fbef9974-04cb-4a8e-c672-ec950d43a1b2",
        "colab": {
          "base_uri": "https://localhost:8080/",
          "height": 810
        }
      },
      "source": [
        "x = sales_day['date_number']\n",
        "y = sales_day['sales']\n",
        "\n",
        "\n",
        "plt.figure(figsize=(10,8))\n",
        "plt.plot(x,y)\n",
        "#plt.ylabel('Sales', fontsize=14)\n",
        "plt.xlabel('Days',fontsize=14)\n",
        "plt.title('Total sales by day',fontsize=14)\n",
        "plt.legend(loc='upper lift', fontsize=14)\n",
        "# Annotate arrow\n",
        "plt.annotate('trend B',\n",
        "            xy=(15,64200 ), xycoords='data',\n",
        "            xytext=(-70, 20), textcoords='offset points',\n",
        "            arrowprops=dict(arrowstyle=\"->\",\n",
        "                            connectionstyle=\"arc,angleA=0,armA=50,rad=10\"))\n",
        "\n",
        "plt.annotate('Cut off the data',\n",
        "            xy=(71,36000 ), xycoords='data',\n",
        "            xytext=(-80, 100), textcoords='offset points',\n",
        "            arrowprops=dict(arrowstyle=\"->\",\n",
        "                            connectionstyle=\"arc,angleA=0,armA=80,rad=30\"))\n",
        "\n",
        "plt.annotate('trend A',\n",
        "            xy=(79,81000 ), xycoords='data',\n",
        "            xytext=(-80, 0), textcoords='offset points',\n",
        "            arrowprops=dict(arrowstyle=\"->\",\n",
        "                            connectionstyle=\"arc,angleA=0,armA=50,rad=10\"))\n",
        "plt.annotate('trend C',\n",
        "            xy=(32,48000 ), xycoords='data',\n",
        "            xytext=(-70, 20), textcoords='offset points',\n",
        "            arrowprops=dict(arrowstyle=\"->\",\n",
        "                            connectionstyle=\"arc,angleA=0,armA=50,rad=10\"))\n",
        "\n",
        "a=plt.show()\n",
        "display(a)"
      ],
      "execution_count": 93,
      "outputs": [
        {
          "output_type": "stream",
          "text": [
            "No handles with labels found to put in legend.\n",
            "/usr/local/lib/python3.6/dist-packages/ipykernel_launcher.py:10: MatplotlibDeprecationWarning: Unrecognized location 'upper lift'. Falling back on 'best'; valid locations are\n",
            "\tbest\n",
            "\tupper right\n",
            "\tupper left\n",
            "\tlower left\n",
            "\tlower right\n",
            "\tright\n",
            "\tcenter left\n",
            "\tcenter right\n",
            "\tlower center\n",
            "\tupper center\n",
            "\tcenter\n",
            "This will raise an exception in 3.3.\n",
            "  # Remove the CWD from sys.path while we load stuff.\n"
          ],
          "name": "stderr"
        },
        {
          "output_type": "display_data",
          "data": {
            "image/png": "[encoded data removed]",
            "text/plain": [
              "<Figure size 720x576 with 1 Axes>"
            ]
          },
          "metadata": {
            "tags": [],
            "needs_background": "light"
          }
        },
        {
          "output_type": "display_data",
          "data": {
            "text/plain": [
              "None"
            ]
          },
          "metadata": {
            "tags": []
          }
        }
      ]
    },
    {
      "cell_type": "markdown",
      "metadata": {
        "id": "xgcmRjHAYxkF",
        "colab_type": "text"
      },
      "source": [
        "since the goal is to predicte demand for next 3 weeks, the dataset split train(0-71) and test(72-91)"
      ]
    },
    {
      "cell_type": "code",
      "metadata": {
        "id": "fwAN29KA3iGr",
        "colab_type": "code",
        "colab": {}
      },
      "source": [
        "s = 71\n"
      ],
      "execution_count": 0,
      "outputs": []
    },
    {
      "cell_type": "code",
      "metadata": {
        "id": "o2loTfW5YxkF",
        "colab_type": "code",
        "colab": {}
      },
      "source": [
        "train_sales = sales[sales['date_number'] <= s].reset_index(drop=True)\n",
        "test_sales  = sales[sales['date_number'] >= s].reset_index(drop=True)"
      ],
      "execution_count": 0,
      "outputs": []
    },
    {
      "cell_type": "code",
      "metadata": {
        "id": "Xlhnuc_0YxkJ",
        "colab_type": "code",
        "outputId": "45fe47ec-3a5c-471f-9d4d-0ccf0113eee4",
        "colab": {
          "base_uri": "https://localhost:8080/",
          "height": 221
        }
      },
      "source": [
        "print(train_sales.shape)\n",
        "train_sales.head()"
      ],
      "execution_count": 96,
      "outputs": [
        {
          "output_type": "stream",
          "text": [
            "(2798946, 6)\n"
          ],
          "name": "stdout"
        },
        {
          "output_type": "execute_result",
          "data": {
            "text/html": [
              "<div>\n",
              "<style scoped>\n",
              "    .dataframe tbody tr th:only-of-type {\n",
              "        vertical-align: middle;\n",
              "    }\n",
              "\n",
              "    .dataframe tbody tr th {\n",
              "        vertical-align: top;\n",
              "    }\n",
              "\n",
              "    .dataframe thead th {\n",
              "        text-align: right;\n",
              "    }\n",
              "</style>\n",
              "<table border=\"1\" class=\"dataframe\">\n",
              "  <thead>\n",
              "    <tr style=\"text-align: right;\">\n",
              "      <th></th>\n",
              "      <th>date_number</th>\n",
              "      <th>product_id</th>\n",
              "      <th>color_id</th>\n",
              "      <th>size_id</th>\n",
              "      <th>sales</th>\n",
              "      <th>stock</th>\n",
              "    </tr>\n",
              "  </thead>\n",
              "  <tbody>\n",
              "    <tr>\n",
              "      <th>0</th>\n",
              "      <td>0</td>\n",
              "      <td>310130</td>\n",
              "      <td>78467031</td>\n",
              "      <td>7026791</td>\n",
              "      <td>1</td>\n",
              "      <td>93</td>\n",
              "    </tr>\n",
              "    <tr>\n",
              "      <th>1</th>\n",
              "      <td>0</td>\n",
              "      <td>310130</td>\n",
              "      <td>78467031</td>\n",
              "      <td>8015276</td>\n",
              "      <td>2</td>\n",
              "      <td>62</td>\n",
              "    </tr>\n",
              "    <tr>\n",
              "      <th>2</th>\n",
              "      <td>0</td>\n",
              "      <td>310130</td>\n",
              "      <td>78467031</td>\n",
              "      <td>452052101</td>\n",
              "      <td>1</td>\n",
              "      <td>18</td>\n",
              "    </tr>\n",
              "    <tr>\n",
              "      <th>3</th>\n",
              "      <td>0</td>\n",
              "      <td>310130</td>\n",
              "      <td>78467031</td>\n",
              "      <td>541898038</td>\n",
              "      <td>2</td>\n",
              "      <td>42</td>\n",
              "    </tr>\n",
              "    <tr>\n",
              "      <th>4</th>\n",
              "      <td>0</td>\n",
              "      <td>310130</td>\n",
              "      <td>78467031</td>\n",
              "      <td>558685710</td>\n",
              "      <td>3</td>\n",
              "      <td>113</td>\n",
              "    </tr>\n",
              "  </tbody>\n",
              "</table>\n",
              "</div>"
            ],
            "text/plain": [
              "   date_number  product_id  color_id    size_id  sales  stock\n",
              "0            0      310130  78467031    7026791      1     93\n",
              "1            0      310130  78467031    8015276      2     62\n",
              "2            0      310130  78467031  452052101      1     18\n",
              "3            0      310130  78467031  541898038      2     42\n",
              "4            0      310130  78467031  558685710      3    113"
            ]
          },
          "metadata": {
            "tags": []
          },
          "execution_count": 96
        }
      ]
    },
    {
      "cell_type": "code",
      "metadata": {
        "id": "WrsdmtfS2sQS",
        "colab_type": "code",
        "colab": {
          "base_uri": "https://localhost:8080/",
          "height": 204
        },
        "outputId": "00bb2638-0b01-4d1b-d320-77be0e1390e9"
      },
      "source": [
        "train_sales.tail()"
      ],
      "execution_count": 97,
      "outputs": [
        {
          "output_type": "execute_result",
          "data": {
            "text/html": [
              "<div>\n",
              "<style scoped>\n",
              "    .dataframe tbody tr th:only-of-type {\n",
              "        vertical-align: middle;\n",
              "    }\n",
              "\n",
              "    .dataframe tbody tr th {\n",
              "        vertical-align: top;\n",
              "    }\n",
              "\n",
              "    .dataframe thead th {\n",
              "        text-align: right;\n",
              "    }\n",
              "</style>\n",
              "<table border=\"1\" class=\"dataframe\">\n",
              "  <thead>\n",
              "    <tr style=\"text-align: right;\">\n",
              "      <th></th>\n",
              "      <th>date_number</th>\n",
              "      <th>product_id</th>\n",
              "      <th>color_id</th>\n",
              "      <th>size_id</th>\n",
              "      <th>sales</th>\n",
              "      <th>stock</th>\n",
              "    </tr>\n",
              "  </thead>\n",
              "  <tbody>\n",
              "    <tr>\n",
              "      <th>2798941</th>\n",
              "      <td>71</td>\n",
              "      <td>999936664</td>\n",
              "      <td>842213539</td>\n",
              "      <td>541898038</td>\n",
              "      <td>0</td>\n",
              "      <td>31</td>\n",
              "    </tr>\n",
              "    <tr>\n",
              "      <th>2798942</th>\n",
              "      <td>71</td>\n",
              "      <td>999936664</td>\n",
              "      <td>842213539</td>\n",
              "      <td>704351195</td>\n",
              "      <td>0</td>\n",
              "      <td>37</td>\n",
              "    </tr>\n",
              "    <tr>\n",
              "      <th>2798943</th>\n",
              "      <td>71</td>\n",
              "      <td>999936664</td>\n",
              "      <td>842213539</td>\n",
              "      <td>727657238</td>\n",
              "      <td>0</td>\n",
              "      <td>35</td>\n",
              "    </tr>\n",
              "    <tr>\n",
              "      <th>2798944</th>\n",
              "      <td>71</td>\n",
              "      <td>999936664</td>\n",
              "      <td>842213539</td>\n",
              "      <td>792872119</td>\n",
              "      <td>0</td>\n",
              "      <td>22</td>\n",
              "    </tr>\n",
              "    <tr>\n",
              "      <th>2798945</th>\n",
              "      <td>71</td>\n",
              "      <td>999936664</td>\n",
              "      <td>842213539</td>\n",
              "      <td>912547955</td>\n",
              "      <td>0</td>\n",
              "      <td>35</td>\n",
              "    </tr>\n",
              "  </tbody>\n",
              "</table>\n",
              "</div>"
            ],
            "text/plain": [
              "         date_number  product_id   color_id    size_id  sales  stock\n",
              "2798941           71   999936664  842213539  541898038      0     31\n",
              "2798942           71   999936664  842213539  704351195      0     37\n",
              "2798943           71   999936664  842213539  727657238      0     35\n",
              "2798944           71   999936664  842213539  792872119      0     22\n",
              "2798945           71   999936664  842213539  912547955      0     35"
            ]
          },
          "metadata": {
            "tags": []
          },
          "execution_count": 97
        }
      ]
    },
    {
      "cell_type": "code",
      "metadata": {
        "id": "EJ2tDsFVYxkP",
        "colab_type": "code",
        "outputId": "02b334d4-0335-4ee0-ae88-55c676f4bc85",
        "colab": {
          "base_uri": "https://localhost:8080/",
          "height": 221
        }
      },
      "source": [
        "print(test_sales.shape)\n",
        "test_sales.head()"
      ],
      "execution_count": 98,
      "outputs": [
        {
          "output_type": "stream",
          "text": [
            "(984545, 6)\n"
          ],
          "name": "stdout"
        },
        {
          "output_type": "execute_result",
          "data": {
            "text/html": [
              "<div>\n",
              "<style scoped>\n",
              "    .dataframe tbody tr th:only-of-type {\n",
              "        vertical-align: middle;\n",
              "    }\n",
              "\n",
              "    .dataframe tbody tr th {\n",
              "        vertical-align: top;\n",
              "    }\n",
              "\n",
              "    .dataframe thead th {\n",
              "        text-align: right;\n",
              "    }\n",
              "</style>\n",
              "<table border=\"1\" class=\"dataframe\">\n",
              "  <thead>\n",
              "    <tr style=\"text-align: right;\">\n",
              "      <th></th>\n",
              "      <th>date_number</th>\n",
              "      <th>product_id</th>\n",
              "      <th>color_id</th>\n",
              "      <th>size_id</th>\n",
              "      <th>sales</th>\n",
              "      <th>stock</th>\n",
              "    </tr>\n",
              "  </thead>\n",
              "  <tbody>\n",
              "    <tr>\n",
              "      <th>0</th>\n",
              "      <td>71</td>\n",
              "      <td>151926</td>\n",
              "      <td>909958217</td>\n",
              "      <td>54666687</td>\n",
              "      <td>0</td>\n",
              "      <td>73</td>\n",
              "    </tr>\n",
              "    <tr>\n",
              "      <th>1</th>\n",
              "      <td>71</td>\n",
              "      <td>151926</td>\n",
              "      <td>909958217</td>\n",
              "      <td>111455099</td>\n",
              "      <td>1</td>\n",
              "      <td>16</td>\n",
              "    </tr>\n",
              "    <tr>\n",
              "      <th>2</th>\n",
              "      <td>71</td>\n",
              "      <td>151926</td>\n",
              "      <td>909958217</td>\n",
              "      <td>242364222</td>\n",
              "      <td>0</td>\n",
              "      <td>111</td>\n",
              "    </tr>\n",
              "    <tr>\n",
              "      <th>3</th>\n",
              "      <td>71</td>\n",
              "      <td>151926</td>\n",
              "      <td>909958217</td>\n",
              "      <td>513017386</td>\n",
              "      <td>0</td>\n",
              "      <td>47</td>\n",
              "    </tr>\n",
              "    <tr>\n",
              "      <th>4</th>\n",
              "      <td>71</td>\n",
              "      <td>151926</td>\n",
              "      <td>909958217</td>\n",
              "      <td>820445075</td>\n",
              "      <td>1</td>\n",
              "      <td>71</td>\n",
              "    </tr>\n",
              "  </tbody>\n",
              "</table>\n",
              "</div>"
            ],
            "text/plain": [
              "   date_number  product_id   color_id    size_id  sales  stock\n",
              "0           71      151926  909958217   54666687      0     73\n",
              "1           71      151926  909958217  111455099      1     16\n",
              "2           71      151926  909958217  242364222      0    111\n",
              "3           71      151926  909958217  513017386      0     47\n",
              "4           71      151926  909958217  820445075      1     71"
            ]
          },
          "metadata": {
            "tags": []
          },
          "execution_count": 98
        }
      ]
    },
    {
      "cell_type": "markdown",
      "metadata": {
        "id": "Cf6-j263YxkT",
        "colab_type": "text"
      },
      "source": [
        "pre-process sales and products dataset to train the model"
      ]
    },
    {
      "cell_type": "code",
      "metadata": {
        "id": "Q01tIl7vYxkU",
        "colab_type": "code",
        "outputId": "2b4b2b1a-bb97-41fe-b96e-ca32ac0e469e",
        "colab": {
          "base_uri": "https://localhost:8080/",
          "height": 204
        }
      },
      "source": [
        "sales_df=pd.DataFrame(train_sales.groupby(['product_id']).sum()['sales']).reset_index()\n",
        "sales_df.head()"
      ],
      "execution_count": 99,
      "outputs": [
        {
          "output_type": "execute_result",
          "data": {
            "text/html": [
              "<div>\n",
              "<style scoped>\n",
              "    .dataframe tbody tr th:only-of-type {\n",
              "        vertical-align: middle;\n",
              "    }\n",
              "\n",
              "    .dataframe tbody tr th {\n",
              "        vertical-align: top;\n",
              "    }\n",
              "\n",
              "    .dataframe thead th {\n",
              "        text-align: right;\n",
              "    }\n",
              "</style>\n",
              "<table border=\"1\" class=\"dataframe\">\n",
              "  <thead>\n",
              "    <tr style=\"text-align: right;\">\n",
              "      <th></th>\n",
              "      <th>product_id</th>\n",
              "      <th>sales</th>\n",
              "    </tr>\n",
              "  </thead>\n",
              "  <tbody>\n",
              "    <tr>\n",
              "      <th>0</th>\n",
              "      <td>151926</td>\n",
              "      <td>83</td>\n",
              "    </tr>\n",
              "    <tr>\n",
              "      <th>1</th>\n",
              "      <td>213413</td>\n",
              "      <td>550</td>\n",
              "    </tr>\n",
              "    <tr>\n",
              "      <th>2</th>\n",
              "      <td>310130</td>\n",
              "      <td>492</td>\n",
              "    </tr>\n",
              "    <tr>\n",
              "      <th>3</th>\n",
              "      <td>455200</td>\n",
              "      <td>22</td>\n",
              "    </tr>\n",
              "    <tr>\n",
              "      <th>4</th>\n",
              "      <td>571044</td>\n",
              "      <td>386</td>\n",
              "    </tr>\n",
              "  </tbody>\n",
              "</table>\n",
              "</div>"
            ],
            "text/plain": [
              "   product_id  sales\n",
              "0      151926     83\n",
              "1      213413    550\n",
              "2      310130    492\n",
              "3      455200     22\n",
              "4      571044    386"
            ]
          },
          "metadata": {
            "tags": []
          },
          "execution_count": 99
        }
      ]
    },
    {
      "cell_type": "markdown",
      "metadata": {
        "id": "WcT-vqH8YxkZ",
        "colab_type": "text"
      },
      "source": [
        "Merge sales data with products to include the price and sales."
      ]
    },
    {
      "cell_type": "code",
      "metadata": {
        "id": "H1Ex21tbYxka",
        "colab_type": "code",
        "outputId": "f5ff7e7e-fc5c-4eea-9aeb-f1bbfe535fc7",
        "colab": {
          "base_uri": "https://localhost:8080/",
          "height": 204
        }
      },
      "source": [
        "product_sales=pd.merge(products, train_sales, left_on='product_id', right_on='product_id')\n",
        "product_sales.head()"
      ],
      "execution_count": 100,
      "outputs": [
        {
          "output_type": "execute_result",
          "data": {
            "text/html": [
              "<div>\n",
              "<style scoped>\n",
              "    .dataframe tbody tr th:only-of-type {\n",
              "        vertical-align: middle;\n",
              "    }\n",
              "\n",
              "    .dataframe tbody tr th {\n",
              "        vertical-align: top;\n",
              "    }\n",
              "\n",
              "    .dataframe thead th {\n",
              "        text-align: right;\n",
              "    }\n",
              "</style>\n",
              "<table border=\"1\" class=\"dataframe\">\n",
              "  <thead>\n",
              "    <tr style=\"text-align: right;\">\n",
              "      <th></th>\n",
              "      <th>product_id</th>\n",
              "      <th>family_id</th>\n",
              "      <th>subfamily_id</th>\n",
              "      <th>price</th>\n",
              "      <th>date_number</th>\n",
              "      <th>color_id</th>\n",
              "      <th>size_id</th>\n",
              "      <th>sales</th>\n",
              "      <th>stock</th>\n",
              "    </tr>\n",
              "  </thead>\n",
              "  <tbody>\n",
              "    <tr>\n",
              "      <th>0</th>\n",
              "      <td>151926</td>\n",
              "      <td>396066037</td>\n",
              "      <td>335531561</td>\n",
              "      <td>25.95</td>\n",
              "      <td>59</td>\n",
              "      <td>909958217</td>\n",
              "      <td>111455099</td>\n",
              "      <td>0</td>\n",
              "      <td>17</td>\n",
              "    </tr>\n",
              "    <tr>\n",
              "      <th>1</th>\n",
              "      <td>151926</td>\n",
              "      <td>396066037</td>\n",
              "      <td>335531561</td>\n",
              "      <td>25.95</td>\n",
              "      <td>59</td>\n",
              "      <td>909958217</td>\n",
              "      <td>242364222</td>\n",
              "      <td>3</td>\n",
              "      <td>63</td>\n",
              "    </tr>\n",
              "    <tr>\n",
              "      <th>2</th>\n",
              "      <td>151926</td>\n",
              "      <td>396066037</td>\n",
              "      <td>335531561</td>\n",
              "      <td>25.95</td>\n",
              "      <td>59</td>\n",
              "      <td>909958217</td>\n",
              "      <td>513017386</td>\n",
              "      <td>1</td>\n",
              "      <td>33</td>\n",
              "    </tr>\n",
              "    <tr>\n",
              "      <th>3</th>\n",
              "      <td>151926</td>\n",
              "      <td>396066037</td>\n",
              "      <td>335531561</td>\n",
              "      <td>25.95</td>\n",
              "      <td>59</td>\n",
              "      <td>909958217</td>\n",
              "      <td>820445075</td>\n",
              "      <td>1</td>\n",
              "      <td>42</td>\n",
              "    </tr>\n",
              "    <tr>\n",
              "      <th>4</th>\n",
              "      <td>151926</td>\n",
              "      <td>396066037</td>\n",
              "      <td>335531561</td>\n",
              "      <td>25.95</td>\n",
              "      <td>60</td>\n",
              "      <td>909958217</td>\n",
              "      <td>54666687</td>\n",
              "      <td>2</td>\n",
              "      <td>72</td>\n",
              "    </tr>\n",
              "  </tbody>\n",
              "</table>\n",
              "</div>"
            ],
            "text/plain": [
              "   product_id  family_id  subfamily_id  ...    size_id  sales  stock\n",
              "0      151926  396066037     335531561  ...  111455099      0     17\n",
              "1      151926  396066037     335531561  ...  242364222      3     63\n",
              "2      151926  396066037     335531561  ...  513017386      1     33\n",
              "3      151926  396066037     335531561  ...  820445075      1     42\n",
              "4      151926  396066037     335531561  ...   54666687      2     72\n",
              "\n",
              "[5 rows x 9 columns]"
            ]
          },
          "metadata": {
            "tags": []
          },
          "execution_count": 100
        }
      ]
    },
    {
      "cell_type": "code",
      "metadata": {
        "id": "7ttOmGwmYxkh",
        "colab_type": "code",
        "outputId": "657cf16e-b9f1-4130-ef4f-b855616b22a1",
        "colab": {
          "base_uri": "https://localhost:8080/",
          "height": 204
        }
      },
      "source": [
        "stay_columns=['product_id','price'] \n",
        "\n",
        "product_sales_final=pd.DataFrame(product_sales.groupby(stay_columns).sum()['sales']).reset_index()\n",
        "\n",
        "product_sales_final.head()"
      ],
      "execution_count": 101,
      "outputs": [
        {
          "output_type": "execute_result",
          "data": {
            "text/html": [
              "<div>\n",
              "<style scoped>\n",
              "    .dataframe tbody tr th:only-of-type {\n",
              "        vertical-align: middle;\n",
              "    }\n",
              "\n",
              "    .dataframe tbody tr th {\n",
              "        vertical-align: top;\n",
              "    }\n",
              "\n",
              "    .dataframe thead th {\n",
              "        text-align: right;\n",
              "    }\n",
              "</style>\n",
              "<table border=\"1\" class=\"dataframe\">\n",
              "  <thead>\n",
              "    <tr style=\"text-align: right;\">\n",
              "      <th></th>\n",
              "      <th>product_id</th>\n",
              "      <th>price</th>\n",
              "      <th>sales</th>\n",
              "    </tr>\n",
              "  </thead>\n",
              "  <tbody>\n",
              "    <tr>\n",
              "      <th>0</th>\n",
              "      <td>151926</td>\n",
              "      <td>25.95</td>\n",
              "      <td>83</td>\n",
              "    </tr>\n",
              "    <tr>\n",
              "      <th>1</th>\n",
              "      <td>213413</td>\n",
              "      <td>19.95</td>\n",
              "      <td>550</td>\n",
              "    </tr>\n",
              "    <tr>\n",
              "      <th>2</th>\n",
              "      <td>310130</td>\n",
              "      <td>12.95</td>\n",
              "      <td>492</td>\n",
              "    </tr>\n",
              "    <tr>\n",
              "      <th>3</th>\n",
              "      <td>455200</td>\n",
              "      <td>29.95</td>\n",
              "      <td>22</td>\n",
              "    </tr>\n",
              "    <tr>\n",
              "      <th>4</th>\n",
              "      <td>571044</td>\n",
              "      <td>15.95</td>\n",
              "      <td>386</td>\n",
              "    </tr>\n",
              "  </tbody>\n",
              "</table>\n",
              "</div>"
            ],
            "text/plain": [
              "   product_id  price  sales\n",
              "0      151926  25.95     83\n",
              "1      213413  19.95    550\n",
              "2      310130  12.95    492\n",
              "3      455200  29.95     22\n",
              "4      571044  15.95    386"
            ]
          },
          "metadata": {
            "tags": []
          },
          "execution_count": 101
        }
      ]
    },
    {
      "cell_type": "markdown",
      "metadata": {
        "id": "R1-dAxdIYxkk",
        "colab_type": "text"
      },
      "source": [
        "Load positions data"
      ]
    },
    {
      "cell_type": "code",
      "metadata": {
        "id": "6HS9Sa4XYxkk",
        "colab_type": "code",
        "outputId": "15251a21-17a2-47c5-a54d-db944b558e65",
        "colab": {
          "base_uri": "https://localhost:8080/",
          "height": 221
        }
      },
      "source": [
        "positions = pd.read_csv('/content/positions.csv')\n",
        "print(\"shape:\",positions.shape)\n",
        "positions.head()"
      ],
      "execution_count": 102,
      "outputs": [
        {
          "output_type": "stream",
          "text": [
            "shape: (1507874, 4)\n"
          ],
          "name": "stdout"
        },
        {
          "output_type": "execute_result",
          "data": {
            "text/html": [
              "<div>\n",
              "<style scoped>\n",
              "    .dataframe tbody tr th:only-of-type {\n",
              "        vertical-align: middle;\n",
              "    }\n",
              "\n",
              "    .dataframe tbody tr th {\n",
              "        vertical-align: top;\n",
              "    }\n",
              "\n",
              "    .dataframe thead th {\n",
              "        text-align: right;\n",
              "    }\n",
              "</style>\n",
              "<table border=\"1\" class=\"dataframe\">\n",
              "  <thead>\n",
              "    <tr style=\"text-align: right;\">\n",
              "      <th></th>\n",
              "      <th>date_number</th>\n",
              "      <th>product_id</th>\n",
              "      <th>category_id</th>\n",
              "      <th>position</th>\n",
              "    </tr>\n",
              "  </thead>\n",
              "  <tbody>\n",
              "    <tr>\n",
              "      <th>0</th>\n",
              "      <td>0</td>\n",
              "      <td>4450020</td>\n",
              "      <td>4461548</td>\n",
              "      <td>17</td>\n",
              "    </tr>\n",
              "    <tr>\n",
              "      <th>1</th>\n",
              "      <td>0</td>\n",
              "      <td>42147334</td>\n",
              "      <td>4461548</td>\n",
              "      <td>4</td>\n",
              "    </tr>\n",
              "    <tr>\n",
              "      <th>2</th>\n",
              "      <td>0</td>\n",
              "      <td>81131830</td>\n",
              "      <td>4461548</td>\n",
              "      <td>35</td>\n",
              "    </tr>\n",
              "    <tr>\n",
              "      <th>3</th>\n",
              "      <td>0</td>\n",
              "      <td>84035833</td>\n",
              "      <td>4461548</td>\n",
              "      <td>38</td>\n",
              "    </tr>\n",
              "    <tr>\n",
              "      <th>4</th>\n",
              "      <td>0</td>\n",
              "      <td>125252584</td>\n",
              "      <td>4461548</td>\n",
              "      <td>39</td>\n",
              "    </tr>\n",
              "  </tbody>\n",
              "</table>\n",
              "</div>"
            ],
            "text/plain": [
              "   date_number  product_id  category_id  position\n",
              "0            0     4450020      4461548        17\n",
              "1            0    42147334      4461548         4\n",
              "2            0    81131830      4461548        35\n",
              "3            0    84035833      4461548        38\n",
              "4            0   125252584      4461548        39"
            ]
          },
          "metadata": {
            "tags": []
          },
          "execution_count": 102
        }
      ]
    },
    {
      "cell_type": "code",
      "metadata": {
        "id": "SCVkCou0Yxko",
        "colab_type": "code",
        "outputId": "44fb5404-42ac-4f7f-a11a-63fa9587ab96",
        "colab": {
          "base_uri": "https://localhost:8080/",
          "height": 51
        }
      },
      "source": [
        "print('There are {} product_id in dataset.'.format(len(products['product_id'].unique())))\n",
        "print('But there are only {} have positions.'.format(len(positions['product_id'].unique())))"
      ],
      "execution_count": 103,
      "outputs": [
        {
          "output_type": "stream",
          "text": [
            "There are 15238 product_id in dataset.\n",
            "But there are only 9136 have positions.\n"
          ],
          "name": "stdout"
        }
      ]
    },
    {
      "cell_type": "code",
      "metadata": {
        "id": "k5Oxb1mgYxks",
        "colab_type": "code",
        "outputId": "139c0117-6c8c-4f1b-a9a9-bb66cf6896d9",
        "colab": {
          "base_uri": "https://localhost:8080/",
          "height": 51
        }
      },
      "source": [
        "print('There are {} product_id in dataset.'.format(len(products['product_id'].unique())))\n",
        "print('But there are only {} have sales.'.format(len(sales['product_id'].unique())))"
      ],
      "execution_count": 104,
      "outputs": [
        {
          "output_type": "stream",
          "text": [
            "There are 15238 product_id in dataset.\n",
            "But there are only 9595 have sales.\n"
          ],
          "name": "stdout"
        }
      ]
    },
    {
      "cell_type": "markdown",
      "metadata": {
        "id": "nGC1D21AYxkx",
        "colab_type": "text"
      },
      "source": [
        "split positions data by day to traind the model"
      ]
    },
    {
      "cell_type": "code",
      "metadata": {
        "id": "noYCgN-SYxkx",
        "colab_type": "code",
        "colab": {}
      },
      "source": [
        "train_positions = positions.loc[positions['date_number'] <= 71].reset_index(drop=True)\n",
        "test_positions = positions.loc[positions['date_number'] >= 72].reset_index(drop=True)"
      ],
      "execution_count": 0,
      "outputs": []
    },
    {
      "cell_type": "markdown",
      "metadata": {
        "id": "04GuUcrYYxk2",
        "colab_type": "text"
      },
      "source": [
        "pre-process the positions"
      ]
    },
    {
      "cell_type": "markdown",
      "metadata": {
        "id": "PZgZ0LujYxk3",
        "colab_type": "text"
      },
      "source": [
        "high_rank: minimum (best) position of each product"
      ]
    },
    {
      "cell_type": "code",
      "metadata": {
        "id": "hvtfRmwpYxk3",
        "colab_type": "code",
        "colab": {}
      },
      "source": [
        "#insert column high_rank \n",
        "train_positions.loc[:,'high_rank']=train_positions.loc[:,'position'] \n",
        "# select the min value of position for each product in each day\n",
        "high_rank=pd.DataFrame(train_positions.groupby(['product_id']).min()['position'] ).reset_index()\n",
        "train_positions=train_positions.drop('high_rank', axis=1)"
      ],
      "execution_count": 0,
      "outputs": []
    },
    {
      "cell_type": "markdown",
      "metadata": {
        "id": "5YDvTs53Yxk7",
        "colab_type": "text"
      },
      "source": [
        "low_rank: maximum (worst) position of each product"
      ]
    },
    {
      "cell_type": "code",
      "metadata": {
        "id": "iFFHjPV_Yxk9",
        "colab_type": "code",
        "colab": {}
      },
      "source": [
        "# insert column low_rank \n",
        "train_positions.loc[:,'low_rank']=train_positions.loc[:,'position'] \n",
        "#select the max value of position for each product in each day\n",
        "low_rank=pd.DataFrame(train_positions.groupby(['product_id']).max()['position'] ).reset_index()\n",
        "train_positions=train_positions.drop('low_rank', axis=1)"
      ],
      "execution_count": 0,
      "outputs": []
    },
    {
      "cell_type": "markdown",
      "metadata": {
        "id": "SnX4pogfYxlB",
        "colab_type": "text"
      },
      "source": [
        "calculate the mean position for every product"
      ]
    },
    {
      "cell_type": "code",
      "metadata": {
        "id": "HJQ7Pnk8YxlD",
        "colab_type": "code",
        "colab": {}
      },
      "source": [
        "train_positions.loc[:,'rank_mean']=train_positions.loc[:,'position'] \n",
        "rank_mean=pd.DataFrame(train_positions.groupby(['product_id']).mean()['position']).reset_index()\n",
        "rank_mean=round(rank_mean)\n",
        "train_positions=train_positions.drop('rank_mean', axis=1)"
      ],
      "execution_count": 0,
      "outputs": []
    },
    {
      "cell_type": "markdown",
      "metadata": {
        "id": "Pr0MmsyWYxlG",
        "colab_type": "text"
      },
      "source": [
        "creating final data fram for positions"
      ]
    },
    {
      "cell_type": "code",
      "metadata": {
        "id": "kwr9-9gLYxlG",
        "colab_type": "code",
        "outputId": "30b6ca89-0284-4a44-d96c-88b8fc3e8c34",
        "colab": {
          "base_uri": "https://localhost:8080/",
          "height": 221
        }
      },
      "source": [
        "positions_df=rank_mean.copy().rename(columns={\"position\": \"rank_mean\"}) \n",
        "positions_df.loc[:,'high_rank']=high_rank['position'] \n",
        "positions_df.loc[:,'low_rank']=low_rank['position'] \n",
        "print(\"shape:\",positions_df.shape)\n",
        "positions_df.head()"
      ],
      "execution_count": 109,
      "outputs": [
        {
          "output_type": "stream",
          "text": [
            "shape: (8759, 4)\n"
          ],
          "name": "stdout"
        },
        {
          "output_type": "execute_result",
          "data": {
            "text/html": [
              "<div>\n",
              "<style scoped>\n",
              "    .dataframe tbody tr th:only-of-type {\n",
              "        vertical-align: middle;\n",
              "    }\n",
              "\n",
              "    .dataframe tbody tr th {\n",
              "        vertical-align: top;\n",
              "    }\n",
              "\n",
              "    .dataframe thead th {\n",
              "        text-align: right;\n",
              "    }\n",
              "</style>\n",
              "<table border=\"1\" class=\"dataframe\">\n",
              "  <thead>\n",
              "    <tr style=\"text-align: right;\">\n",
              "      <th></th>\n",
              "      <th>product_id</th>\n",
              "      <th>rank_mean</th>\n",
              "      <th>high_rank</th>\n",
              "      <th>low_rank</th>\n",
              "    </tr>\n",
              "  </thead>\n",
              "  <tbody>\n",
              "    <tr>\n",
              "      <th>0</th>\n",
              "      <td>151926</td>\n",
              "      <td>42.0</td>\n",
              "      <td>1</td>\n",
              "      <td>121</td>\n",
              "    </tr>\n",
              "    <tr>\n",
              "      <th>1</th>\n",
              "      <td>213413</td>\n",
              "      <td>71.0</td>\n",
              "      <td>4</td>\n",
              "      <td>255</td>\n",
              "    </tr>\n",
              "    <tr>\n",
              "      <th>2</th>\n",
              "      <td>310130</td>\n",
              "      <td>25.0</td>\n",
              "      <td>2</td>\n",
              "      <td>80</td>\n",
              "    </tr>\n",
              "    <tr>\n",
              "      <th>3</th>\n",
              "      <td>455200</td>\n",
              "      <td>28.0</td>\n",
              "      <td>1</td>\n",
              "      <td>137</td>\n",
              "    </tr>\n",
              "    <tr>\n",
              "      <th>4</th>\n",
              "      <td>571044</td>\n",
              "      <td>88.0</td>\n",
              "      <td>5</td>\n",
              "      <td>205</td>\n",
              "    </tr>\n",
              "  </tbody>\n",
              "</table>\n",
              "</div>"
            ],
            "text/plain": [
              "   product_id  rank_mean  high_rank  low_rank\n",
              "0      151926       42.0          1       121\n",
              "1      213413       71.0          4       255\n",
              "2      310130       25.0          2        80\n",
              "3      455200       28.0          1       137\n",
              "4      571044       88.0          5       205"
            ]
          },
          "metadata": {
            "tags": []
          },
          "execution_count": 109
        }
      ]
    },
    {
      "cell_type": "markdown",
      "metadata": {
        "id": "rdRx3ThQYxlJ",
        "colab_type": "text"
      },
      "source": [
        "creating final training data frame"
      ]
    },
    {
      "cell_type": "code",
      "metadata": {
        "id": "gkdGug_kYxlK",
        "colab_type": "code",
        "outputId": "14617a69-28e5-4df6-9fce-9a4a1f5db069",
        "colab": {
          "base_uri": "https://localhost:8080/",
          "height": 221
        }
      },
      "source": [
        "df=pd.merge(product_sales_final, positions_df,  left_on=['product_id'], right_on=['product_id']) \n",
        "print(df.shape)\n",
        "df.head()"
      ],
      "execution_count": 110,
      "outputs": [
        {
          "output_type": "stream",
          "text": [
            "(8681, 6)\n"
          ],
          "name": "stdout"
        },
        {
          "output_type": "execute_result",
          "data": {
            "text/html": [
              "<div>\n",
              "<style scoped>\n",
              "    .dataframe tbody tr th:only-of-type {\n",
              "        vertical-align: middle;\n",
              "    }\n",
              "\n",
              "    .dataframe tbody tr th {\n",
              "        vertical-align: top;\n",
              "    }\n",
              "\n",
              "    .dataframe thead th {\n",
              "        text-align: right;\n",
              "    }\n",
              "</style>\n",
              "<table border=\"1\" class=\"dataframe\">\n",
              "  <thead>\n",
              "    <tr style=\"text-align: right;\">\n",
              "      <th></th>\n",
              "      <th>product_id</th>\n",
              "      <th>price</th>\n",
              "      <th>sales</th>\n",
              "      <th>rank_mean</th>\n",
              "      <th>high_rank</th>\n",
              "      <th>low_rank</th>\n",
              "    </tr>\n",
              "  </thead>\n",
              "  <tbody>\n",
              "    <tr>\n",
              "      <th>0</th>\n",
              "      <td>151926</td>\n",
              "      <td>25.95</td>\n",
              "      <td>83</td>\n",
              "      <td>42.0</td>\n",
              "      <td>1</td>\n",
              "      <td>121</td>\n",
              "    </tr>\n",
              "    <tr>\n",
              "      <th>1</th>\n",
              "      <td>213413</td>\n",
              "      <td>19.95</td>\n",
              "      <td>550</td>\n",
              "      <td>71.0</td>\n",
              "      <td>4</td>\n",
              "      <td>255</td>\n",
              "    </tr>\n",
              "    <tr>\n",
              "      <th>2</th>\n",
              "      <td>310130</td>\n",
              "      <td>12.95</td>\n",
              "      <td>492</td>\n",
              "      <td>25.0</td>\n",
              "      <td>2</td>\n",
              "      <td>80</td>\n",
              "    </tr>\n",
              "    <tr>\n",
              "      <th>3</th>\n",
              "      <td>455200</td>\n",
              "      <td>29.95</td>\n",
              "      <td>22</td>\n",
              "      <td>28.0</td>\n",
              "      <td>1</td>\n",
              "      <td>137</td>\n",
              "    </tr>\n",
              "    <tr>\n",
              "      <th>4</th>\n",
              "      <td>571044</td>\n",
              "      <td>15.95</td>\n",
              "      <td>386</td>\n",
              "      <td>88.0</td>\n",
              "      <td>5</td>\n",
              "      <td>205</td>\n",
              "    </tr>\n",
              "  </tbody>\n",
              "</table>\n",
              "</div>"
            ],
            "text/plain": [
              "   product_id  price  sales  rank_mean  high_rank  low_rank\n",
              "0      151926  25.95     83       42.0          1       121\n",
              "1      213413  19.95    550       71.0          4       255\n",
              "2      310130  12.95    492       25.0          2        80\n",
              "3      455200  29.95     22       28.0          1       137\n",
              "4      571044  15.95    386       88.0          5       205"
            ]
          },
          "metadata": {
            "tags": []
          },
          "execution_count": 110
        }
      ]
    },
    {
      "cell_type": "code",
      "metadata": {
        "id": "IzTpq_5bYxlO",
        "colab_type": "code",
        "outputId": "01412a76-1387-4738-8a17-7b5c962266bb",
        "colab": {
          "base_uri": "https://localhost:8080/",
          "height": 235
        }
      },
      "source": [
        "df.corr()"
      ],
      "execution_count": 111,
      "outputs": [
        {
          "output_type": "execute_result",
          "data": {
            "text/html": [
              "<div>\n",
              "<style scoped>\n",
              "    .dataframe tbody tr th:only-of-type {\n",
              "        vertical-align: middle;\n",
              "    }\n",
              "\n",
              "    .dataframe tbody tr th {\n",
              "        vertical-align: top;\n",
              "    }\n",
              "\n",
              "    .dataframe thead th {\n",
              "        text-align: right;\n",
              "    }\n",
              "</style>\n",
              "<table border=\"1\" class=\"dataframe\">\n",
              "  <thead>\n",
              "    <tr style=\"text-align: right;\">\n",
              "      <th></th>\n",
              "      <th>product_id</th>\n",
              "      <th>price</th>\n",
              "      <th>sales</th>\n",
              "      <th>rank_mean</th>\n",
              "      <th>high_rank</th>\n",
              "      <th>low_rank</th>\n",
              "    </tr>\n",
              "  </thead>\n",
              "  <tbody>\n",
              "    <tr>\n",
              "      <th>product_id</th>\n",
              "      <td>1.000000</td>\n",
              "      <td>-0.004423</td>\n",
              "      <td>0.007819</td>\n",
              "      <td>0.005713</td>\n",
              "      <td>0.007879</td>\n",
              "      <td>0.006618</td>\n",
              "    </tr>\n",
              "    <tr>\n",
              "      <th>price</th>\n",
              "      <td>-0.004423</td>\n",
              "      <td>1.000000</td>\n",
              "      <td>-0.120031</td>\n",
              "      <td>0.001335</td>\n",
              "      <td>0.046639</td>\n",
              "      <td>0.009474</td>\n",
              "    </tr>\n",
              "    <tr>\n",
              "      <th>sales</th>\n",
              "      <td>0.007819</td>\n",
              "      <td>-0.120031</td>\n",
              "      <td>1.000000</td>\n",
              "      <td>-0.036398</td>\n",
              "      <td>-0.083394</td>\n",
              "      <td>0.005986</td>\n",
              "    </tr>\n",
              "    <tr>\n",
              "      <th>rank_mean</th>\n",
              "      <td>0.005713</td>\n",
              "      <td>0.001335</td>\n",
              "      <td>-0.036398</td>\n",
              "      <td>1.000000</td>\n",
              "      <td>0.601101</td>\n",
              "      <td>0.883619</td>\n",
              "    </tr>\n",
              "    <tr>\n",
              "      <th>high_rank</th>\n",
              "      <td>0.007879</td>\n",
              "      <td>0.046639</td>\n",
              "      <td>-0.083394</td>\n",
              "      <td>0.601101</td>\n",
              "      <td>1.000000</td>\n",
              "      <td>0.309536</td>\n",
              "    </tr>\n",
              "    <tr>\n",
              "      <th>low_rank</th>\n",
              "      <td>0.006618</td>\n",
              "      <td>0.009474</td>\n",
              "      <td>0.005986</td>\n",
              "      <td>0.883619</td>\n",
              "      <td>0.309536</td>\n",
              "      <td>1.000000</td>\n",
              "    </tr>\n",
              "  </tbody>\n",
              "</table>\n",
              "</div>"
            ],
            "text/plain": [
              "            product_id     price     sales  rank_mean  high_rank  low_rank\n",
              "product_id    1.000000 -0.004423  0.007819   0.005713   0.007879  0.006618\n",
              "price        -0.004423  1.000000 -0.120031   0.001335   0.046639  0.009474\n",
              "sales         0.007819 -0.120031  1.000000  -0.036398  -0.083394  0.005986\n",
              "rank_mean     0.005713  0.001335 -0.036398   1.000000   0.601101  0.883619\n",
              "high_rank     0.007879  0.046639 -0.083394   0.601101   1.000000  0.309536\n",
              "low_rank      0.006618  0.009474  0.005986   0.883619   0.309536  1.000000"
            ]
          },
          "metadata": {
            "tags": []
          },
          "execution_count": 111
        }
      ]
    },
    {
      "cell_type": "markdown",
      "metadata": {
        "id": "uKfl21fpYxlS",
        "colab_type": "text"
      },
      "source": [
        "Sales by price"
      ]
    },
    {
      "cell_type": "code",
      "metadata": {
        "id": "3OrdwUpgYxlT",
        "colab_type": "code",
        "outputId": "eaae6611-ab7a-4f05-d00d-873e2e74777a",
        "colab": {
          "base_uri": "https://localhost:8080/",
          "height": 776
        }
      },
      "source": [
        "x = df['price']\n",
        "y = df['sales']\n",
        "\n",
        "plt.figure(figsize=(10,8))\n",
        "plt.scatter(x,y,c='#b3003b',label='Products')\n",
        "plt.ylabel('Sales', fontsize=14)\n",
        "plt.xlabel('Price',fontsize=14)\n",
        "#plt.title('sales by price',fontsize=14)\n",
        "plt.legend(loc='upper lift', fontsize=14)\n",
        "a=plt.show()\n",
        "display(a)"
      ],
      "execution_count": 112,
      "outputs": [
        {
          "output_type": "stream",
          "text": [
            "/usr/local/lib/python3.6/dist-packages/ipykernel_launcher.py:9: MatplotlibDeprecationWarning: Unrecognized location 'upper lift'. Falling back on 'best'; valid locations are\n",
            "\tbest\n",
            "\tupper right\n",
            "\tupper left\n",
            "\tlower left\n",
            "\tlower right\n",
            "\tright\n",
            "\tcenter left\n",
            "\tcenter right\n",
            "\tlower center\n",
            "\tupper center\n",
            "\tcenter\n",
            "This will raise an exception in 3.3.\n",
            "  if __name__ == '__main__':\n"
          ],
          "name": "stderr"
        },
        {
          "output_type": "display_data",
          "data": {
            "image/png": "[encoded data removed]",
            "text/plain": [
              "<Figure size 720x576 with 1 Axes>"
            ]
          },
          "metadata": {
            "tags": [],
            "needs_background": "light"
          }
        },
        {
          "output_type": "display_data",
          "data": {
            "text/plain": [
              "None"
            ]
          },
          "metadata": {
            "tags": []
          }
        }
      ]
    },
    {
      "cell_type": "markdown",
      "metadata": {
        "id": "vmP5l7osYxlY",
        "colab_type": "text"
      },
      "source": [
        "Note: When the price is low, sales are high"
      ]
    },
    {
      "cell_type": "markdown",
      "metadata": {
        "id": "oL6MTUGZYxla",
        "colab_type": "text"
      },
      "source": [
        "Sales by mean product positions"
      ]
    },
    {
      "cell_type": "code",
      "metadata": {
        "id": "yaFx3o8PYxlb",
        "colab_type": "code",
        "outputId": "9a401f56-0263-4883-d752-08f11562c498",
        "colab": {
          "base_uri": "https://localhost:8080/",
          "height": 776
        }
      },
      "source": [
        "x = df['rank_mean']\n",
        "y = df['sales']\n",
        "\n",
        "plt.figure(figsize=(10,8))\n",
        "plt.scatter(x,y,c='#86b300',label='Products')\n",
        "plt.ylabel('Sales', fontsize=14)\n",
        "plt.xlabel('Mean Positions',fontsize=14)\n",
        "#plt.title('Sales by Mean Product Positions',fontsize=14)\n",
        "plt.legend(loc='upper lift', fontsize=14)\n",
        "a=plt.show()\n",
        "display(a)"
      ],
      "execution_count": 113,
      "outputs": [
        {
          "output_type": "stream",
          "text": [
            "/usr/local/lib/python3.6/dist-packages/ipykernel_launcher.py:9: MatplotlibDeprecationWarning: Unrecognized location 'upper lift'. Falling back on 'best'; valid locations are\n",
            "\tbest\n",
            "\tupper right\n",
            "\tupper left\n",
            "\tlower left\n",
            "\tlower right\n",
            "\tright\n",
            "\tcenter left\n",
            "\tcenter right\n",
            "\tlower center\n",
            "\tupper center\n",
            "\tcenter\n",
            "This will raise an exception in 3.3.\n",
            "  if __name__ == '__main__':\n"
          ],
          "name": "stderr"
        },
        {
          "output_type": "display_data",
          "data": {
            "image/png": "[encoded data removed]",
            "text/plain": [
              "<Figure size 720x576 with 1 Axes>"
            ]
          },
          "metadata": {
            "tags": [],
            "needs_background": "light"
          }
        },
        {
          "output_type": "display_data",
          "data": {
            "text/plain": [
              "None"
            ]
          },
          "metadata": {
            "tags": []
          }
        }
      ]
    },
    {
      "cell_type": "markdown",
      "metadata": {
        "id": "lujqzeKZYxle",
        "colab_type": "text"
      },
      "source": [
        "Note: When the mean is low( best), the sales are high"
      ]
    },
    {
      "cell_type": "markdown",
      "metadata": {
        "id": "WnK1JnCBYxlf",
        "colab_type": "text"
      },
      "source": [
        "Sales by high rank"
      ]
    },
    {
      "cell_type": "code",
      "metadata": {
        "id": "0h1EjR20Yxlg",
        "colab_type": "code",
        "outputId": "b008897e-f6e4-44f4-dcb9-8c8ef95dd751",
        "colab": {
          "base_uri": "https://localhost:8080/",
          "height": 776
        }
      },
      "source": [
        "x = df['high_rank']\n",
        "y = df['sales']\n",
        "\n",
        "plt.figure(figsize=(10,8))\n",
        "plt.scatter(x,y,c='m',label='Products')\n",
        "plt.ylabel('Sales', fontsize=14)\n",
        "plt.xlabel('High positions',fontsize=14)\n",
        "#plt.title('Sales by High Ranks',fontsize=14)\n",
        "plt.legend(loc='upper lift', fontsize=14)\n",
        "a=plt.show()\n",
        "display(a)"
      ],
      "execution_count": 114,
      "outputs": [
        {
          "output_type": "stream",
          "text": [
            "/usr/local/lib/python3.6/dist-packages/ipykernel_launcher.py:9: MatplotlibDeprecationWarning: Unrecognized location 'upper lift'. Falling back on 'best'; valid locations are\n",
            "\tbest\n",
            "\tupper right\n",
            "\tupper left\n",
            "\tlower left\n",
            "\tlower right\n",
            "\tright\n",
            "\tcenter left\n",
            "\tcenter right\n",
            "\tlower center\n",
            "\tupper center\n",
            "\tcenter\n",
            "This will raise an exception in 3.3.\n",
            "  if __name__ == '__main__':\n"
          ],
          "name": "stderr"
        },
        {
          "output_type": "display_data",
          "data": {
            "image/png": "[encoded data removed]",
            "text/plain": [
              "<Figure size 720x576 with 1 Axes>"
            ]
          },
          "metadata": {
            "tags": [],
            "needs_background": "light"
          }
        },
        {
          "output_type": "display_data",
          "data": {
            "text/plain": [
              "None"
            ]
          },
          "metadata": {
            "tags": []
          }
        }
      ]
    },
    {
      "cell_type": "markdown",
      "metadata": {
        "id": "_JUGrWo8Yxli",
        "colab_type": "text"
      },
      "source": [
        "Note: the sales are high when the product has high rank"
      ]
    },
    {
      "cell_type": "markdown",
      "metadata": {
        "id": "UeyR2V-CYxlj",
        "colab_type": "text"
      },
      "source": [
        "Sales by low_rank"
      ]
    },
    {
      "cell_type": "code",
      "metadata": {
        "id": "-5w0RlnoYxlj",
        "colab_type": "code",
        "outputId": "9c723391-d5b7-4168-cbfb-9fa9b852176c",
        "colab": {
          "base_uri": "https://localhost:8080/",
          "height": 776
        }
      },
      "source": [
        "x = df['low_rank']\n",
        "y = df['sales']\n",
        "\n",
        "plt.figure(figsize=(10,8))\n",
        "plt.scatter(x,y,c='c',label='Products')\n",
        "plt.ylabel('Sales', fontsize=14)\n",
        "plt.xlabel('Low positins',fontsize=14)\n",
        "#plt.title('Sales by Low Ranks',fontsize=14)\n",
        "plt.legend(loc='upper lift', fontsize=14)\n",
        "a=plt.show()\n",
        "display(a)"
      ],
      "execution_count": 115,
      "outputs": [
        {
          "output_type": "stream",
          "text": [
            "/usr/local/lib/python3.6/dist-packages/ipykernel_launcher.py:9: MatplotlibDeprecationWarning: Unrecognized location 'upper lift'. Falling back on 'best'; valid locations are\n",
            "\tbest\n",
            "\tupper right\n",
            "\tupper left\n",
            "\tlower left\n",
            "\tlower right\n",
            "\tright\n",
            "\tcenter left\n",
            "\tcenter right\n",
            "\tlower center\n",
            "\tupper center\n",
            "\tcenter\n",
            "This will raise an exception in 3.3.\n",
            "  if __name__ == '__main__':\n"
          ],
          "name": "stderr"
        },
        {
          "output_type": "display_data",
          "data": {
            "image/png": "[encoded data removed]",
            "text/plain": [
              "<Figure size 720x576 with 1 Axes>"
            ]
          },
          "metadata": {
            "tags": [],
            "needs_background": "light"
          }
        },
        {
          "output_type": "display_data",
          "data": {
            "text/plain": [
              "None"
            ]
          },
          "metadata": {
            "tags": []
          }
        }
      ]
    },
    {
      "cell_type": "markdown",
      "metadata": {
        "id": "6U95BXGhYxlo",
        "colab_type": "text"
      },
      "source": [
        "Note: sales are less when product rated by low"
      ]
    },
    {
      "cell_type": "markdown",
      "metadata": {
        "id": "zB9-KXCoYxlo",
        "colab_type": "text"
      },
      "source": [
        "converted mean to two bins"
      ]
    },
    {
      "cell_type": "code",
      "metadata": {
        "id": "UNn4sibeYxlp",
        "colab_type": "code",
        "outputId": "0ec68277-6eb6-47e3-88d8-757dc1fad34b",
        "colab": {
          "base_uri": "https://localhost:8080/",
          "height": 204
        }
      },
      "source": [
        "bins=np.linspace(df.rank_mean.min(), df.rank_mean.max(), 5)\n",
        "\n",
        "#customer reviews 10 to 1.\n",
        "group_names=['4-stars','3-stars','2-stars','1-stars']\n",
        "\n",
        "df['rank_level'] = pd.cut(df['rank_mean'],bins, labels=group_names,include_lowest=True)\n",
        "\n",
        "df.head()"
      ],
      "execution_count": 116,
      "outputs": [
        {
          "output_type": "execute_result",
          "data": {
            "text/html": [
              "<div>\n",
              "<style scoped>\n",
              "    .dataframe tbody tr th:only-of-type {\n",
              "        vertical-align: middle;\n",
              "    }\n",
              "\n",
              "    .dataframe tbody tr th {\n",
              "        vertical-align: top;\n",
              "    }\n",
              "\n",
              "    .dataframe thead th {\n",
              "        text-align: right;\n",
              "    }\n",
              "</style>\n",
              "<table border=\"1\" class=\"dataframe\">\n",
              "  <thead>\n",
              "    <tr style=\"text-align: right;\">\n",
              "      <th></th>\n",
              "      <th>product_id</th>\n",
              "      <th>price</th>\n",
              "      <th>sales</th>\n",
              "      <th>rank_mean</th>\n",
              "      <th>high_rank</th>\n",
              "      <th>low_rank</th>\n",
              "      <th>rank_level</th>\n",
              "    </tr>\n",
              "  </thead>\n",
              "  <tbody>\n",
              "    <tr>\n",
              "      <th>0</th>\n",
              "      <td>151926</td>\n",
              "      <td>25.95</td>\n",
              "      <td>83</td>\n",
              "      <td>42.0</td>\n",
              "      <td>1</td>\n",
              "      <td>121</td>\n",
              "      <td>4-stars</td>\n",
              "    </tr>\n",
              "    <tr>\n",
              "      <th>1</th>\n",
              "      <td>213413</td>\n",
              "      <td>19.95</td>\n",
              "      <td>550</td>\n",
              "      <td>71.0</td>\n",
              "      <td>4</td>\n",
              "      <td>255</td>\n",
              "      <td>4-stars</td>\n",
              "    </tr>\n",
              "    <tr>\n",
              "      <th>2</th>\n",
              "      <td>310130</td>\n",
              "      <td>12.95</td>\n",
              "      <td>492</td>\n",
              "      <td>25.0</td>\n",
              "      <td>2</td>\n",
              "      <td>80</td>\n",
              "      <td>4-stars</td>\n",
              "    </tr>\n",
              "    <tr>\n",
              "      <th>3</th>\n",
              "      <td>455200</td>\n",
              "      <td>29.95</td>\n",
              "      <td>22</td>\n",
              "      <td>28.0</td>\n",
              "      <td>1</td>\n",
              "      <td>137</td>\n",
              "      <td>4-stars</td>\n",
              "    </tr>\n",
              "    <tr>\n",
              "      <th>4</th>\n",
              "      <td>571044</td>\n",
              "      <td>15.95</td>\n",
              "      <td>386</td>\n",
              "      <td>88.0</td>\n",
              "      <td>5</td>\n",
              "      <td>205</td>\n",
              "      <td>4-stars</td>\n",
              "    </tr>\n",
              "  </tbody>\n",
              "</table>\n",
              "</div>"
            ],
            "text/plain": [
              "   product_id  price  sales  rank_mean  high_rank  low_rank rank_level\n",
              "0      151926  25.95     83       42.0          1       121    4-stars\n",
              "1      213413  19.95    550       71.0          4       255    4-stars\n",
              "2      310130  12.95    492       25.0          2        80    4-stars\n",
              "3      455200  29.95     22       28.0          1       137    4-stars\n",
              "4      571044  15.95    386       88.0          5       205    4-stars"
            ]
          },
          "metadata": {
            "tags": []
          },
          "execution_count": 116
        }
      ]
    },
    {
      "cell_type": "code",
      "metadata": {
        "id": "7wmEvfF9Yxls",
        "colab_type": "code",
        "outputId": "9647fa48-57bb-4748-b907-6e68dea259ff",
        "colab": {
          "base_uri": "https://localhost:8080/",
          "height": 613
        }
      },
      "source": [
        "x = df['rank_level']\n",
        "y = df['sales']\n",
        "\n",
        "plt.figure(figsize=(10,5))\n",
        "plt.bar(x,y,color='#006680',label='Products',width=0.4)\n",
        "plt.ylabel('Sales', fontsize=14)\n",
        "plt.xlabel('Position level',fontsize=14)\n",
        "#plt.title('Sales by Position Level',fontsize=14)\n",
        "plt.legend(loc='upper lift', fontsize=14)\n",
        "a=plt.show()\n",
        "display(a)"
      ],
      "execution_count": 117,
      "outputs": [
        {
          "output_type": "stream",
          "text": [
            "/usr/local/lib/python3.6/dist-packages/ipykernel_launcher.py:9: MatplotlibDeprecationWarning: Unrecognized location 'upper lift'. Falling back on 'best'; valid locations are\n",
            "\tbest\n",
            "\tupper right\n",
            "\tupper left\n",
            "\tlower left\n",
            "\tlower right\n",
            "\tright\n",
            "\tcenter left\n",
            "\tcenter right\n",
            "\tlower center\n",
            "\tupper center\n",
            "\tcenter\n",
            "This will raise an exception in 3.3.\n",
            "  if __name__ == '__main__':\n"
          ],
          "name": "stderr"
        },
        {
          "output_type": "display_data",
          "data": {
            "image/png": "[encoded data removed]",
            "text/plain": [
              "<Figure size 720x360 with 1 Axes>"
            ]
          },
          "metadata": {
            "tags": [],
            "needs_background": "light"
          }
        },
        {
          "output_type": "display_data",
          "data": {
            "text/plain": [
              "None"
            ]
          },
          "metadata": {
            "tags": []
          }
        }
      ]
    },
    {
      "cell_type": "markdown",
      "metadata": {
        "id": "Wf8eDNoJYxlw",
        "colab_type": "text"
      },
      "source": [
        "Note: sales incresed by high rate"
      ]
    },
    {
      "cell_type": "code",
      "metadata": {
        "id": "XStCQFqgYxlw",
        "colab_type": "code",
        "outputId": "674ba36a-8b12-467c-bd3e-6ed8cbe49cde",
        "colab": {
          "base_uri": "https://localhost:8080/",
          "height": 34
        }
      },
      "source": [
        "df['rank_level'] = pd.cut(df['rank_mean'],bins=2, labels=False)\n",
        "\n",
        "df.rank_level.count()"
      ],
      "execution_count": 118,
      "outputs": [
        {
          "output_type": "execute_result",
          "data": {
            "text/plain": [
              "8681"
            ]
          },
          "metadata": {
            "tags": []
          },
          "execution_count": 118
        }
      ]
    },
    {
      "cell_type": "markdown",
      "metadata": {
        "id": "IdMUdPq5Yxlz",
        "colab_type": "text"
      },
      "source": [
        "converted the mean to deal or denial for product status."
      ]
    },
    {
      "cell_type": "code",
      "metadata": {
        "id": "WqkWEx-9Yxlz",
        "colab_type": "code",
        "outputId": "66213cf8-4c88-4e62-d7cf-2bc6eb94b5d1",
        "colab": {
          "base_uri": "https://localhost:8080/",
          "height": 204
        }
      },
      "source": [
        "df['product_status'] = df['rank_level'].apply(lambda x: \"denial\" if (x>0)  else \"deal\")\n",
        "df=df.drop(columns=('rank_level'))\n",
        "df.head()"
      ],
      "execution_count": 119,
      "outputs": [
        {
          "output_type": "execute_result",
          "data": {
            "text/html": [
              "<div>\n",
              "<style scoped>\n",
              "    .dataframe tbody tr th:only-of-type {\n",
              "        vertical-align: middle;\n",
              "    }\n",
              "\n",
              "    .dataframe tbody tr th {\n",
              "        vertical-align: top;\n",
              "    }\n",
              "\n",
              "    .dataframe thead th {\n",
              "        text-align: right;\n",
              "    }\n",
              "</style>\n",
              "<table border=\"1\" class=\"dataframe\">\n",
              "  <thead>\n",
              "    <tr style=\"text-align: right;\">\n",
              "      <th></th>\n",
              "      <th>product_id</th>\n",
              "      <th>price</th>\n",
              "      <th>sales</th>\n",
              "      <th>rank_mean</th>\n",
              "      <th>high_rank</th>\n",
              "      <th>low_rank</th>\n",
              "      <th>product_status</th>\n",
              "    </tr>\n",
              "  </thead>\n",
              "  <tbody>\n",
              "    <tr>\n",
              "      <th>0</th>\n",
              "      <td>151926</td>\n",
              "      <td>25.95</td>\n",
              "      <td>83</td>\n",
              "      <td>42.0</td>\n",
              "      <td>1</td>\n",
              "      <td>121</td>\n",
              "      <td>deal</td>\n",
              "    </tr>\n",
              "    <tr>\n",
              "      <th>1</th>\n",
              "      <td>213413</td>\n",
              "      <td>19.95</td>\n",
              "      <td>550</td>\n",
              "      <td>71.0</td>\n",
              "      <td>4</td>\n",
              "      <td>255</td>\n",
              "      <td>deal</td>\n",
              "    </tr>\n",
              "    <tr>\n",
              "      <th>2</th>\n",
              "      <td>310130</td>\n",
              "      <td>12.95</td>\n",
              "      <td>492</td>\n",
              "      <td>25.0</td>\n",
              "      <td>2</td>\n",
              "      <td>80</td>\n",
              "      <td>deal</td>\n",
              "    </tr>\n",
              "    <tr>\n",
              "      <th>3</th>\n",
              "      <td>455200</td>\n",
              "      <td>29.95</td>\n",
              "      <td>22</td>\n",
              "      <td>28.0</td>\n",
              "      <td>1</td>\n",
              "      <td>137</td>\n",
              "      <td>deal</td>\n",
              "    </tr>\n",
              "    <tr>\n",
              "      <th>4</th>\n",
              "      <td>571044</td>\n",
              "      <td>15.95</td>\n",
              "      <td>386</td>\n",
              "      <td>88.0</td>\n",
              "      <td>5</td>\n",
              "      <td>205</td>\n",
              "      <td>deal</td>\n",
              "    </tr>\n",
              "  </tbody>\n",
              "</table>\n",
              "</div>"
            ],
            "text/plain": [
              "   product_id  price  sales  rank_mean  high_rank  low_rank product_status\n",
              "0      151926  25.95     83       42.0          1       121           deal\n",
              "1      213413  19.95    550       71.0          4       255           deal\n",
              "2      310130  12.95    492       25.0          2        80           deal\n",
              "3      455200  29.95     22       28.0          1       137           deal\n",
              "4      571044  15.95    386       88.0          5       205           deal"
            ]
          },
          "metadata": {
            "tags": []
          },
          "execution_count": 119
        }
      ]
    },
    {
      "cell_type": "code",
      "metadata": {
        "id": "qhkYU_6VB5N8",
        "colab_type": "code",
        "colab": {
          "base_uri": "https://localhost:8080/",
          "height": 280
        },
        "outputId": "a3783429-edec-4b7a-cfbc-eea3c1505961"
      },
      "source": [
        "ax = df[df['product_status'] == 'deal'].plot(kind='scatter', x='high_rank', y='sales', color='DarkBlue', label='deal');\n",
        "df[df['product_status'] == 'denial'].plot(kind='scatter', x='high_rank', y='sales', color='red', label='denial', ax=ax);\n",
        "plt.show()"
      ],
      "execution_count": 188,
      "outputs": [
        {
          "output_type": "display_data",
          "data": {
            "image/png": "[encoded data removed]",
            "text/plain": [
              "<Figure size 432x288 with 1 Axes>"
            ]
          },
          "metadata": {
            "tags": [],
            "needs_background": "light"
          }
        }
      ]
    },
    {
      "cell_type": "markdown",
      "metadata": {
        "id": "qOQcH43xYxl3",
        "colab_type": "text"
      },
      "source": [
        "visulaze the resutl"
      ]
    },
    {
      "cell_type": "code",
      "metadata": {
        "id": "E4WmTfpsYxl3",
        "colab_type": "code",
        "outputId": "f61d1b17-f435-46b7-9215-f0bca6fa46cc",
        "colab": {
          "base_uri": "https://localhost:8080/",
          "height": 776
        }
      },
      "source": [
        "x = df['product_status']\n",
        "y = df['sales']\n",
        "\n",
        "plt.figure(figsize=(10,8))\n",
        "plt.bar(x,y,color='#b33c00',label='Products',width=0.3)\n",
        "plt.ylabel('Sales', fontsize=14)\n",
        "plt.xlabel('Product status',fontsize=14)\n",
        "#plt.title('Sales by product status',fontsize=14)\n",
        "plt.legend(loc='upper lift', fontsize=14)\n",
        "a=plt.show()\n",
        "display(a)"
      ],
      "execution_count": 121,
      "outputs": [
        {
          "output_type": "stream",
          "text": [
            "/usr/local/lib/python3.6/dist-packages/ipykernel_launcher.py:9: MatplotlibDeprecationWarning: Unrecognized location 'upper lift'. Falling back on 'best'; valid locations are\n",
            "\tbest\n",
            "\tupper right\n",
            "\tupper left\n",
            "\tlower left\n",
            "\tlower right\n",
            "\tright\n",
            "\tcenter left\n",
            "\tcenter right\n",
            "\tlower center\n",
            "\tupper center\n",
            "\tcenter\n",
            "This will raise an exception in 3.3.\n",
            "  if __name__ == '__main__':\n"
          ],
          "name": "stderr"
        },
        {
          "output_type": "display_data",
          "data": {
            "image/png": "[encoded data removed]",
            "text/plain": [
              "<Figure size 720x576 with 1 Axes>"
            ]
          },
          "metadata": {
            "tags": [],
            "needs_background": "light"
          }
        },
        {
          "output_type": "display_data",
          "data": {
            "text/plain": [
              "None"
            ]
          },
          "metadata": {
            "tags": []
          }
        }
      ]
    },
    {
      "cell_type": "markdown",
      "metadata": {
        "id": "eA3dlY-BYxl9",
        "colab_type": "text"
      },
      "source": [
        "pre-processing testset"
      ]
    },
    {
      "cell_type": "code",
      "metadata": {
        "id": "O9t4scfOYxl9",
        "colab_type": "code",
        "colab": {
          "base_uri": "https://localhost:8080/",
          "height": 204
        },
        "outputId": "eb024570-5b7b-411c-df36-956b31dac219"
      },
      "source": [
        "sales71=pd.DataFrame(test_sales.groupby(['product_id']).sum()['sales']).reset_index()\n",
        "sales71.head()"
      ],
      "execution_count": 122,
      "outputs": [
        {
          "output_type": "execute_result",
          "data": {
            "text/html": [
              "<div>\n",
              "<style scoped>\n",
              "    .dataframe tbody tr th:only-of-type {\n",
              "        vertical-align: middle;\n",
              "    }\n",
              "\n",
              "    .dataframe tbody tr th {\n",
              "        vertical-align: top;\n",
              "    }\n",
              "\n",
              "    .dataframe thead th {\n",
              "        text-align: right;\n",
              "    }\n",
              "</style>\n",
              "<table border=\"1\" class=\"dataframe\">\n",
              "  <thead>\n",
              "    <tr style=\"text-align: right;\">\n",
              "      <th></th>\n",
              "      <th>product_id</th>\n",
              "      <th>sales</th>\n",
              "    </tr>\n",
              "  </thead>\n",
              "  <tbody>\n",
              "    <tr>\n",
              "      <th>0</th>\n",
              "      <td>151926</td>\n",
              "      <td>86</td>\n",
              "    </tr>\n",
              "    <tr>\n",
              "      <th>1</th>\n",
              "      <td>213413</td>\n",
              "      <td>214</td>\n",
              "    </tr>\n",
              "    <tr>\n",
              "      <th>2</th>\n",
              "      <td>310130</td>\n",
              "      <td>89</td>\n",
              "    </tr>\n",
              "    <tr>\n",
              "      <th>3</th>\n",
              "      <td>455200</td>\n",
              "      <td>4</td>\n",
              "    </tr>\n",
              "    <tr>\n",
              "      <th>4</th>\n",
              "      <td>571044</td>\n",
              "      <td>207</td>\n",
              "    </tr>\n",
              "  </tbody>\n",
              "</table>\n",
              "</div>"
            ],
            "text/plain": [
              "   product_id  sales\n",
              "0      151926     86\n",
              "1      213413    214\n",
              "2      310130     89\n",
              "3      455200      4\n",
              "4      571044    207"
            ]
          },
          "metadata": {
            "tags": []
          },
          "execution_count": 122
        }
      ]
    },
    {
      "cell_type": "code",
      "metadata": {
        "id": "3bAI3nzGYxmB",
        "colab_type": "code",
        "colab": {}
      },
      "source": [
        "sales71=pd.merge(products, sales71, left_on='product_id', right_on='product_id')"
      ],
      "execution_count": 0,
      "outputs": []
    },
    {
      "cell_type": "code",
      "metadata": {
        "id": "rK-81WjAYxmE",
        "colab_type": "code",
        "colab": {}
      },
      "source": [
        "stay_columns=['product_id','price'] \n",
        "sales71=pd.DataFrame(sales71.groupby(stay_columns).sum()['sales']).reset_index()"
      ],
      "execution_count": 0,
      "outputs": []
    },
    {
      "cell_type": "code",
      "metadata": {
        "id": "xOeAtVHRYxmI",
        "colab_type": "code",
        "colab": {}
      },
      "source": [
        "test_positions.loc[:,'high_rank']=test_positions.loc[:,'position'] \n",
        "high_rank=pd.DataFrame(test_positions.groupby(['product_id']).min()['position'] ).reset_index()\n",
        "test_positions=test_positions.drop('high_rank', axis=1)"
      ],
      "execution_count": 0,
      "outputs": []
    },
    {
      "cell_type": "code",
      "metadata": {
        "id": "ezU6nkm7YxmQ",
        "colab_type": "code",
        "colab": {}
      },
      "source": [
        "test_positions.loc[:,'low_rank']=test_positions.loc[:,'position'] \n",
        "low_rank=pd.DataFrame(test_positions.groupby(['product_id']).max()['position'] ).reset_index()\n",
        "test_positions=test_positions.drop('low_rank', axis=1)"
      ],
      "execution_count": 0,
      "outputs": []
    },
    {
      "cell_type": "code",
      "metadata": {
        "id": "EDoQ3PiZYxmS",
        "colab_type": "code",
        "colab": {}
      },
      "source": [
        "test_positions.loc[:,'rank_mean']=test_positions.loc[:,'position'] \n",
        "rank_mean=pd.DataFrame(test_positions.groupby(['product_id']).mean()['position']).reset_index()\n",
        "rank_mean=round(rank_mean)\n",
        "test_positions=test_positions.drop('rank_mean', axis=1)"
      ],
      "execution_count": 0,
      "outputs": []
    },
    {
      "cell_type": "code",
      "metadata": {
        "id": "n7HzDz8pYxmW",
        "colab_type": "code",
        "colab": {}
      },
      "source": [
        "positions_test=rank_mean.copy().rename(columns={\"position\": \"rank_mean\"}) \n",
        "positions_test.loc[:,'high_rank']=high_rank['position'] \n",
        "positions_test.loc[:,'low_rank']=low_rank['position'] "
      ],
      "execution_count": 0,
      "outputs": []
    },
    {
      "cell_type": "code",
      "metadata": {
        "id": "N4rueTR2Yxmc",
        "colab_type": "code",
        "colab": {
          "base_uri": "https://localhost:8080/",
          "height": 204
        },
        "outputId": "d211164c-e237-4d3a-f38e-f623cd1758bb"
      },
      "source": [
        "test_df=pd.merge(sales71, positions_test,  left_on=['product_id'], right_on=['product_id']) \n",
        "test_df.head()"
      ],
      "execution_count": 129,
      "outputs": [
        {
          "output_type": "execute_result",
          "data": {
            "text/html": [
              "<div>\n",
              "<style scoped>\n",
              "    .dataframe tbody tr th:only-of-type {\n",
              "        vertical-align: middle;\n",
              "    }\n",
              "\n",
              "    .dataframe tbody tr th {\n",
              "        vertical-align: top;\n",
              "    }\n",
              "\n",
              "    .dataframe thead th {\n",
              "        text-align: right;\n",
              "    }\n",
              "</style>\n",
              "<table border=\"1\" class=\"dataframe\">\n",
              "  <thead>\n",
              "    <tr style=\"text-align: right;\">\n",
              "      <th></th>\n",
              "      <th>product_id</th>\n",
              "      <th>price</th>\n",
              "      <th>sales</th>\n",
              "      <th>rank_mean</th>\n",
              "      <th>high_rank</th>\n",
              "      <th>low_rank</th>\n",
              "    </tr>\n",
              "  </thead>\n",
              "  <tbody>\n",
              "    <tr>\n",
              "      <th>0</th>\n",
              "      <td>151926</td>\n",
              "      <td>25.95</td>\n",
              "      <td>86</td>\n",
              "      <td>44.0</td>\n",
              "      <td>5</td>\n",
              "      <td>77</td>\n",
              "    </tr>\n",
              "    <tr>\n",
              "      <th>1</th>\n",
              "      <td>213413</td>\n",
              "      <td>19.95</td>\n",
              "      <td>214</td>\n",
              "      <td>107.0</td>\n",
              "      <td>58</td>\n",
              "      <td>158</td>\n",
              "    </tr>\n",
              "    <tr>\n",
              "      <th>2</th>\n",
              "      <td>310130</td>\n",
              "      <td>12.95</td>\n",
              "      <td>89</td>\n",
              "      <td>48.0</td>\n",
              "      <td>46</td>\n",
              "      <td>49</td>\n",
              "    </tr>\n",
              "    <tr>\n",
              "      <th>3</th>\n",
              "      <td>455200</td>\n",
              "      <td>29.95</td>\n",
              "      <td>4</td>\n",
              "      <td>41.0</td>\n",
              "      <td>17</td>\n",
              "      <td>53</td>\n",
              "    </tr>\n",
              "    <tr>\n",
              "      <th>4</th>\n",
              "      <td>571044</td>\n",
              "      <td>15.95</td>\n",
              "      <td>207</td>\n",
              "      <td>161.0</td>\n",
              "      <td>33</td>\n",
              "      <td>338</td>\n",
              "    </tr>\n",
              "  </tbody>\n",
              "</table>\n",
              "</div>"
            ],
            "text/plain": [
              "   product_id  price  sales  rank_mean  high_rank  low_rank\n",
              "0      151926  25.95     86       44.0          5        77\n",
              "1      213413  19.95    214      107.0         58       158\n",
              "2      310130  12.95     89       48.0         46        49\n",
              "3      455200  29.95      4       41.0         17        53\n",
              "4      571044  15.95    207      161.0         33       338"
            ]
          },
          "metadata": {
            "tags": []
          },
          "execution_count": 129
        }
      ]
    },
    {
      "cell_type": "code",
      "metadata": {
        "id": "1jefkIN80SZa",
        "colab_type": "code",
        "colab": {
          "base_uri": "https://localhost:8080/",
          "height": 119
        },
        "outputId": "09dfa0f8-5bf6-453e-d199-075b7503d61e"
      },
      "source": [
        "test_df['rank_mean'].head()"
      ],
      "execution_count": 130,
      "outputs": [
        {
          "output_type": "execute_result",
          "data": {
            "text/plain": [
              "0     44.0\n",
              "1    107.0\n",
              "2     48.0\n",
              "3     41.0\n",
              "4    161.0\n",
              "Name: rank_mean, dtype: float64"
            ]
          },
          "metadata": {
            "tags": []
          },
          "execution_count": 130
        }
      ]
    },
    {
      "cell_type": "code",
      "metadata": {
        "id": "n7sGdYZZYxmf",
        "colab_type": "code",
        "colab": {}
      },
      "source": [
        "test_df['rank_level'] = pd.cut(test_df['rank_mean'],bins=2, labels=False)"
      ],
      "execution_count": 0,
      "outputs": []
    },
    {
      "cell_type": "code",
      "metadata": {
        "id": "fjZA2EN-Yxmm",
        "colab_type": "code",
        "colab": {}
      },
      "source": [
        "test_df['product_status'] = test_df['rank_level'].apply(lambda x: \"denial\" if (x>0)  else \"deal\")\n",
        "test_df=test_df.drop(columns=('rank_level'))"
      ],
      "execution_count": 0,
      "outputs": []
    },
    {
      "cell_type": "markdown",
      "metadata": {
        "id": "S_Z1Lx2HYxms",
        "colab_type": "text"
      },
      "source": [
        "### Selecting the feature"
      ]
    },
    {
      "cell_type": "code",
      "metadata": {
        "id": "FOC4MqomYxms",
        "colab_type": "code",
        "outputId": "9aae316b-d976-4fd7-a989-4de0ef51b509",
        "colab": {
          "base_uri": "https://localhost:8080/",
          "height": 204
        }
      },
      "source": [
        "X_train = df[['price','sales','high_rank','low_rank']]\n",
        "\n",
        "X_train[0:5]"
      ],
      "execution_count": 133,
      "outputs": [
        {
          "output_type": "execute_result",
          "data": {
            "text/html": [
              "<div>\n",
              "<style scoped>\n",
              "    .dataframe tbody tr th:only-of-type {\n",
              "        vertical-align: middle;\n",
              "    }\n",
              "\n",
              "    .dataframe tbody tr th {\n",
              "        vertical-align: top;\n",
              "    }\n",
              "\n",
              "    .dataframe thead th {\n",
              "        text-align: right;\n",
              "    }\n",
              "</style>\n",
              "<table border=\"1\" class=\"dataframe\">\n",
              "  <thead>\n",
              "    <tr style=\"text-align: right;\">\n",
              "      <th></th>\n",
              "      <th>price</th>\n",
              "      <th>sales</th>\n",
              "      <th>high_rank</th>\n",
              "      <th>low_rank</th>\n",
              "    </tr>\n",
              "  </thead>\n",
              "  <tbody>\n",
              "    <tr>\n",
              "      <th>0</th>\n",
              "      <td>25.95</td>\n",
              "      <td>83</td>\n",
              "      <td>1</td>\n",
              "      <td>121</td>\n",
              "    </tr>\n",
              "    <tr>\n",
              "      <th>1</th>\n",
              "      <td>19.95</td>\n",
              "      <td>550</td>\n",
              "      <td>4</td>\n",
              "      <td>255</td>\n",
              "    </tr>\n",
              "    <tr>\n",
              "      <th>2</th>\n",
              "      <td>12.95</td>\n",
              "      <td>492</td>\n",
              "      <td>2</td>\n",
              "      <td>80</td>\n",
              "    </tr>\n",
              "    <tr>\n",
              "      <th>3</th>\n",
              "      <td>29.95</td>\n",
              "      <td>22</td>\n",
              "      <td>1</td>\n",
              "      <td>137</td>\n",
              "    </tr>\n",
              "    <tr>\n",
              "      <th>4</th>\n",
              "      <td>15.95</td>\n",
              "      <td>386</td>\n",
              "      <td>5</td>\n",
              "      <td>205</td>\n",
              "    </tr>\n",
              "  </tbody>\n",
              "</table>\n",
              "</div>"
            ],
            "text/plain": [
              "   price  sales  high_rank  low_rank\n",
              "0  25.95     83          1       121\n",
              "1  19.95    550          4       255\n",
              "2  12.95    492          2        80\n",
              "3  29.95     22          1       137\n",
              "4  15.95    386          5       205"
            ]
          },
          "metadata": {
            "tags": []
          },
          "execution_count": 133
        }
      ]
    },
    {
      "cell_type": "code",
      "metadata": {
        "id": "Mca_4toYYxmv",
        "colab_type": "code",
        "outputId": "5c9545f6-c745-4382-f670-18c371c5f7a4",
        "colab": {
          "base_uri": "https://localhost:8080/",
          "height": 34
        }
      },
      "source": [
        "y_train = df['product_status'].values\n",
        "y_train[0:5]"
      ],
      "execution_count": 134,
      "outputs": [
        {
          "output_type": "execute_result",
          "data": {
            "text/plain": [
              "array(['deal', 'deal', 'deal', 'deal', 'deal'], dtype=object)"
            ]
          },
          "metadata": {
            "tags": []
          },
          "execution_count": 134
        }
      ]
    },
    {
      "cell_type": "code",
      "metadata": {
        "id": "OrYbdGYTYxmy",
        "colab_type": "code",
        "outputId": "8d331f24-2ecc-437a-b770-dc1af5ea7615",
        "colab": {
          "base_uri": "https://localhost:8080/",
          "height": 204
        }
      },
      "source": [
        "X_test = test_df[['price','sales','high_rank','low_rank']]\n",
        "\n",
        "X_test[0:5]"
      ],
      "execution_count": 135,
      "outputs": [
        {
          "output_type": "execute_result",
          "data": {
            "text/html": [
              "<div>\n",
              "<style scoped>\n",
              "    .dataframe tbody tr th:only-of-type {\n",
              "        vertical-align: middle;\n",
              "    }\n",
              "\n",
              "    .dataframe tbody tr th {\n",
              "        vertical-align: top;\n",
              "    }\n",
              "\n",
              "    .dataframe thead th {\n",
              "        text-align: right;\n",
              "    }\n",
              "</style>\n",
              "<table border=\"1\" class=\"dataframe\">\n",
              "  <thead>\n",
              "    <tr style=\"text-align: right;\">\n",
              "      <th></th>\n",
              "      <th>price</th>\n",
              "      <th>sales</th>\n",
              "      <th>high_rank</th>\n",
              "      <th>low_rank</th>\n",
              "    </tr>\n",
              "  </thead>\n",
              "  <tbody>\n",
              "    <tr>\n",
              "      <th>0</th>\n",
              "      <td>25.95</td>\n",
              "      <td>86</td>\n",
              "      <td>5</td>\n",
              "      <td>77</td>\n",
              "    </tr>\n",
              "    <tr>\n",
              "      <th>1</th>\n",
              "      <td>19.95</td>\n",
              "      <td>214</td>\n",
              "      <td>58</td>\n",
              "      <td>158</td>\n",
              "    </tr>\n",
              "    <tr>\n",
              "      <th>2</th>\n",
              "      <td>12.95</td>\n",
              "      <td>89</td>\n",
              "      <td>46</td>\n",
              "      <td>49</td>\n",
              "    </tr>\n",
              "    <tr>\n",
              "      <th>3</th>\n",
              "      <td>29.95</td>\n",
              "      <td>4</td>\n",
              "      <td>17</td>\n",
              "      <td>53</td>\n",
              "    </tr>\n",
              "    <tr>\n",
              "      <th>4</th>\n",
              "      <td>15.95</td>\n",
              "      <td>207</td>\n",
              "      <td>33</td>\n",
              "      <td>338</td>\n",
              "    </tr>\n",
              "  </tbody>\n",
              "</table>\n",
              "</div>"
            ],
            "text/plain": [
              "   price  sales  high_rank  low_rank\n",
              "0  25.95     86          5        77\n",
              "1  19.95    214         58       158\n",
              "2  12.95     89         46        49\n",
              "3  29.95      4         17        53\n",
              "4  15.95    207         33       338"
            ]
          },
          "metadata": {
            "tags": []
          },
          "execution_count": 135
        }
      ]
    },
    {
      "cell_type": "code",
      "metadata": {
        "id": "TE9Iy1NbYxm1",
        "colab_type": "code",
        "outputId": "006d437f-5a42-4f8b-a218-35c4441008d0",
        "colab": {
          "base_uri": "https://localhost:8080/",
          "height": 34
        }
      },
      "source": [
        "y_test = test_df['product_status'].values\n",
        "y_test[0:5]"
      ],
      "execution_count": 136,
      "outputs": [
        {
          "output_type": "execute_result",
          "data": {
            "text/plain": [
              "array(['deal', 'deal', 'deal', 'deal', 'deal'], dtype=object)"
            ]
          },
          "metadata": {
            "tags": []
          },
          "execution_count": 136
        }
      ]
    },
    {
      "cell_type": "markdown",
      "metadata": {
        "id": "A146h-sjYxm5",
        "colab_type": "text"
      },
      "source": [
        "### Normalize Data"
      ]
    },
    {
      "cell_type": "code",
      "metadata": {
        "id": "quOj8f29Yxm5",
        "colab_type": "code",
        "outputId": "cc192d0d-c0a6-41a1-96c9-47071ea7a8a2",
        "colab": {
          "base_uri": "https://localhost:8080/",
          "height": 102
        }
      },
      "source": [
        "X_train= preprocessing.StandardScaler().fit(X_train).transform(X_train)\n",
        "X_train[0:5]"
      ],
      "execution_count": 137,
      "outputs": [
        {
          "output_type": "execute_result",
          "data": {
            "text/plain": [
              "array([[ 3.01e-02, -3.87e-01, -5.24e-01, -4.98e-01],\n",
              "       [-3.30e-01,  4.99e-01, -4.05e-01,  2.96e-01],\n",
              "       [-7.50e-01,  3.89e-01, -4.84e-01, -7.41e-01],\n",
              "       [ 2.70e-01, -5.03e-01, -5.24e-01, -4.03e-01],\n",
              "       [-5.70e-01,  1.88e-01, -3.66e-01, -4.75e-04]])"
            ]
          },
          "metadata": {
            "tags": []
          },
          "execution_count": 137
        }
      ]
    },
    {
      "cell_type": "code",
      "metadata": {
        "id": "0tEs4HPHYxm_",
        "colab_type": "code",
        "outputId": "ca0afa6c-b0c9-49e7-e29d-24dd5fa459bd",
        "colab": {
          "base_uri": "https://localhost:8080/",
          "height": 102
        }
      },
      "source": [
        "X_test= preprocessing.StandardScaler().fit(X_test).transform(X_test)\n",
        "X_test[0:5]"
      ],
      "execution_count": 138,
      "outputs": [
        {
          "output_type": "execute_result",
          "data": {
            "text/plain": [
              "array([[ 0.05, -0.1 , -0.63, -0.59],\n",
              "       [-0.33,  0.45,  0.2 , -0.19],\n",
              "       [-0.76, -0.09,  0.01, -0.73],\n",
              "       [ 0.3 , -0.45, -0.44, -0.71],\n",
              "       [-0.57,  0.42, -0.19,  0.69]])"
            ]
          },
          "metadata": {
            "tags": []
          },
          "execution_count": 138
        }
      ]
    },
    {
      "cell_type": "markdown",
      "metadata": {
        "id": "QouDhMHAYxnL",
        "colab_type": "text"
      },
      "source": [
        "## Model"
      ]
    },
    {
      "cell_type": "code",
      "metadata": {
        "id": "SppezvI1Yxnu",
        "colab_type": "code",
        "colab": {
          "base_uri": "https://localhost:8080/",
          "height": 85
        },
        "outputId": "bd50fdab-3f06-4bd5-9e3f-529e73c7a2e5"
      },
      "source": [
        "from sklearn import svm\n",
        "clf = svm.SVC(kernel='rbf')\n",
        "clf.fit(X_train, y_train) "
      ],
      "execution_count": 195,
      "outputs": [
        {
          "output_type": "execute_result",
          "data": {
            "text/plain": [
              "SVC(C=1.0, break_ties=False, cache_size=200, class_weight=None, coef0=0.0,\n",
              "    decision_function_shape='ovr', degree=3, gamma='scale', kernel='rbf',\n",
              "    max_iter=-1, probability=False, random_state=None, shrinking=True,\n",
              "    tol=0.001, verbose=False)"
            ]
          },
          "metadata": {
            "tags": []
          },
          "execution_count": 195
        }
      ]
    },
    {
      "cell_type": "code",
      "metadata": {
        "id": "QpjbkSG97gtl",
        "colab_type": "code",
        "colab": {
          "base_uri": "https://localhost:8080/",
          "height": 34
        },
        "outputId": "7c9f56de-764b-48af-ec75-b8c5482bbfcb"
      },
      "source": [
        "yhat = clf.predict(X_test)\n",
        "yhat [0:5]"
      ],
      "execution_count": 196,
      "outputs": [
        {
          "output_type": "execute_result",
          "data": {
            "text/plain": [
              "array(['deal', 'deal', 'deal', 'deal', 'deal'], dtype=object)"
            ]
          },
          "metadata": {
            "tags": []
          },
          "execution_count": 196
        }
      ]
    },
    {
      "cell_type": "code",
      "metadata": {
        "id": "9vHP8JhWYxnn",
        "colab_type": "code",
        "outputId": "62e32d36-b95d-425f-e61e-c5fedfcd56be",
        "colab": {
          "base_uri": "https://localhost:8080/",
          "height": 34
        }
      },
      "source": [
        "a = np.count_nonzero(yhat == 'deal')\n",
        "print('Total number of deal product is ',a)\n",
        "#print(b = np.count_nonzero(LR_yhat == 'denial'))"
      ],
      "execution_count": 197,
      "outputs": [
        {
          "output_type": "stream",
          "text": [
            "Total number of deal product is  7890\n"
          ],
          "name": "stdout"
        }
      ]
    },
    {
      "cell_type": "code",
      "metadata": {
        "id": "AISsGNOTYxnp",
        "colab_type": "code",
        "outputId": "6cf8deea-15e6-4f87-b430-9c76fe7e25cf",
        "colab": {
          "base_uri": "https://localhost:8080/",
          "height": 34
        }
      },
      "source": [
        "b = np.count_nonzero(yhat == 'denial')\n",
        "print('Total number of denial product is ',b)"
      ],
      "execution_count": 198,
      "outputs": [
        {
          "output_type": "stream",
          "text": [
            "Total number of denial product is  544\n"
          ],
          "name": "stdout"
        }
      ]
    },
    {
      "cell_type": "markdown",
      "metadata": {
        "id": "gU0yvNvDYxnx",
        "colab_type": "text"
      },
      "source": [
        "## Model Evaluation"
      ]
    },
    {
      "cell_type": "markdown",
      "metadata": {
        "id": "MGpoUPBPYxny",
        "colab_type": "text"
      },
      "source": [
        "confusion_matrix"
      ]
    },
    {
      "cell_type": "code",
      "metadata": {
        "id": "blE1C9GsYxn3",
        "colab_type": "code",
        "outputId": "bf58568d-486d-47fa-e923-9e192797ad42",
        "colab": {
          "base_uri": "https://localhost:8080/",
          "height": 51
        }
      },
      "source": [
        "from sklearn.metrics import classification_report, confusion_matrix\n",
        "import itertools\n",
        "def plot_confusion_matrix(cm, classes,\n",
        "                          normalize=False,\n",
        "                          title='',\n",
        "                          cmap=plt.cm.Blues):\n",
        "    \"\"\"\n",
        "    This function prints and plots the confusion matrix.\n",
        "    Normalization can be applied by setting `normalize=True`.\n",
        "    \"\"\"\n",
        "    if normalize:\n",
        "        cm = cm.astype('float') / cm.sum(axis=1)[:, np.newaxis]\n",
        "        print(\"Normalized confusion matrix\")\n",
        "    else:\n",
        "        print('Confusion matrix, without normalization')\n",
        "\n",
        "    print(cm)\n",
        "    plt.figure(figsize=(8, 6))\n",
        "    plt.imshow(cm, interpolation='nearest', cmap=cmap)\n",
        "    plt.title(title)\n",
        "    plt.colorbar()\n",
        "    tick_marks = np.arange(len(classes))\n",
        "    plt.xticks(tick_marks, classes, rotation=45)\n",
        "    plt.yticks(tick_marks, classes)\n",
        "    \n",
        "\n",
        "    fmt = '.2f' if normalize else 'd'\n",
        "    thresh = cm.max() / 2.\n",
        "    for i, j in itertools.product(range(cm.shape[0]), range(cm.shape[1])):\n",
        "        plt.text(j, i, format(cm[i, j], fmt),\n",
        "                 horizontalalignment=\"center\",\n",
        "                 color=\"white\" if cm[i, j] > thresh else \"black\")\n",
        "\n",
        "    plt.tight_layout()\n",
        "    plt.ylabel('True label')\n",
        "    plt.xlabel('Predicted label')\n",
        "print(confusion_matrix(y_test, yhat, labels=['denial','deal']))"
      ],
      "execution_count": 216,
      "outputs": [
        {
          "output_type": "stream",
          "text": [
            "[[ 496  152]\n",
            " [  48 7738]]\n"
          ],
          "name": "stdout"
        }
      ]
    },
    {
      "cell_type": "code",
      "metadata": {
        "id": "KQe2i60hYxn6",
        "colab_type": "code",
        "outputId": "a9a00737-d039-41ac-a00e-db85b1a82737",
        "colab": {
          "base_uri": "https://localhost:8080/",
          "height": 523
        }
      },
      "source": [
        "# Compute confusion matrix\n",
        "cnf_matrix = confusion_matrix(y_test, yhat, labels=['denial','deal'])\n",
        "np.set_printoptions(precision=2)\n",
        "\n",
        "\n",
        "# Plot non-normalized confusion matrix\n",
        "plt.figure()\n",
        "plot_confusion_matrix(cnf_matrix, classes=['denial = 0','deal = 1'],normalize= True,  title='Confusion matrix')\n"
      ],
      "execution_count": 217,
      "outputs": [
        {
          "output_type": "stream",
          "text": [
            "Normalized confusion matrix\n",
            "[[0.77 0.23]\n",
            " [0.01 0.99]]\n"
          ],
          "name": "stdout"
        },
        {
          "output_type": "display_data",
          "data": {
            "text/plain": [
              "<Figure size 432x288 with 0 Axes>"
            ]
          },
          "metadata": {
            "tags": []
          }
        },
        {
          "output_type": "display_data",
          "data": {
            "image/png": "[encoded data removed]",
            "text/plain": [
              "<Figure size 576x432 with 2 Axes>"
            ]
          },
          "metadata": {
            "tags": [],
            "needs_background": "light"
          }
        }
      ]
    }
  ]
}