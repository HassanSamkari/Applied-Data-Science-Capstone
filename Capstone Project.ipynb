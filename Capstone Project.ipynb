{
  "nbformat": 4,
  "nbformat_minor": 0,
  "metadata": {
    "name": "final capstone project",
    "notebookId": 4305624862839516,
    "colab": {
      "name": "Capstone Project.ipynb",
      "provenance": [],
      "toc_visible": true
    },
    "kernelspec": {
      "name": "python3",
      "display_name": "Python 3"
    }
  },
  "cells": [
    {
      "cell_type": "markdown",
      "metadata": {
        "id": "fqGFbBSJYxja",
        "colab_type": "text"
      },
      "source": [
        "Import libraries"
      ]
    },
    {
      "cell_type": "code",
      "metadata": {
        "id": "aWPECbgjYxjc",
        "colab_type": "code",
        "colab": {}
      },
      "source": [
        "#libraries to manipulate dataset\n",
        "import pandas as pd \n",
        "import numpy as np \n",
        "\n",
        "# library to visualize the data\n",
        "import matplotlib.pyplot as plt\n",
        "\n",
        "\n",
        "#libraries for normalization and split data \n",
        "from sklearn import preprocessing\n",
        "from sklearn.model_selection import train_test_split\n",
        "\n",
        "#libraries for model\n",
        "from sklearn.tree import DecisionTreeClassifier\n",
        "from sklearn.linear_model import LogisticRegression\n",
        "from sklearn import svm\n",
        "\n",
        "#libraries for evaluation th model\n",
        "\n",
        "from sklearn.metrics import classification_report, confusion_matrix\n",
        "\n",
        "\n",
        "import itertools\n"
      ],
      "execution_count": 0,
      "outputs": []
    },
    {
      "cell_type": "markdown",
      "metadata": {
        "id": "T-vJYPjCYxjl",
        "colab_type": "text"
      },
      "source": [
        "## Data pre-processing and  Visulationa dataframe"
      ]
    },
    {
      "cell_type": "markdown",
      "metadata": {
        "id": "B2gL94NxYxjm",
        "colab_type": "text"
      },
      "source": [
        "load product data"
      ]
    },
    {
      "cell_type": "code",
      "metadata": {
        "id": "LaeNJiT7Yxjm",
        "colab_type": "code",
        "outputId": "b6521fbf-8675-42e5-d04c-0f3bddcc1a78",
        "colab": {
          "base_uri": "https://localhost:8080/",
          "height": 221
        }
      },
      "source": [
        "products = pd.read_csv(\"/products.csv\")\n",
        "print(\"shape:\", products.shape)\n",
        "products.head()"
      ],
      "execution_count": 2,
      "outputs": [
        {
          "output_type": "stream",
          "text": [
            "shape: (15238, 4)\n"
          ],
          "name": "stdout"
        },
        {
          "output_type": "execute_result",
          "data": {
            "text/html": [
              "<div>\n",
              "<style scoped>\n",
              "    .dataframe tbody tr th:only-of-type {\n",
              "        vertical-align: middle;\n",
              "    }\n",
              "\n",
              "    .dataframe tbody tr th {\n",
              "        vertical-align: top;\n",
              "    }\n",
              "\n",
              "    .dataframe thead th {\n",
              "        text-align: right;\n",
              "    }\n",
              "</style>\n",
              "<table border=\"1\" class=\"dataframe\">\n",
              "  <thead>\n",
              "    <tr style=\"text-align: right;\">\n",
              "      <th></th>\n",
              "      <th>product_id</th>\n",
              "      <th>family_id</th>\n",
              "      <th>subfamily_id</th>\n",
              "      <th>price</th>\n",
              "    </tr>\n",
              "  </thead>\n",
              "  <tbody>\n",
              "    <tr>\n",
              "      <th>0</th>\n",
              "      <td>151926</td>\n",
              "      <td>396066037</td>\n",
              "      <td>335531561</td>\n",
              "      <td>25.95</td>\n",
              "    </tr>\n",
              "    <tr>\n",
              "      <th>1</th>\n",
              "      <td>213413</td>\n",
              "      <td>552529755</td>\n",
              "      <td>11509337</td>\n",
              "      <td>19.95</td>\n",
              "    </tr>\n",
              "    <tr>\n",
              "      <th>2</th>\n",
              "      <td>310130</td>\n",
              "      <td>679611953</td>\n",
              "      <td>533441312</td>\n",
              "      <td>12.95</td>\n",
              "    </tr>\n",
              "    <tr>\n",
              "      <th>3</th>\n",
              "      <td>373883</td>\n",
              "      <td>775013441</td>\n",
              "      <td>62518413</td>\n",
              "      <td>17.95</td>\n",
              "    </tr>\n",
              "    <tr>\n",
              "      <th>4</th>\n",
              "      <td>455200</td>\n",
              "      <td>998145072</td>\n",
              "      <td>490222156</td>\n",
              "      <td>29.95</td>\n",
              "    </tr>\n",
              "  </tbody>\n",
              "</table>\n",
              "</div>"
            ],
            "text/plain": [
              "   product_id  family_id  subfamily_id  price\n",
              "0      151926  396066037     335531561  25.95\n",
              "1      213413  552529755      11509337  19.95\n",
              "2      310130  679611953     533441312  12.95\n",
              "3      373883  775013441      62518413  17.95\n",
              "4      455200  998145072     490222156  29.95"
            ]
          },
          "metadata": {
            "tags": []
          },
          "execution_count": 2
        }
      ]
    },
    {
      "cell_type": "code",
      "metadata": {
        "id": "7sMidMLDYxjt",
        "colab_type": "code",
        "outputId": "10ecdef7-7af3-4e0a-a19f-049b66c0e0b6",
        "colab": {
          "base_uri": "https://localhost:8080/",
          "height": 34
        }
      },
      "source": [
        "products.price.mean()"
      ],
      "execution_count": 3,
      "outputs": [
        {
          "output_type": "execute_result",
          "data": {
            "text/plain": [
              "25.34484840530919"
            ]
          },
          "metadata": {
            "tags": []
          },
          "execution_count": 3
        }
      ]
    },
    {
      "cell_type": "markdown",
      "metadata": {
        "id": "Zjc3uIDXYxjy",
        "colab_type": "text"
      },
      "source": [
        "load sales data"
      ]
    },
    {
      "cell_type": "code",
      "metadata": {
        "id": "Ma-ad6nFYxj2",
        "colab_type": "code",
        "outputId": "36e6e831-7a5b-4024-c739-23a6c9fc1f95",
        "colab": {
          "base_uri": "https://localhost:8080/",
          "height": 221
        }
      },
      "source": [
        "sales = pd.read_csv('/sales_stock.csv' ) \n",
        "print(\"shape:\",sales.shape)\n",
        "sales.head()"
      ],
      "execution_count": 4,
      "outputs": [
        {
          "output_type": "stream",
          "text": [
            "shape: (3269693, 6)\n"
          ],
          "name": "stdout"
        },
        {
          "output_type": "execute_result",
          "data": {
            "text/html": [
              "<div>\n",
              "<style scoped>\n",
              "    .dataframe tbody tr th:only-of-type {\n",
              "        vertical-align: middle;\n",
              "    }\n",
              "\n",
              "    .dataframe tbody tr th {\n",
              "        vertical-align: top;\n",
              "    }\n",
              "\n",
              "    .dataframe thead th {\n",
              "        text-align: right;\n",
              "    }\n",
              "</style>\n",
              "<table border=\"1\" class=\"dataframe\">\n",
              "  <thead>\n",
              "    <tr style=\"text-align: right;\">\n",
              "      <th></th>\n",
              "      <th>date_number</th>\n",
              "      <th>product_id</th>\n",
              "      <th>color_id</th>\n",
              "      <th>size_id</th>\n",
              "      <th>sales</th>\n",
              "      <th>stock</th>\n",
              "    </tr>\n",
              "  </thead>\n",
              "  <tbody>\n",
              "    <tr>\n",
              "      <th>0</th>\n",
              "      <td>0</td>\n",
              "      <td>310130</td>\n",
              "      <td>78467031</td>\n",
              "      <td>7026791.0</td>\n",
              "      <td>1.0</td>\n",
              "      <td>93.0</td>\n",
              "    </tr>\n",
              "    <tr>\n",
              "      <th>1</th>\n",
              "      <td>0</td>\n",
              "      <td>310130</td>\n",
              "      <td>78467031</td>\n",
              "      <td>8015276.0</td>\n",
              "      <td>2.0</td>\n",
              "      <td>62.0</td>\n",
              "    </tr>\n",
              "    <tr>\n",
              "      <th>2</th>\n",
              "      <td>0</td>\n",
              "      <td>310130</td>\n",
              "      <td>78467031</td>\n",
              "      <td>452052101.0</td>\n",
              "      <td>1.0</td>\n",
              "      <td>18.0</td>\n",
              "    </tr>\n",
              "    <tr>\n",
              "      <th>3</th>\n",
              "      <td>0</td>\n",
              "      <td>310130</td>\n",
              "      <td>78467031</td>\n",
              "      <td>541898038.0</td>\n",
              "      <td>2.0</td>\n",
              "      <td>42.0</td>\n",
              "    </tr>\n",
              "    <tr>\n",
              "      <th>4</th>\n",
              "      <td>0</td>\n",
              "      <td>310130</td>\n",
              "      <td>78467031</td>\n",
              "      <td>558685710.0</td>\n",
              "      <td>3.0</td>\n",
              "      <td>113.0</td>\n",
              "    </tr>\n",
              "  </tbody>\n",
              "</table>\n",
              "</div>"
            ],
            "text/plain": [
              "   date_number  product_id  color_id      size_id  sales  stock\n",
              "0            0      310130  78467031    7026791.0    1.0   93.0\n",
              "1            0      310130  78467031    8015276.0    2.0   62.0\n",
              "2            0      310130  78467031  452052101.0    1.0   18.0\n",
              "3            0      310130  78467031  541898038.0    2.0   42.0\n",
              "4            0      310130  78467031  558685710.0    3.0  113.0"
            ]
          },
          "metadata": {
            "tags": []
          },
          "execution_count": 4
        }
      ]
    },
    {
      "cell_type": "markdown",
      "metadata": {
        "id": "gLRVW6iUYxj7",
        "colab_type": "text"
      },
      "source": [
        "create data frame for sales by day"
      ]
    },
    {
      "cell_type": "code",
      "metadata": {
        "id": "I7oZZJe8Yxj9",
        "colab_type": "code",
        "outputId": "d851bc62-c583-46ad-e26e-8558d7d41a63",
        "colab": {
          "base_uri": "https://localhost:8080/",
          "height": 204
        }
      },
      "source": [
        "sales_day=pd.DataFrame(sales.groupby(['date_number']).sum()['sales']).reset_index()\n",
        "sales_day.head()"
      ],
      "execution_count": 5,
      "outputs": [
        {
          "output_type": "execute_result",
          "data": {
            "text/html": [
              "<div>\n",
              "<style scoped>\n",
              "    .dataframe tbody tr th:only-of-type {\n",
              "        vertical-align: middle;\n",
              "    }\n",
              "\n",
              "    .dataframe tbody tr th {\n",
              "        vertical-align: top;\n",
              "    }\n",
              "\n",
              "    .dataframe thead th {\n",
              "        text-align: right;\n",
              "    }\n",
              "</style>\n",
              "<table border=\"1\" class=\"dataframe\">\n",
              "  <thead>\n",
              "    <tr style=\"text-align: right;\">\n",
              "      <th></th>\n",
              "      <th>date_number</th>\n",
              "      <th>sales</th>\n",
              "    </tr>\n",
              "  </thead>\n",
              "  <tbody>\n",
              "    <tr>\n",
              "      <th>0</th>\n",
              "      <td>0</td>\n",
              "      <td>30609.0</td>\n",
              "    </tr>\n",
              "    <tr>\n",
              "      <th>1</th>\n",
              "      <td>1</td>\n",
              "      <td>29806.0</td>\n",
              "    </tr>\n",
              "    <tr>\n",
              "      <th>2</th>\n",
              "      <td>2</td>\n",
              "      <td>28408.0</td>\n",
              "    </tr>\n",
              "    <tr>\n",
              "      <th>3</th>\n",
              "      <td>3</td>\n",
              "      <td>30983.0</td>\n",
              "    </tr>\n",
              "    <tr>\n",
              "      <th>4</th>\n",
              "      <td>4</td>\n",
              "      <td>40190.0</td>\n",
              "    </tr>\n",
              "  </tbody>\n",
              "</table>\n",
              "</div>"
            ],
            "text/plain": [
              "   date_number    sales\n",
              "0            0  30609.0\n",
              "1            1  29806.0\n",
              "2            2  28408.0\n",
              "3            3  30983.0\n",
              "4            4  40190.0"
            ]
          },
          "metadata": {
            "tags": []
          },
          "execution_count": 5
        }
      ]
    },
    {
      "cell_type": "code",
      "metadata": {
        "id": "97y8BqusYxkB",
        "colab_type": "code",
        "outputId": "5ea7b0e1-77fb-43d4-f1f3-088199850010",
        "colab": {
          "base_uri": "https://localhost:8080/",
          "height": 810
        }
      },
      "source": [
        "x = sales_day['date_number']\n",
        "y = sales_day['sales']\n",
        "\n",
        "\n",
        "plt.figure(figsize=(10,8))\n",
        "plt.plot(x,y)\n",
        "#plt.ylabel('Sales', fontsize=14)\n",
        "plt.xlabel('Days',fontsize=14)\n",
        "plt.title('Total sales by day',fontsize=14)\n",
        "plt.legend(loc='upper lift', fontsize=14)\n",
        "# Annotate arrow\n",
        "plt.annotate('trend B',\n",
        "            xy=(15,64200 ), xycoords='data',\n",
        "            xytext=(-70, 20), textcoords='offset points',\n",
        "            arrowprops=dict(arrowstyle=\"->\",\n",
        "                            connectionstyle=\"arc,angleA=0,armA=50,rad=10\"))\n",
        "\n",
        "plt.annotate('Cut off the data',\n",
        "            xy=(71,36000 ), xycoords='data',\n",
        "            xytext=(-80, 100), textcoords='offset points',\n",
        "            arrowprops=dict(arrowstyle=\"->\",\n",
        "                            connectionstyle=\"arc,angleA=0,armA=80,rad=30\"))\n",
        "\n",
        "plt.annotate('trend A',\n",
        "            xy=(79,81000 ), xycoords='data',\n",
        "            xytext=(-80, 0), textcoords='offset points',\n",
        "            arrowprops=dict(arrowstyle=\"->\",\n",
        "                            connectionstyle=\"arc,angleA=0,armA=50,rad=10\"))\n",
        "plt.annotate('trend C',\n",
        "            xy=(32,48000 ), xycoords='data',\n",
        "            xytext=(-70, 20), textcoords='offset points',\n",
        "            arrowprops=dict(arrowstyle=\"->\",\n",
        "                            connectionstyle=\"arc,angleA=0,armA=50,rad=10\"))\n",
        "\n",
        "a=plt.show()\n",
        "display(a)"
      ],
      "execution_count": 6,
      "outputs": [
        {
          "output_type": "stream",
          "text": [
            "No handles with labels found to put in legend.\n",
            "/usr/local/lib/python3.6/dist-packages/ipykernel_launcher.py:10: MatplotlibDeprecationWarning: Unrecognized location 'upper lift'. Falling back on 'best'; valid locations are\n",
            "\tbest\n",
            "\tupper right\n",
            "\tupper left\n",
            "\tlower left\n",
            "\tlower right\n",
            "\tright\n",
            "\tcenter left\n",
            "\tcenter right\n",
            "\tlower center\n",
            "\tupper center\n",
            "\tcenter\n",
            "This will raise an exception in 3.3.\n",
            "  # Remove the CWD from sys.path while we load stuff.\n"
          ],
          "name": "stderr"
        },
        {
          "output_type": "display_data",
          "data": {
            "image/png": "[encoded data removed]",
            "text/plain": [
              "<Figure size 720x576 with 1 Axes>"
            ]
          },
          "metadata": {
            "tags": [],
            "needs_background": "light"
          }
        },
        {
          "output_type": "display_data",
          "data": {
            "text/plain": [
              "None"
            ]
          },
          "metadata": {
            "tags": []
          }
        }
      ]
    },
    {
      "cell_type": "markdown",
      "metadata": {
        "id": "xgcmRjHAYxkF",
        "colab_type": "text"
      },
      "source": [
        "since the goal is to predicte demand for next 3 weeks, the dataset split train(0-71) and test(72-91)"
      ]
    },
    {
      "cell_type": "code",
      "metadata": {
        "id": "o2loTfW5YxkF",
        "colab_type": "code",
        "colab": {}
      },
      "source": [
        "train_sales = sales.loc[sales['date_number'] <= 71].reset_index(drop=True)\n",
        "test_sales = sales.loc[sales['date_number'] >= 72].reset_index(drop=True)"
      ],
      "execution_count": 0,
      "outputs": []
    },
    {
      "cell_type": "code",
      "metadata": {
        "id": "Xlhnuc_0YxkJ",
        "colab_type": "code",
        "outputId": "dd84fc5f-847e-4b1d-841b-f4665c0627b7",
        "colab": {
          "base_uri": "https://localhost:8080/",
          "height": 221
        }
      },
      "source": [
        "print(train_sales.shape)\n",
        "train_sales.head()"
      ],
      "execution_count": 8,
      "outputs": [
        {
          "output_type": "stream",
          "text": [
            "(2798946, 6)\n"
          ],
          "name": "stdout"
        },
        {
          "output_type": "execute_result",
          "data": {
            "text/html": [
              "<div>\n",
              "<style scoped>\n",
              "    .dataframe tbody tr th:only-of-type {\n",
              "        vertical-align: middle;\n",
              "    }\n",
              "\n",
              "    .dataframe tbody tr th {\n",
              "        vertical-align: top;\n",
              "    }\n",
              "\n",
              "    .dataframe thead th {\n",
              "        text-align: right;\n",
              "    }\n",
              "</style>\n",
              "<table border=\"1\" class=\"dataframe\">\n",
              "  <thead>\n",
              "    <tr style=\"text-align: right;\">\n",
              "      <th></th>\n",
              "      <th>date_number</th>\n",
              "      <th>product_id</th>\n",
              "      <th>color_id</th>\n",
              "      <th>size_id</th>\n",
              "      <th>sales</th>\n",
              "      <th>stock</th>\n",
              "    </tr>\n",
              "  </thead>\n",
              "  <tbody>\n",
              "    <tr>\n",
              "      <th>0</th>\n",
              "      <td>0</td>\n",
              "      <td>310130</td>\n",
              "      <td>78467031</td>\n",
              "      <td>7026791.0</td>\n",
              "      <td>1.0</td>\n",
              "      <td>93.0</td>\n",
              "    </tr>\n",
              "    <tr>\n",
              "      <th>1</th>\n",
              "      <td>0</td>\n",
              "      <td>310130</td>\n",
              "      <td>78467031</td>\n",
              "      <td>8015276.0</td>\n",
              "      <td>2.0</td>\n",
              "      <td>62.0</td>\n",
              "    </tr>\n",
              "    <tr>\n",
              "      <th>2</th>\n",
              "      <td>0</td>\n",
              "      <td>310130</td>\n",
              "      <td>78467031</td>\n",
              "      <td>452052101.0</td>\n",
              "      <td>1.0</td>\n",
              "      <td>18.0</td>\n",
              "    </tr>\n",
              "    <tr>\n",
              "      <th>3</th>\n",
              "      <td>0</td>\n",
              "      <td>310130</td>\n",
              "      <td>78467031</td>\n",
              "      <td>541898038.0</td>\n",
              "      <td>2.0</td>\n",
              "      <td>42.0</td>\n",
              "    </tr>\n",
              "    <tr>\n",
              "      <th>4</th>\n",
              "      <td>0</td>\n",
              "      <td>310130</td>\n",
              "      <td>78467031</td>\n",
              "      <td>558685710.0</td>\n",
              "      <td>3.0</td>\n",
              "      <td>113.0</td>\n",
              "    </tr>\n",
              "  </tbody>\n",
              "</table>\n",
              "</div>"
            ],
            "text/plain": [
              "   date_number  product_id  color_id      size_id  sales  stock\n",
              "0            0      310130  78467031    7026791.0    1.0   93.0\n",
              "1            0      310130  78467031    8015276.0    2.0   62.0\n",
              "2            0      310130  78467031  452052101.0    1.0   18.0\n",
              "3            0      310130  78467031  541898038.0    2.0   42.0\n",
              "4            0      310130  78467031  558685710.0    3.0  113.0"
            ]
          },
          "metadata": {
            "tags": []
          },
          "execution_count": 8
        }
      ]
    },
    {
      "cell_type": "code",
      "metadata": {
        "id": "EJ2tDsFVYxkP",
        "colab_type": "code",
        "outputId": "e02527d2-d33a-4946-d166-1764f5c18f26",
        "colab": {
          "base_uri": "https://localhost:8080/",
          "height": 221
        }
      },
      "source": [
        "print(test_sales.shape)\n",
        "test_sales.head()"
      ],
      "execution_count": 9,
      "outputs": [
        {
          "output_type": "stream",
          "text": [
            "(470747, 6)\n"
          ],
          "name": "stdout"
        },
        {
          "output_type": "execute_result",
          "data": {
            "text/html": [
              "<div>\n",
              "<style scoped>\n",
              "    .dataframe tbody tr th:only-of-type {\n",
              "        vertical-align: middle;\n",
              "    }\n",
              "\n",
              "    .dataframe tbody tr th {\n",
              "        vertical-align: top;\n",
              "    }\n",
              "\n",
              "    .dataframe thead th {\n",
              "        text-align: right;\n",
              "    }\n",
              "</style>\n",
              "<table border=\"1\" class=\"dataframe\">\n",
              "  <thead>\n",
              "    <tr style=\"text-align: right;\">\n",
              "      <th></th>\n",
              "      <th>date_number</th>\n",
              "      <th>product_id</th>\n",
              "      <th>color_id</th>\n",
              "      <th>size_id</th>\n",
              "      <th>sales</th>\n",
              "      <th>stock</th>\n",
              "    </tr>\n",
              "  </thead>\n",
              "  <tbody>\n",
              "    <tr>\n",
              "      <th>0</th>\n",
              "      <td>72</td>\n",
              "      <td>151926</td>\n",
              "      <td>909958217</td>\n",
              "      <td>54666687.0</td>\n",
              "      <td>1.0</td>\n",
              "      <td>73.0</td>\n",
              "    </tr>\n",
              "    <tr>\n",
              "      <th>1</th>\n",
              "      <td>72</td>\n",
              "      <td>151926</td>\n",
              "      <td>909958217</td>\n",
              "      <td>111455099.0</td>\n",
              "      <td>0.0</td>\n",
              "      <td>15.0</td>\n",
              "    </tr>\n",
              "    <tr>\n",
              "      <th>2</th>\n",
              "      <td>72</td>\n",
              "      <td>151926</td>\n",
              "      <td>909958217</td>\n",
              "      <td>242364222.0</td>\n",
              "      <td>2.0</td>\n",
              "      <td>109.0</td>\n",
              "    </tr>\n",
              "    <tr>\n",
              "      <th>3</th>\n",
              "      <td>72</td>\n",
              "      <td>151926</td>\n",
              "      <td>909958217</td>\n",
              "      <td>513017386.0</td>\n",
              "      <td>1.0</td>\n",
              "      <td>46.0</td>\n",
              "    </tr>\n",
              "    <tr>\n",
              "      <th>4</th>\n",
              "      <td>72</td>\n",
              "      <td>151926</td>\n",
              "      <td>909958217</td>\n",
              "      <td>820445075.0</td>\n",
              "      <td>0.0</td>\n",
              "      <td>66.0</td>\n",
              "    </tr>\n",
              "  </tbody>\n",
              "</table>\n",
              "</div>"
            ],
            "text/plain": [
              "   date_number  product_id   color_id      size_id  sales  stock\n",
              "0           72      151926  909958217   54666687.0    1.0   73.0\n",
              "1           72      151926  909958217  111455099.0    0.0   15.0\n",
              "2           72      151926  909958217  242364222.0    2.0  109.0\n",
              "3           72      151926  909958217  513017386.0    1.0   46.0\n",
              "4           72      151926  909958217  820445075.0    0.0   66.0"
            ]
          },
          "metadata": {
            "tags": []
          },
          "execution_count": 9
        }
      ]
    },
    {
      "cell_type": "markdown",
      "metadata": {
        "id": "Cf6-j263YxkT",
        "colab_type": "text"
      },
      "source": [
        "pre-process sales and products dataset to train the model"
      ]
    },
    {
      "cell_type": "code",
      "metadata": {
        "id": "Q01tIl7vYxkU",
        "colab_type": "code",
        "outputId": "2cf0ed1d-6222-4a2c-d6dc-b91dd8789c6f",
        "colab": {
          "base_uri": "https://localhost:8080/",
          "height": 204
        }
      },
      "source": [
        "sales_df=pd.DataFrame(train_sales.groupby(['product_id']).sum()['sales']).reset_index()\n",
        "sales_df.head()"
      ],
      "execution_count": 10,
      "outputs": [
        {
          "output_type": "execute_result",
          "data": {
            "text/html": [
              "<div>\n",
              "<style scoped>\n",
              "    .dataframe tbody tr th:only-of-type {\n",
              "        vertical-align: middle;\n",
              "    }\n",
              "\n",
              "    .dataframe tbody tr th {\n",
              "        vertical-align: top;\n",
              "    }\n",
              "\n",
              "    .dataframe thead th {\n",
              "        text-align: right;\n",
              "    }\n",
              "</style>\n",
              "<table border=\"1\" class=\"dataframe\">\n",
              "  <thead>\n",
              "    <tr style=\"text-align: right;\">\n",
              "      <th></th>\n",
              "      <th>product_id</th>\n",
              "      <th>sales</th>\n",
              "    </tr>\n",
              "  </thead>\n",
              "  <tbody>\n",
              "    <tr>\n",
              "      <th>0</th>\n",
              "      <td>151926</td>\n",
              "      <td>83.0</td>\n",
              "    </tr>\n",
              "    <tr>\n",
              "      <th>1</th>\n",
              "      <td>213413</td>\n",
              "      <td>550.0</td>\n",
              "    </tr>\n",
              "    <tr>\n",
              "      <th>2</th>\n",
              "      <td>310130</td>\n",
              "      <td>492.0</td>\n",
              "    </tr>\n",
              "    <tr>\n",
              "      <th>3</th>\n",
              "      <td>455200</td>\n",
              "      <td>22.0</td>\n",
              "    </tr>\n",
              "    <tr>\n",
              "      <th>4</th>\n",
              "      <td>571044</td>\n",
              "      <td>386.0</td>\n",
              "    </tr>\n",
              "  </tbody>\n",
              "</table>\n",
              "</div>"
            ],
            "text/plain": [
              "   product_id  sales\n",
              "0      151926   83.0\n",
              "1      213413  550.0\n",
              "2      310130  492.0\n",
              "3      455200   22.0\n",
              "4      571044  386.0"
            ]
          },
          "metadata": {
            "tags": []
          },
          "execution_count": 10
        }
      ]
    },
    {
      "cell_type": "markdown",
      "metadata": {
        "id": "WcT-vqH8YxkZ",
        "colab_type": "text"
      },
      "source": [
        "Merge sales data with products to include the price and sales."
      ]
    },
    {
      "cell_type": "code",
      "metadata": {
        "id": "H1Ex21tbYxka",
        "colab_type": "code",
        "outputId": "11cd6472-059c-470d-cd68-07b2764bd875",
        "colab": {
          "base_uri": "https://localhost:8080/",
          "height": 204
        }
      },
      "source": [
        "product_sales=pd.merge(products, train_sales, left_on='product_id', right_on='product_id')\n",
        "product_sales.head()"
      ],
      "execution_count": 11,
      "outputs": [
        {
          "output_type": "execute_result",
          "data": {
            "text/html": [
              "<div>\n",
              "<style scoped>\n",
              "    .dataframe tbody tr th:only-of-type {\n",
              "        vertical-align: middle;\n",
              "    }\n",
              "\n",
              "    .dataframe tbody tr th {\n",
              "        vertical-align: top;\n",
              "    }\n",
              "\n",
              "    .dataframe thead th {\n",
              "        text-align: right;\n",
              "    }\n",
              "</style>\n",
              "<table border=\"1\" class=\"dataframe\">\n",
              "  <thead>\n",
              "    <tr style=\"text-align: right;\">\n",
              "      <th></th>\n",
              "      <th>product_id</th>\n",
              "      <th>family_id</th>\n",
              "      <th>subfamily_id</th>\n",
              "      <th>price</th>\n",
              "      <th>date_number</th>\n",
              "      <th>color_id</th>\n",
              "      <th>size_id</th>\n",
              "      <th>sales</th>\n",
              "      <th>stock</th>\n",
              "    </tr>\n",
              "  </thead>\n",
              "  <tbody>\n",
              "    <tr>\n",
              "      <th>0</th>\n",
              "      <td>151926</td>\n",
              "      <td>396066037</td>\n",
              "      <td>335531561</td>\n",
              "      <td>25.95</td>\n",
              "      <td>59</td>\n",
              "      <td>909958217</td>\n",
              "      <td>111455099.0</td>\n",
              "      <td>0.0</td>\n",
              "      <td>17.0</td>\n",
              "    </tr>\n",
              "    <tr>\n",
              "      <th>1</th>\n",
              "      <td>151926</td>\n",
              "      <td>396066037</td>\n",
              "      <td>335531561</td>\n",
              "      <td>25.95</td>\n",
              "      <td>59</td>\n",
              "      <td>909958217</td>\n",
              "      <td>242364222.0</td>\n",
              "      <td>3.0</td>\n",
              "      <td>63.0</td>\n",
              "    </tr>\n",
              "    <tr>\n",
              "      <th>2</th>\n",
              "      <td>151926</td>\n",
              "      <td>396066037</td>\n",
              "      <td>335531561</td>\n",
              "      <td>25.95</td>\n",
              "      <td>59</td>\n",
              "      <td>909958217</td>\n",
              "      <td>513017386.0</td>\n",
              "      <td>1.0</td>\n",
              "      <td>33.0</td>\n",
              "    </tr>\n",
              "    <tr>\n",
              "      <th>3</th>\n",
              "      <td>151926</td>\n",
              "      <td>396066037</td>\n",
              "      <td>335531561</td>\n",
              "      <td>25.95</td>\n",
              "      <td>59</td>\n",
              "      <td>909958217</td>\n",
              "      <td>820445075.0</td>\n",
              "      <td>1.0</td>\n",
              "      <td>42.0</td>\n",
              "    </tr>\n",
              "    <tr>\n",
              "      <th>4</th>\n",
              "      <td>151926</td>\n",
              "      <td>396066037</td>\n",
              "      <td>335531561</td>\n",
              "      <td>25.95</td>\n",
              "      <td>60</td>\n",
              "      <td>909958217</td>\n",
              "      <td>54666687.0</td>\n",
              "      <td>2.0</td>\n",
              "      <td>72.0</td>\n",
              "    </tr>\n",
              "  </tbody>\n",
              "</table>\n",
              "</div>"
            ],
            "text/plain": [
              "   product_id  family_id  subfamily_id  ...      size_id  sales  stock\n",
              "0      151926  396066037     335531561  ...  111455099.0    0.0   17.0\n",
              "1      151926  396066037     335531561  ...  242364222.0    3.0   63.0\n",
              "2      151926  396066037     335531561  ...  513017386.0    1.0   33.0\n",
              "3      151926  396066037     335531561  ...  820445075.0    1.0   42.0\n",
              "4      151926  396066037     335531561  ...   54666687.0    2.0   72.0\n",
              "\n",
              "[5 rows x 9 columns]"
            ]
          },
          "metadata": {
            "tags": []
          },
          "execution_count": 11
        }
      ]
    },
    {
      "cell_type": "code",
      "metadata": {
        "id": "7ttOmGwmYxkh",
        "colab_type": "code",
        "outputId": "80c7737a-10e3-4df0-e68d-c22a62ecf69d",
        "colab": {
          "base_uri": "https://localhost:8080/",
          "height": 204
        }
      },
      "source": [
        "stay_columns=['product_id','price'] \n",
        "\n",
        "product_sales_final=pd.DataFrame(product_sales.groupby(stay_columns).sum()['sales']).reset_index()\n",
        "\n",
        "product_sales_final.head()"
      ],
      "execution_count": 12,
      "outputs": [
        {
          "output_type": "execute_result",
          "data": {
            "text/html": [
              "<div>\n",
              "<style scoped>\n",
              "    .dataframe tbody tr th:only-of-type {\n",
              "        vertical-align: middle;\n",
              "    }\n",
              "\n",
              "    .dataframe tbody tr th {\n",
              "        vertical-align: top;\n",
              "    }\n",
              "\n",
              "    .dataframe thead th {\n",
              "        text-align: right;\n",
              "    }\n",
              "</style>\n",
              "<table border=\"1\" class=\"dataframe\">\n",
              "  <thead>\n",
              "    <tr style=\"text-align: right;\">\n",
              "      <th></th>\n",
              "      <th>product_id</th>\n",
              "      <th>price</th>\n",
              "      <th>sales</th>\n",
              "    </tr>\n",
              "  </thead>\n",
              "  <tbody>\n",
              "    <tr>\n",
              "      <th>0</th>\n",
              "      <td>151926</td>\n",
              "      <td>25.95</td>\n",
              "      <td>83.0</td>\n",
              "    </tr>\n",
              "    <tr>\n",
              "      <th>1</th>\n",
              "      <td>213413</td>\n",
              "      <td>19.95</td>\n",
              "      <td>550.0</td>\n",
              "    </tr>\n",
              "    <tr>\n",
              "      <th>2</th>\n",
              "      <td>310130</td>\n",
              "      <td>12.95</td>\n",
              "      <td>492.0</td>\n",
              "    </tr>\n",
              "    <tr>\n",
              "      <th>3</th>\n",
              "      <td>455200</td>\n",
              "      <td>29.95</td>\n",
              "      <td>22.0</td>\n",
              "    </tr>\n",
              "    <tr>\n",
              "      <th>4</th>\n",
              "      <td>571044</td>\n",
              "      <td>15.95</td>\n",
              "      <td>386.0</td>\n",
              "    </tr>\n",
              "  </tbody>\n",
              "</table>\n",
              "</div>"
            ],
            "text/plain": [
              "   product_id  price  sales\n",
              "0      151926  25.95   83.0\n",
              "1      213413  19.95  550.0\n",
              "2      310130  12.95  492.0\n",
              "3      455200  29.95   22.0\n",
              "4      571044  15.95  386.0"
            ]
          },
          "metadata": {
            "tags": []
          },
          "execution_count": 12
        }
      ]
    },
    {
      "cell_type": "markdown",
      "metadata": {
        "id": "R1-dAxdIYxkk",
        "colab_type": "text"
      },
      "source": [
        "Load positions data"
      ]
    },
    {
      "cell_type": "code",
      "metadata": {
        "id": "6HS9Sa4XYxkk",
        "colab_type": "code",
        "outputId": "eeb1e772-6483-4377-99bc-a07fdb6a4536",
        "colab": {
          "base_uri": "https://localhost:8080/",
          "height": 221
        }
      },
      "source": [
        "positions = pd.read_csv('/positions.csv')\n",
        "print(\"shape:\",positions.shape)\n",
        "positions.head()"
      ],
      "execution_count": 13,
      "outputs": [
        {
          "output_type": "stream",
          "text": [
            "shape: (1507874, 4)\n"
          ],
          "name": "stdout"
        },
        {
          "output_type": "execute_result",
          "data": {
            "text/html": [
              "<div>\n",
              "<style scoped>\n",
              "    .dataframe tbody tr th:only-of-type {\n",
              "        vertical-align: middle;\n",
              "    }\n",
              "\n",
              "    .dataframe tbody tr th {\n",
              "        vertical-align: top;\n",
              "    }\n",
              "\n",
              "    .dataframe thead th {\n",
              "        text-align: right;\n",
              "    }\n",
              "</style>\n",
              "<table border=\"1\" class=\"dataframe\">\n",
              "  <thead>\n",
              "    <tr style=\"text-align: right;\">\n",
              "      <th></th>\n",
              "      <th>date_number</th>\n",
              "      <th>product_id</th>\n",
              "      <th>category_id</th>\n",
              "      <th>position</th>\n",
              "    </tr>\n",
              "  </thead>\n",
              "  <tbody>\n",
              "    <tr>\n",
              "      <th>0</th>\n",
              "      <td>0</td>\n",
              "      <td>4450020</td>\n",
              "      <td>4461548</td>\n",
              "      <td>17</td>\n",
              "    </tr>\n",
              "    <tr>\n",
              "      <th>1</th>\n",
              "      <td>0</td>\n",
              "      <td>42147334</td>\n",
              "      <td>4461548</td>\n",
              "      <td>4</td>\n",
              "    </tr>\n",
              "    <tr>\n",
              "      <th>2</th>\n",
              "      <td>0</td>\n",
              "      <td>81131830</td>\n",
              "      <td>4461548</td>\n",
              "      <td>35</td>\n",
              "    </tr>\n",
              "    <tr>\n",
              "      <th>3</th>\n",
              "      <td>0</td>\n",
              "      <td>84035833</td>\n",
              "      <td>4461548</td>\n",
              "      <td>38</td>\n",
              "    </tr>\n",
              "    <tr>\n",
              "      <th>4</th>\n",
              "      <td>0</td>\n",
              "      <td>125252584</td>\n",
              "      <td>4461548</td>\n",
              "      <td>39</td>\n",
              "    </tr>\n",
              "  </tbody>\n",
              "</table>\n",
              "</div>"
            ],
            "text/plain": [
              "   date_number  product_id  category_id  position\n",
              "0            0     4450020      4461548        17\n",
              "1            0    42147334      4461548         4\n",
              "2            0    81131830      4461548        35\n",
              "3            0    84035833      4461548        38\n",
              "4            0   125252584      4461548        39"
            ]
          },
          "metadata": {
            "tags": []
          },
          "execution_count": 13
        }
      ]
    },
    {
      "cell_type": "code",
      "metadata": {
        "id": "SCVkCou0Yxko",
        "colab_type": "code",
        "outputId": "7f72d891-e9ee-4f37-c33f-03f6fc2f3851",
        "colab": {
          "base_uri": "https://localhost:8080/",
          "height": 51
        }
      },
      "source": [
        "print('There are {} product_id in dataset.'.format(len(products['product_id'].unique())))\n",
        "print('But there are only {} have positions.'.format(len(positions['product_id'].unique())))"
      ],
      "execution_count": 14,
      "outputs": [
        {
          "output_type": "stream",
          "text": [
            "There are 15238 product_id in dataset.\n",
            "But there are only 9136 have positions.\n"
          ],
          "name": "stdout"
        }
      ]
    },
    {
      "cell_type": "code",
      "metadata": {
        "id": "k5Oxb1mgYxks",
        "colab_type": "code",
        "outputId": "c8740c66-5fb4-4d6a-e088-4bc1f46ded40",
        "colab": {
          "base_uri": "https://localhost:8080/",
          "height": 51
        }
      },
      "source": [
        "print('There are {} product_id in dataset.'.format(len(products['product_id'].unique())))\n",
        "print('But there are only {} have sales.'.format(len(sales['product_id'].unique())))"
      ],
      "execution_count": 15,
      "outputs": [
        {
          "output_type": "stream",
          "text": [
            "There are 15238 product_id in dataset.\n",
            "But there are only 9497 have sales.\n"
          ],
          "name": "stdout"
        }
      ]
    },
    {
      "cell_type": "markdown",
      "metadata": {
        "id": "nGC1D21AYxkx",
        "colab_type": "text"
      },
      "source": [
        "split positions data by day to traind the model"
      ]
    },
    {
      "cell_type": "code",
      "metadata": {
        "id": "noYCgN-SYxkx",
        "colab_type": "code",
        "colab": {}
      },
      "source": [
        "train_positions = positions.loc[positions['date_number'] <= 71].reset_index(drop=True)\n",
        "test_positions = positions.loc[positions['date_number'] >= 72].reset_index(drop=True)"
      ],
      "execution_count": 0,
      "outputs": []
    },
    {
      "cell_type": "markdown",
      "metadata": {
        "id": "04GuUcrYYxk2",
        "colab_type": "text"
      },
      "source": [
        "pre-process the positions"
      ]
    },
    {
      "cell_type": "markdown",
      "metadata": {
        "id": "PZgZ0LujYxk3",
        "colab_type": "text"
      },
      "source": [
        "high_rank: minimum (best) position of each product"
      ]
    },
    {
      "cell_type": "code",
      "metadata": {
        "id": "hvtfRmwpYxk3",
        "colab_type": "code",
        "colab": {}
      },
      "source": [
        "#insert column high_rank \n",
        "train_positions.loc[:,'high_rank']=train_positions.loc[:,'position'] \n",
        "# select the min value of position for each product in each day\n",
        "high_rank=pd.DataFrame(train_positions.groupby(['product_id']).min()['position'] ).reset_index()\n",
        "train_positions=train_positions.drop('high_rank', axis=1)"
      ],
      "execution_count": 0,
      "outputs": []
    },
    {
      "cell_type": "markdown",
      "metadata": {
        "id": "5YDvTs53Yxk7",
        "colab_type": "text"
      },
      "source": [
        "low_rank: maximum (worst) position of each product"
      ]
    },
    {
      "cell_type": "code",
      "metadata": {
        "id": "iFFHjPV_Yxk9",
        "colab_type": "code",
        "colab": {}
      },
      "source": [
        "# insert column low_rank \n",
        "train_positions.loc[:,'low_rank']=train_positions.loc[:,'position'] \n",
        "#select the max value of position for each product in each day\n",
        "low_rank=pd.DataFrame(train_positions.groupby(['product_id']).max()['position'] ).reset_index()\n",
        "train_positions=train_positions.drop('low_rank', axis=1)"
      ],
      "execution_count": 0,
      "outputs": []
    },
    {
      "cell_type": "markdown",
      "metadata": {
        "id": "SnX4pogfYxlB",
        "colab_type": "text"
      },
      "source": [
        "calculate the mean position for every product"
      ]
    },
    {
      "cell_type": "code",
      "metadata": {
        "id": "HJQ7Pnk8YxlD",
        "colab_type": "code",
        "colab": {}
      },
      "source": [
        "train_positions.loc[:,'rank_mean']=train_positions.loc[:,'position'] \n",
        "rank_mean=pd.DataFrame(train_positions.groupby(['product_id']).mean()['position']).reset_index()\n",
        "rank_mean=round(rank_mean)\n",
        "train_positions=train_positions.drop('rank_mean', axis=1)"
      ],
      "execution_count": 0,
      "outputs": []
    },
    {
      "cell_type": "markdown",
      "metadata": {
        "id": "Pr0MmsyWYxlG",
        "colab_type": "text"
      },
      "source": [
        "creating final data fram for positions"
      ]
    },
    {
      "cell_type": "code",
      "metadata": {
        "id": "kwr9-9gLYxlG",
        "colab_type": "code",
        "outputId": "c9a8fe7d-b820-4664-9203-56578c95c7af",
        "colab": {
          "base_uri": "https://localhost:8080/",
          "height": 221
        }
      },
      "source": [
        "positions_df=rank_mean.copy().rename(columns={\"position\": \"rank_mean\"}) \n",
        "positions_df.loc[:,'high_rank']=high_rank['position'] \n",
        "positions_df.loc[:,'low_rank']=low_rank['position'] \n",
        "print(\"shape:\",positions_df.shape)\n",
        "positions_df.head()"
      ],
      "execution_count": 20,
      "outputs": [
        {
          "output_type": "stream",
          "text": [
            "shape: (8759, 4)\n"
          ],
          "name": "stdout"
        },
        {
          "output_type": "execute_result",
          "data": {
            "text/html": [
              "<div>\n",
              "<style scoped>\n",
              "    .dataframe tbody tr th:only-of-type {\n",
              "        vertical-align: middle;\n",
              "    }\n",
              "\n",
              "    .dataframe tbody tr th {\n",
              "        vertical-align: top;\n",
              "    }\n",
              "\n",
              "    .dataframe thead th {\n",
              "        text-align: right;\n",
              "    }\n",
              "</style>\n",
              "<table border=\"1\" class=\"dataframe\">\n",
              "  <thead>\n",
              "    <tr style=\"text-align: right;\">\n",
              "      <th></th>\n",
              "      <th>product_id</th>\n",
              "      <th>rank_mean</th>\n",
              "      <th>high_rank</th>\n",
              "      <th>low_rank</th>\n",
              "    </tr>\n",
              "  </thead>\n",
              "  <tbody>\n",
              "    <tr>\n",
              "      <th>0</th>\n",
              "      <td>151926</td>\n",
              "      <td>42.0</td>\n",
              "      <td>1</td>\n",
              "      <td>121</td>\n",
              "    </tr>\n",
              "    <tr>\n",
              "      <th>1</th>\n",
              "      <td>213413</td>\n",
              "      <td>71.0</td>\n",
              "      <td>4</td>\n",
              "      <td>255</td>\n",
              "    </tr>\n",
              "    <tr>\n",
              "      <th>2</th>\n",
              "      <td>310130</td>\n",
              "      <td>25.0</td>\n",
              "      <td>2</td>\n",
              "      <td>80</td>\n",
              "    </tr>\n",
              "    <tr>\n",
              "      <th>3</th>\n",
              "      <td>455200</td>\n",
              "      <td>28.0</td>\n",
              "      <td>1</td>\n",
              "      <td>137</td>\n",
              "    </tr>\n",
              "    <tr>\n",
              "      <th>4</th>\n",
              "      <td>571044</td>\n",
              "      <td>88.0</td>\n",
              "      <td>5</td>\n",
              "      <td>205</td>\n",
              "    </tr>\n",
              "  </tbody>\n",
              "</table>\n",
              "</div>"
            ],
            "text/plain": [
              "   product_id  rank_mean  high_rank  low_rank\n",
              "0      151926       42.0          1       121\n",
              "1      213413       71.0          4       255\n",
              "2      310130       25.0          2        80\n",
              "3      455200       28.0          1       137\n",
              "4      571044       88.0          5       205"
            ]
          },
          "metadata": {
            "tags": []
          },
          "execution_count": 20
        }
      ]
    },
    {
      "cell_type": "markdown",
      "metadata": {
        "id": "rdRx3ThQYxlJ",
        "colab_type": "text"
      },
      "source": [
        "creating final training data frame"
      ]
    },
    {
      "cell_type": "code",
      "metadata": {
        "id": "gkdGug_kYxlK",
        "colab_type": "code",
        "outputId": "197ca1fc-8672-4ba8-a840-22babcaa5bc8",
        "colab": {
          "base_uri": "https://localhost:8080/",
          "height": 221
        }
      },
      "source": [
        "df=pd.merge(product_sales_final, positions_df,  left_on=['product_id'], right_on=['product_id']) \n",
        "print(df.shape)\n",
        "df.head()"
      ],
      "execution_count": 21,
      "outputs": [
        {
          "output_type": "stream",
          "text": [
            "(8681, 6)\n"
          ],
          "name": "stdout"
        },
        {
          "output_type": "execute_result",
          "data": {
            "text/html": [
              "<div>\n",
              "<style scoped>\n",
              "    .dataframe tbody tr th:only-of-type {\n",
              "        vertical-align: middle;\n",
              "    }\n",
              "\n",
              "    .dataframe tbody tr th {\n",
              "        vertical-align: top;\n",
              "    }\n",
              "\n",
              "    .dataframe thead th {\n",
              "        text-align: right;\n",
              "    }\n",
              "</style>\n",
              "<table border=\"1\" class=\"dataframe\">\n",
              "  <thead>\n",
              "    <tr style=\"text-align: right;\">\n",
              "      <th></th>\n",
              "      <th>product_id</th>\n",
              "      <th>price</th>\n",
              "      <th>sales</th>\n",
              "      <th>rank_mean</th>\n",
              "      <th>high_rank</th>\n",
              "      <th>low_rank</th>\n",
              "    </tr>\n",
              "  </thead>\n",
              "  <tbody>\n",
              "    <tr>\n",
              "      <th>0</th>\n",
              "      <td>151926</td>\n",
              "      <td>25.95</td>\n",
              "      <td>83.0</td>\n",
              "      <td>42.0</td>\n",
              "      <td>1</td>\n",
              "      <td>121</td>\n",
              "    </tr>\n",
              "    <tr>\n",
              "      <th>1</th>\n",
              "      <td>213413</td>\n",
              "      <td>19.95</td>\n",
              "      <td>550.0</td>\n",
              "      <td>71.0</td>\n",
              "      <td>4</td>\n",
              "      <td>255</td>\n",
              "    </tr>\n",
              "    <tr>\n",
              "      <th>2</th>\n",
              "      <td>310130</td>\n",
              "      <td>12.95</td>\n",
              "      <td>492.0</td>\n",
              "      <td>25.0</td>\n",
              "      <td>2</td>\n",
              "      <td>80</td>\n",
              "    </tr>\n",
              "    <tr>\n",
              "      <th>3</th>\n",
              "      <td>455200</td>\n",
              "      <td>29.95</td>\n",
              "      <td>22.0</td>\n",
              "      <td>28.0</td>\n",
              "      <td>1</td>\n",
              "      <td>137</td>\n",
              "    </tr>\n",
              "    <tr>\n",
              "      <th>4</th>\n",
              "      <td>571044</td>\n",
              "      <td>15.95</td>\n",
              "      <td>386.0</td>\n",
              "      <td>88.0</td>\n",
              "      <td>5</td>\n",
              "      <td>205</td>\n",
              "    </tr>\n",
              "  </tbody>\n",
              "</table>\n",
              "</div>"
            ],
            "text/plain": [
              "   product_id  price  sales  rank_mean  high_rank  low_rank\n",
              "0      151926  25.95   83.0       42.0          1       121\n",
              "1      213413  19.95  550.0       71.0          4       255\n",
              "2      310130  12.95  492.0       25.0          2        80\n",
              "3      455200  29.95   22.0       28.0          1       137\n",
              "4      571044  15.95  386.0       88.0          5       205"
            ]
          },
          "metadata": {
            "tags": []
          },
          "execution_count": 21
        }
      ]
    },
    {
      "cell_type": "code",
      "metadata": {
        "id": "IzTpq_5bYxlO",
        "colab_type": "code",
        "outputId": "ca9577dd-5d15-412b-9a09-99148cac5a16",
        "colab": {
          "base_uri": "https://localhost:8080/",
          "height": 235
        }
      },
      "source": [
        "df.corr()"
      ],
      "execution_count": 22,
      "outputs": [
        {
          "output_type": "execute_result",
          "data": {
            "text/html": [
              "<div>\n",
              "<style scoped>\n",
              "    .dataframe tbody tr th:only-of-type {\n",
              "        vertical-align: middle;\n",
              "    }\n",
              "\n",
              "    .dataframe tbody tr th {\n",
              "        vertical-align: top;\n",
              "    }\n",
              "\n",
              "    .dataframe thead th {\n",
              "        text-align: right;\n",
              "    }\n",
              "</style>\n",
              "<table border=\"1\" class=\"dataframe\">\n",
              "  <thead>\n",
              "    <tr style=\"text-align: right;\">\n",
              "      <th></th>\n",
              "      <th>product_id</th>\n",
              "      <th>price</th>\n",
              "      <th>sales</th>\n",
              "      <th>rank_mean</th>\n",
              "      <th>high_rank</th>\n",
              "      <th>low_rank</th>\n",
              "    </tr>\n",
              "  </thead>\n",
              "  <tbody>\n",
              "    <tr>\n",
              "      <th>product_id</th>\n",
              "      <td>1.000000</td>\n",
              "      <td>-0.004423</td>\n",
              "      <td>0.007819</td>\n",
              "      <td>0.005713</td>\n",
              "      <td>0.007879</td>\n",
              "      <td>0.006618</td>\n",
              "    </tr>\n",
              "    <tr>\n",
              "      <th>price</th>\n",
              "      <td>-0.004423</td>\n",
              "      <td>1.000000</td>\n",
              "      <td>-0.120031</td>\n",
              "      <td>0.001335</td>\n",
              "      <td>0.046639</td>\n",
              "      <td>0.009474</td>\n",
              "    </tr>\n",
              "    <tr>\n",
              "      <th>sales</th>\n",
              "      <td>0.007819</td>\n",
              "      <td>-0.120031</td>\n",
              "      <td>1.000000</td>\n",
              "      <td>-0.036398</td>\n",
              "      <td>-0.083394</td>\n",
              "      <td>0.005986</td>\n",
              "    </tr>\n",
              "    <tr>\n",
              "      <th>rank_mean</th>\n",
              "      <td>0.005713</td>\n",
              "      <td>0.001335</td>\n",
              "      <td>-0.036398</td>\n",
              "      <td>1.000000</td>\n",
              "      <td>0.601101</td>\n",
              "      <td>0.883619</td>\n",
              "    </tr>\n",
              "    <tr>\n",
              "      <th>high_rank</th>\n",
              "      <td>0.007879</td>\n",
              "      <td>0.046639</td>\n",
              "      <td>-0.083394</td>\n",
              "      <td>0.601101</td>\n",
              "      <td>1.000000</td>\n",
              "      <td>0.309536</td>\n",
              "    </tr>\n",
              "    <tr>\n",
              "      <th>low_rank</th>\n",
              "      <td>0.006618</td>\n",
              "      <td>0.009474</td>\n",
              "      <td>0.005986</td>\n",
              "      <td>0.883619</td>\n",
              "      <td>0.309536</td>\n",
              "      <td>1.000000</td>\n",
              "    </tr>\n",
              "  </tbody>\n",
              "</table>\n",
              "</div>"
            ],
            "text/plain": [
              "            product_id     price     sales  rank_mean  high_rank  low_rank\n",
              "product_id    1.000000 -0.004423  0.007819   0.005713   0.007879  0.006618\n",
              "price        -0.004423  1.000000 -0.120031   0.001335   0.046639  0.009474\n",
              "sales         0.007819 -0.120031  1.000000  -0.036398  -0.083394  0.005986\n",
              "rank_mean     0.005713  0.001335 -0.036398   1.000000   0.601101  0.883619\n",
              "high_rank     0.007879  0.046639 -0.083394   0.601101   1.000000  0.309536\n",
              "low_rank      0.006618  0.009474  0.005986   0.883619   0.309536  1.000000"
            ]
          },
          "metadata": {
            "tags": []
          },
          "execution_count": 22
        }
      ]
    },
    {
      "cell_type": "markdown",
      "metadata": {
        "id": "uKfl21fpYxlS",
        "colab_type": "text"
      },
      "source": [
        "Sales by price"
      ]
    },
    {
      "cell_type": "code",
      "metadata": {
        "id": "3OrdwUpgYxlT",
        "colab_type": "code",
        "outputId": "e06043c8-ba39-4701-cd5e-27015195fdf4",
        "colab": {
          "base_uri": "https://localhost:8080/",
          "height": 776
        }
      },
      "source": [
        "x = df['price']\n",
        "y = df['sales']\n",
        "\n",
        "plt.figure(figsize=(10,8))\n",
        "plt.scatter(x,y,c='#b3003b',label='Products')\n",
        "plt.ylabel('Sales', fontsize=14)\n",
        "plt.xlabel('Price',fontsize=14)\n",
        "#plt.title('sales by price',fontsize=14)\n",
        "plt.legend(loc='upper lift', fontsize=14)\n",
        "a=plt.show()\n",
        "display(a)"
      ],
      "execution_count": 55,
      "outputs": [
        {
          "output_type": "stream",
          "text": [
            "/usr/local/lib/python3.6/dist-packages/ipykernel_launcher.py:9: MatplotlibDeprecationWarning: Unrecognized location 'upper lift'. Falling back on 'best'; valid locations are\n",
            "\tbest\n",
            "\tupper right\n",
            "\tupper left\n",
            "\tlower left\n",
            "\tlower right\n",
            "\tright\n",
            "\tcenter left\n",
            "\tcenter right\n",
            "\tlower center\n",
            "\tupper center\n",
            "\tcenter\n",
            "This will raise an exception in 3.3.\n",
            "  if __name__ == '__main__':\n"
          ],
          "name": "stderr"
        },
        {
          "output_type": "display_data",
          "data": {
            "image/png": "[encoded data removed]",
            "text/plain": [
              "<Figure size 720x576 with 1 Axes>"
            ]
          },
          "metadata": {
            "tags": [],
            "needs_background": "light"
          }
        },
        {
          "output_type": "display_data",
          "data": {
            "text/plain": [
              "None"
            ]
          },
          "metadata": {
            "tags": []
          }
        }
      ]
    },
    {
      "cell_type": "markdown",
      "metadata": {
        "id": "vmP5l7osYxlY",
        "colab_type": "text"
      },
      "source": [
        "Note: When the price is low, sales are high"
      ]
    },
    {
      "cell_type": "markdown",
      "metadata": {
        "id": "oL6MTUGZYxla",
        "colab_type": "text"
      },
      "source": [
        "Sales by mean product positions"
      ]
    },
    {
      "cell_type": "code",
      "metadata": {
        "id": "yaFx3o8PYxlb",
        "colab_type": "code",
        "outputId": "4fabdf69-601e-4590-d09e-d1214497a881",
        "colab": {
          "base_uri": "https://localhost:8080/",
          "height": 776
        }
      },
      "source": [
        "x = df['rank_mean']\n",
        "y = df['sales']\n",
        "\n",
        "plt.figure(figsize=(10,8))\n",
        "plt.scatter(x,y,c='#86b300',label='Products')\n",
        "plt.ylabel('Sales', fontsize=14)\n",
        "plt.xlabel('Mean Positions',fontsize=14)\n",
        "#plt.title('Sales by Mean Product Positions',fontsize=14)\n",
        "plt.legend(loc='upper lift', fontsize=14)\n",
        "a=plt.show()\n",
        "display(a)"
      ],
      "execution_count": 56,
      "outputs": [
        {
          "output_type": "stream",
          "text": [
            "/usr/local/lib/python3.6/dist-packages/ipykernel_launcher.py:9: MatplotlibDeprecationWarning: Unrecognized location 'upper lift'. Falling back on 'best'; valid locations are\n",
            "\tbest\n",
            "\tupper right\n",
            "\tupper left\n",
            "\tlower left\n",
            "\tlower right\n",
            "\tright\n",
            "\tcenter left\n",
            "\tcenter right\n",
            "\tlower center\n",
            "\tupper center\n",
            "\tcenter\n",
            "This will raise an exception in 3.3.\n",
            "  if __name__ == '__main__':\n"
          ],
          "name": "stderr"
        },
        {
          "output_type": "display_data",
          "data": {
            "image/png": "[encoded data removed]",
            "text/plain": [
              "<Figure size 720x576 with 1 Axes>"
            ]
          },
          "metadata": {
            "tags": [],
            "needs_background": "light"
          }
        },
        {
          "output_type": "display_data",
          "data": {
            "text/plain": [
              "None"
            ]
          },
          "metadata": {
            "tags": []
          }
        }
      ]
    },
    {
      "cell_type": "markdown",
      "metadata": {
        "id": "lujqzeKZYxle",
        "colab_type": "text"
      },
      "source": [
        "Note: When the mean is low( best), the sales are high"
      ]
    },
    {
      "cell_type": "markdown",
      "metadata": {
        "id": "WnK1JnCBYxlf",
        "colab_type": "text"
      },
      "source": [
        "Sales by high rank"
      ]
    },
    {
      "cell_type": "code",
      "metadata": {
        "id": "0h1EjR20Yxlg",
        "colab_type": "code",
        "outputId": "7ceabd34-873c-42d3-d395-22eff58ec68c",
        "colab": {
          "base_uri": "https://localhost:8080/",
          "height": 776
        }
      },
      "source": [
        "x = df['high_rank']\n",
        "y = df['sales']\n",
        "\n",
        "plt.figure(figsize=(10,8))\n",
        "plt.scatter(x,y,c='m',label='Products')\n",
        "plt.ylabel('Sales', fontsize=14)\n",
        "plt.xlabel('High positions',fontsize=14)\n",
        "#plt.title('Sales by High Ranks',fontsize=14)\n",
        "plt.legend(loc='upper lift', fontsize=14)\n",
        "a=plt.show()\n",
        "display(a)"
      ],
      "execution_count": 57,
      "outputs": [
        {
          "output_type": "stream",
          "text": [
            "/usr/local/lib/python3.6/dist-packages/ipykernel_launcher.py:9: MatplotlibDeprecationWarning: Unrecognized location 'upper lift'. Falling back on 'best'; valid locations are\n",
            "\tbest\n",
            "\tupper right\n",
            "\tupper left\n",
            "\tlower left\n",
            "\tlower right\n",
            "\tright\n",
            "\tcenter left\n",
            "\tcenter right\n",
            "\tlower center\n",
            "\tupper center\n",
            "\tcenter\n",
            "This will raise an exception in 3.3.\n",
            "  if __name__ == '__main__':\n"
          ],
          "name": "stderr"
        },
        {
          "output_type": "display_data",
          "data": {
            "image/png": "[encoded data removed]",
            "text/plain": [
              "<Figure size 720x576 with 1 Axes>"
            ]
          },
          "metadata": {
            "tags": [],
            "needs_background": "light"
          }
        },
        {
          "output_type": "display_data",
          "data": {
            "text/plain": [
              "None"
            ]
          },
          "metadata": {
            "tags": []
          }
        }
      ]
    },
    {
      "cell_type": "markdown",
      "metadata": {
        "id": "_JUGrWo8Yxli",
        "colab_type": "text"
      },
      "source": [
        "Note: the sales are high when the product has high rank"
      ]
    },
    {
      "cell_type": "markdown",
      "metadata": {
        "id": "UeyR2V-CYxlj",
        "colab_type": "text"
      },
      "source": [
        "Sales by low_rank"
      ]
    },
    {
      "cell_type": "code",
      "metadata": {
        "id": "-5w0RlnoYxlj",
        "colab_type": "code",
        "outputId": "1df82d81-81d7-4723-d406-3555a075bde4",
        "colab": {
          "base_uri": "https://localhost:8080/",
          "height": 776
        }
      },
      "source": [
        "x = df['low_rank']\n",
        "y = df['sales']\n",
        "\n",
        "plt.figure(figsize=(10,8))\n",
        "plt.scatter(x,y,c='c',label='Products')\n",
        "plt.ylabel('Sales', fontsize=14)\n",
        "plt.xlabel('Low positins',fontsize=14)\n",
        "#plt.title('Sales by Low Ranks',fontsize=14)\n",
        "plt.legend(loc='upper lift', fontsize=14)\n",
        "a=plt.show()\n",
        "display(a)"
      ],
      "execution_count": 58,
      "outputs": [
        {
          "output_type": "stream",
          "text": [
            "/usr/local/lib/python3.6/dist-packages/ipykernel_launcher.py:9: MatplotlibDeprecationWarning: Unrecognized location 'upper lift'. Falling back on 'best'; valid locations are\n",
            "\tbest\n",
            "\tupper right\n",
            "\tupper left\n",
            "\tlower left\n",
            "\tlower right\n",
            "\tright\n",
            "\tcenter left\n",
            "\tcenter right\n",
            "\tlower center\n",
            "\tupper center\n",
            "\tcenter\n",
            "This will raise an exception in 3.3.\n",
            "  if __name__ == '__main__':\n"
          ],
          "name": "stderr"
        },
        {
          "output_type": "display_data",
          "data": {
            "image/png": "[encoded data removed]",
            "text/plain": [
              "<Figure size 720x576 with 1 Axes>"
            ]
          },
          "metadata": {
            "tags": [],
            "needs_background": "light"
          }
        },
        {
          "output_type": "display_data",
          "data": {
            "text/plain": [
              "None"
            ]
          },
          "metadata": {
            "tags": []
          }
        }
      ]
    },
    {
      "cell_type": "markdown",
      "metadata": {
        "id": "6U95BXGhYxlo",
        "colab_type": "text"
      },
      "source": [
        "Note: sales are less when product rated by low"
      ]
    },
    {
      "cell_type": "markdown",
      "metadata": {
        "id": "zB9-KXCoYxlo",
        "colab_type": "text"
      },
      "source": [
        "converted mean to two bins"
      ]
    },
    {
      "cell_type": "code",
      "metadata": {
        "id": "UNn4sibeYxlp",
        "colab_type": "code",
        "outputId": "92cbe716-04ed-458a-d9c3-b6b56a4a23b0",
        "colab": {
          "base_uri": "https://localhost:8080/",
          "height": 204
        }
      },
      "source": [
        "bins=np.linspace(df.rank_mean.min(), df.rank_mean.max(), 5)\n",
        "\n",
        "#customer reviews 10 to 1.\n",
        "group_names=['4-stars','3-stars','2-stars','1-stars']\n",
        "\n",
        "df['rank_level'] = pd.cut(df['rank_mean'],bins, labels=group_names,include_lowest=True)\n",
        "\n",
        "df.head()"
      ],
      "execution_count": 60,
      "outputs": [
        {
          "output_type": "execute_result",
          "data": {
            "text/html": [
              "<div>\n",
              "<style scoped>\n",
              "    .dataframe tbody tr th:only-of-type {\n",
              "        vertical-align: middle;\n",
              "    }\n",
              "\n",
              "    .dataframe tbody tr th {\n",
              "        vertical-align: top;\n",
              "    }\n",
              "\n",
              "    .dataframe thead th {\n",
              "        text-align: right;\n",
              "    }\n",
              "</style>\n",
              "<table border=\"1\" class=\"dataframe\">\n",
              "  <thead>\n",
              "    <tr style=\"text-align: right;\">\n",
              "      <th></th>\n",
              "      <th>product_id</th>\n",
              "      <th>price</th>\n",
              "      <th>sales</th>\n",
              "      <th>rank_mean</th>\n",
              "      <th>high_rank</th>\n",
              "      <th>low_rank</th>\n",
              "      <th>product_status</th>\n",
              "      <th>rank_level</th>\n",
              "    </tr>\n",
              "  </thead>\n",
              "  <tbody>\n",
              "    <tr>\n",
              "      <th>0</th>\n",
              "      <td>151926</td>\n",
              "      <td>25.95</td>\n",
              "      <td>83.0</td>\n",
              "      <td>42.0</td>\n",
              "      <td>1</td>\n",
              "      <td>121</td>\n",
              "      <td>deal</td>\n",
              "      <td>4-stars</td>\n",
              "    </tr>\n",
              "    <tr>\n",
              "      <th>1</th>\n",
              "      <td>213413</td>\n",
              "      <td>19.95</td>\n",
              "      <td>550.0</td>\n",
              "      <td>71.0</td>\n",
              "      <td>4</td>\n",
              "      <td>255</td>\n",
              "      <td>deal</td>\n",
              "      <td>4-stars</td>\n",
              "    </tr>\n",
              "    <tr>\n",
              "      <th>2</th>\n",
              "      <td>310130</td>\n",
              "      <td>12.95</td>\n",
              "      <td>492.0</td>\n",
              "      <td>25.0</td>\n",
              "      <td>2</td>\n",
              "      <td>80</td>\n",
              "      <td>deal</td>\n",
              "      <td>4-stars</td>\n",
              "    </tr>\n",
              "    <tr>\n",
              "      <th>3</th>\n",
              "      <td>455200</td>\n",
              "      <td>29.95</td>\n",
              "      <td>22.0</td>\n",
              "      <td>28.0</td>\n",
              "      <td>1</td>\n",
              "      <td>137</td>\n",
              "      <td>deal</td>\n",
              "      <td>4-stars</td>\n",
              "    </tr>\n",
              "    <tr>\n",
              "      <th>4</th>\n",
              "      <td>571044</td>\n",
              "      <td>15.95</td>\n",
              "      <td>386.0</td>\n",
              "      <td>88.0</td>\n",
              "      <td>5</td>\n",
              "      <td>205</td>\n",
              "      <td>deal</td>\n",
              "      <td>4-stars</td>\n",
              "    </tr>\n",
              "  </tbody>\n",
              "</table>\n",
              "</div>"
            ],
            "text/plain": [
              "   product_id  price  sales  ...  low_rank  product_status  rank_level\n",
              "0      151926  25.95   83.0  ...       121            deal     4-stars\n",
              "1      213413  19.95  550.0  ...       255            deal     4-stars\n",
              "2      310130  12.95  492.0  ...        80            deal     4-stars\n",
              "3      455200  29.95   22.0  ...       137            deal     4-stars\n",
              "4      571044  15.95  386.0  ...       205            deal     4-stars\n",
              "\n",
              "[5 rows x 8 columns]"
            ]
          },
          "metadata": {
            "tags": []
          },
          "execution_count": 60
        }
      ]
    },
    {
      "cell_type": "code",
      "metadata": {
        "id": "7wmEvfF9Yxls",
        "colab_type": "code",
        "outputId": "a720d5b5-14d1-49ce-927b-398187755000",
        "colab": {
          "base_uri": "https://localhost:8080/",
          "height": 613
        }
      },
      "source": [
        "x = df['rank_level']\n",
        "y = df['sales']\n",
        "\n",
        "plt.figure(figsize=(10,5))\n",
        "plt.bar(x,y,color='#006680',label='Products',width=0.4)\n",
        "plt.ylabel('Sales', fontsize=14)\n",
        "plt.xlabel('Position level',fontsize=14)\n",
        "#plt.title('Sales by Position Level',fontsize=14)\n",
        "plt.legend(loc='upper lift', fontsize=14)\n",
        "a=plt.show()\n",
        "display(a)"
      ],
      "execution_count": 61,
      "outputs": [
        {
          "output_type": "stream",
          "text": [
            "/usr/local/lib/python3.6/dist-packages/ipykernel_launcher.py:9: MatplotlibDeprecationWarning: Unrecognized location 'upper lift'. Falling back on 'best'; valid locations are\n",
            "\tbest\n",
            "\tupper right\n",
            "\tupper left\n",
            "\tlower left\n",
            "\tlower right\n",
            "\tright\n",
            "\tcenter left\n",
            "\tcenter right\n",
            "\tlower center\n",
            "\tupper center\n",
            "\tcenter\n",
            "This will raise an exception in 3.3.\n",
            "  if __name__ == '__main__':\n"
          ],
          "name": "stderr"
        },
        {
          "output_type": "display_data",
          "data": {
            "image/png": "[encoded data removed]",
            "text/plain": [
              "<Figure size 720x360 with 1 Axes>"
            ]
          },
          "metadata": {
            "tags": [],
            "needs_background": "light"
          }
        },
        {
          "output_type": "display_data",
          "data": {
            "text/plain": [
              "None"
            ]
          },
          "metadata": {
            "tags": []
          }
        }
      ]
    },
    {
      "cell_type": "markdown",
      "metadata": {
        "id": "Wf8eDNoJYxlw",
        "colab_type": "text"
      },
      "source": [
        "Note: sales incresed by high rate"
      ]
    },
    {
      "cell_type": "code",
      "metadata": {
        "id": "XStCQFqgYxlw",
        "colab_type": "code",
        "outputId": "5e0e0ebc-1ab3-4b8e-ab91-9cc87d3ed9c1",
        "colab": {
          "base_uri": "https://localhost:8080/",
          "height": 34
        }
      },
      "source": [
        "df['rank_level'] = pd.cut(df['rank_mean'],bins=2, labels=False)\n",
        "\n",
        "df.rank_level.count()"
      ],
      "execution_count": 29,
      "outputs": [
        {
          "output_type": "execute_result",
          "data": {
            "text/plain": [
              "8681"
            ]
          },
          "metadata": {
            "tags": []
          },
          "execution_count": 29
        }
      ]
    },
    {
      "cell_type": "markdown",
      "metadata": {
        "id": "IdMUdPq5Yxlz",
        "colab_type": "text"
      },
      "source": [
        "converted the mean to deal or denial for product status."
      ]
    },
    {
      "cell_type": "code",
      "metadata": {
        "id": "WqkWEx-9Yxlz",
        "colab_type": "code",
        "outputId": "af3b2940-9187-4173-ab63-b17fd05e19c7",
        "colab": {
          "base_uri": "https://localhost:8080/",
          "height": 204
        }
      },
      "source": [
        "df['product_status'] = df['rank_level'].apply(lambda x: \"denial\" if (x>0)  else \"deal\")\n",
        "df=df.drop(columns=('rank_level'))\n",
        "df.head()"
      ],
      "execution_count": 30,
      "outputs": [
        {
          "output_type": "execute_result",
          "data": {
            "text/html": [
              "<div>\n",
              "<style scoped>\n",
              "    .dataframe tbody tr th:only-of-type {\n",
              "        vertical-align: middle;\n",
              "    }\n",
              "\n",
              "    .dataframe tbody tr th {\n",
              "        vertical-align: top;\n",
              "    }\n",
              "\n",
              "    .dataframe thead th {\n",
              "        text-align: right;\n",
              "    }\n",
              "</style>\n",
              "<table border=\"1\" class=\"dataframe\">\n",
              "  <thead>\n",
              "    <tr style=\"text-align: right;\">\n",
              "      <th></th>\n",
              "      <th>product_id</th>\n",
              "      <th>price</th>\n",
              "      <th>sales</th>\n",
              "      <th>rank_mean</th>\n",
              "      <th>high_rank</th>\n",
              "      <th>low_rank</th>\n",
              "      <th>product_status</th>\n",
              "    </tr>\n",
              "  </thead>\n",
              "  <tbody>\n",
              "    <tr>\n",
              "      <th>0</th>\n",
              "      <td>151926</td>\n",
              "      <td>25.95</td>\n",
              "      <td>83.0</td>\n",
              "      <td>42.0</td>\n",
              "      <td>1</td>\n",
              "      <td>121</td>\n",
              "      <td>deal</td>\n",
              "    </tr>\n",
              "    <tr>\n",
              "      <th>1</th>\n",
              "      <td>213413</td>\n",
              "      <td>19.95</td>\n",
              "      <td>550.0</td>\n",
              "      <td>71.0</td>\n",
              "      <td>4</td>\n",
              "      <td>255</td>\n",
              "      <td>deal</td>\n",
              "    </tr>\n",
              "    <tr>\n",
              "      <th>2</th>\n",
              "      <td>310130</td>\n",
              "      <td>12.95</td>\n",
              "      <td>492.0</td>\n",
              "      <td>25.0</td>\n",
              "      <td>2</td>\n",
              "      <td>80</td>\n",
              "      <td>deal</td>\n",
              "    </tr>\n",
              "    <tr>\n",
              "      <th>3</th>\n",
              "      <td>455200</td>\n",
              "      <td>29.95</td>\n",
              "      <td>22.0</td>\n",
              "      <td>28.0</td>\n",
              "      <td>1</td>\n",
              "      <td>137</td>\n",
              "      <td>deal</td>\n",
              "    </tr>\n",
              "    <tr>\n",
              "      <th>4</th>\n",
              "      <td>571044</td>\n",
              "      <td>15.95</td>\n",
              "      <td>386.0</td>\n",
              "      <td>88.0</td>\n",
              "      <td>5</td>\n",
              "      <td>205</td>\n",
              "      <td>deal</td>\n",
              "    </tr>\n",
              "  </tbody>\n",
              "</table>\n",
              "</div>"
            ],
            "text/plain": [
              "   product_id  price  sales  rank_mean  high_rank  low_rank product_status\n",
              "0      151926  25.95   83.0       42.0          1       121           deal\n",
              "1      213413  19.95  550.0       71.0          4       255           deal\n",
              "2      310130  12.95  492.0       25.0          2        80           deal\n",
              "3      455200  29.95   22.0       28.0          1       137           deal\n",
              "4      571044  15.95  386.0       88.0          5       205           deal"
            ]
          },
          "metadata": {
            "tags": []
          },
          "execution_count": 30
        }
      ]
    },
    {
      "cell_type": "markdown",
      "metadata": {
        "id": "qOQcH43xYxl3",
        "colab_type": "text"
      },
      "source": [
        "visulaze the resutl"
      ]
    },
    {
      "cell_type": "code",
      "metadata": {
        "id": "E4WmTfpsYxl3",
        "colab_type": "code",
        "outputId": "ec797a56-6b1d-49f7-c6cd-22f746bcd006",
        "colab": {
          "base_uri": "https://localhost:8080/",
          "height": 776
        }
      },
      "source": [
        "x = df['product_status']\n",
        "y = df['sales']\n",
        "\n",
        "plt.figure(figsize=(10,8))\n",
        "plt.bar(x,y,color='#b33c00',label='Products',width=0.3)\n",
        "plt.ylabel('Sales', fontsize=14)\n",
        "plt.xlabel('Product status',fontsize=14)\n",
        "#plt.title('Sales by product status',fontsize=14)\n",
        "plt.legend(loc='upper lift', fontsize=14)\n",
        "a=plt.show()\n",
        "display(a)"
      ],
      "execution_count": 62,
      "outputs": [
        {
          "output_type": "stream",
          "text": [
            "/usr/local/lib/python3.6/dist-packages/ipykernel_launcher.py:9: MatplotlibDeprecationWarning: Unrecognized location 'upper lift'. Falling back on 'best'; valid locations are\n",
            "\tbest\n",
            "\tupper right\n",
            "\tupper left\n",
            "\tlower left\n",
            "\tlower right\n",
            "\tright\n",
            "\tcenter left\n",
            "\tcenter right\n",
            "\tlower center\n",
            "\tupper center\n",
            "\tcenter\n",
            "This will raise an exception in 3.3.\n",
            "  if __name__ == '__main__':\n"
          ],
          "name": "stderr"
        },
        {
          "output_type": "display_data",
          "data": {
            "image/png": "[encoded data removed]",
            "text/plain": [
              "<Figure size 720x576 with 1 Axes>"
            ]
          },
          "metadata": {
            "tags": [],
            "needs_background": "light"
          }
        },
        {
          "output_type": "display_data",
          "data": {
            "text/plain": [
              "None"
            ]
          },
          "metadata": {
            "tags": []
          }
        }
      ]
    },
    {
      "cell_type": "markdown",
      "metadata": {
        "id": "eA3dlY-BYxl9",
        "colab_type": "text"
      },
      "source": [
        "pre-processing testset"
      ]
    },
    {
      "cell_type": "code",
      "metadata": {
        "id": "O9t4scfOYxl9",
        "colab_type": "code",
        "colab": {}
      },
      "source": [
        "sales71=pd.DataFrame(test_sales.groupby(['product_id']).sum()['sales']).reset_index()"
      ],
      "execution_count": 0,
      "outputs": []
    },
    {
      "cell_type": "code",
      "metadata": {
        "id": "3bAI3nzGYxmB",
        "colab_type": "code",
        "colab": {}
      },
      "source": [
        "sales71=pd.merge(products, sales71, left_on='product_id', right_on='product_id')"
      ],
      "execution_count": 0,
      "outputs": []
    },
    {
      "cell_type": "code",
      "metadata": {
        "id": "rK-81WjAYxmE",
        "colab_type": "code",
        "colab": {}
      },
      "source": [
        "stay_columns=['product_id','price'] \n",
        "sales71=pd.DataFrame(sales71.groupby(stay_columns).sum()['sales']).reset_index()"
      ],
      "execution_count": 0,
      "outputs": []
    },
    {
      "cell_type": "code",
      "metadata": {
        "id": "xOeAtVHRYxmI",
        "colab_type": "code",
        "colab": {}
      },
      "source": [
        "test_positions.loc[:,'high_rank']=test_positions.loc[:,'position'] \n",
        "high_rank=pd.DataFrame(test_positions.groupby(['product_id']).min()['position'] ).reset_index()\n",
        "test_positions=test_positions.drop('high_rank', axis=1)"
      ],
      "execution_count": 0,
      "outputs": []
    },
    {
      "cell_type": "code",
      "metadata": {
        "id": "ezU6nkm7YxmQ",
        "colab_type": "code",
        "colab": {}
      },
      "source": [
        "test_positions.loc[:,'low_rank']=test_positions.loc[:,'position'] \n",
        "low_rank=pd.DataFrame(test_positions.groupby(['product_id']).max()['position'] ).reset_index()\n",
        "test_positions=test_positions.drop('low_rank', axis=1)"
      ],
      "execution_count": 0,
      "outputs": []
    },
    {
      "cell_type": "code",
      "metadata": {
        "id": "EDoQ3PiZYxmS",
        "colab_type": "code",
        "colab": {}
      },
      "source": [
        "test_positions.loc[:,'rank_mean']=test_positions.loc[:,'position'] \n",
        "rank_mean=pd.DataFrame(test_positions.groupby(['product_id']).mean()['position']).reset_index()\n",
        "rank_mean=round(rank_mean)\n",
        "test_positions=test_positions.drop('rank_mean', axis=1)"
      ],
      "execution_count": 0,
      "outputs": []
    },
    {
      "cell_type": "code",
      "metadata": {
        "id": "n7HzDz8pYxmW",
        "colab_type": "code",
        "colab": {}
      },
      "source": [
        "positions_test=rank_mean.copy().rename(columns={\"position\": \"rank_mean\"}) \n",
        "positions_test.loc[:,'high_rank']=high_rank['position'] \n",
        "positions_test.loc[:,'low_rank']=low_rank['position'] "
      ],
      "execution_count": 0,
      "outputs": []
    },
    {
      "cell_type": "code",
      "metadata": {
        "id": "N4rueTR2Yxmc",
        "colab_type": "code",
        "colab": {}
      },
      "source": [
        "test_df=pd.merge(sales71, positions_test,  left_on=['product_id'], right_on=['product_id']) "
      ],
      "execution_count": 0,
      "outputs": []
    },
    {
      "cell_type": "code",
      "metadata": {
        "id": "n7sGdYZZYxmf",
        "colab_type": "code",
        "colab": {}
      },
      "source": [
        "test_df['rank_level'] = pd.cut(test_df['rank_mean'],bins=2, labels=False)"
      ],
      "execution_count": 0,
      "outputs": []
    },
    {
      "cell_type": "code",
      "metadata": {
        "id": "fjZA2EN-Yxmm",
        "colab_type": "code",
        "colab": {}
      },
      "source": [
        "test_df['product_status'] = test_df['rank_level'].apply(lambda x: \"denial\" if (x>0)  else \"deal\")\n",
        "test_df=test_df.drop(columns=('rank_level'))"
      ],
      "execution_count": 0,
      "outputs": []
    },
    {
      "cell_type": "markdown",
      "metadata": {
        "id": "S_Z1Lx2HYxms",
        "colab_type": "text"
      },
      "source": [
        "### Selecting the feature"
      ]
    },
    {
      "cell_type": "code",
      "metadata": {
        "id": "FOC4MqomYxms",
        "colab_type": "code",
        "colab": {
          "base_uri": "https://localhost:8080/",
          "height": 204
        },
        "outputId": "d8febdba-efbf-4414-d2f9-b407afc088ec"
      },
      "source": [
        "X_train = df[['price','sales','high_rank','low_rank']]\n",
        "\n",
        "X_train[0:5]"
      ],
      "execution_count": 42,
      "outputs": [
        {
          "output_type": "execute_result",
          "data": {
            "text/html": [
              "<div>\n",
              "<style scoped>\n",
              "    .dataframe tbody tr th:only-of-type {\n",
              "        vertical-align: middle;\n",
              "    }\n",
              "\n",
              "    .dataframe tbody tr th {\n",
              "        vertical-align: top;\n",
              "    }\n",
              "\n",
              "    .dataframe thead th {\n",
              "        text-align: right;\n",
              "    }\n",
              "</style>\n",
              "<table border=\"1\" class=\"dataframe\">\n",
              "  <thead>\n",
              "    <tr style=\"text-align: right;\">\n",
              "      <th></th>\n",
              "      <th>price</th>\n",
              "      <th>sales</th>\n",
              "      <th>high_rank</th>\n",
              "      <th>low_rank</th>\n",
              "    </tr>\n",
              "  </thead>\n",
              "  <tbody>\n",
              "    <tr>\n",
              "      <th>0</th>\n",
              "      <td>25.95</td>\n",
              "      <td>83.0</td>\n",
              "      <td>1</td>\n",
              "      <td>121</td>\n",
              "    </tr>\n",
              "    <tr>\n",
              "      <th>1</th>\n",
              "      <td>19.95</td>\n",
              "      <td>550.0</td>\n",
              "      <td>4</td>\n",
              "      <td>255</td>\n",
              "    </tr>\n",
              "    <tr>\n",
              "      <th>2</th>\n",
              "      <td>12.95</td>\n",
              "      <td>492.0</td>\n",
              "      <td>2</td>\n",
              "      <td>80</td>\n",
              "    </tr>\n",
              "    <tr>\n",
              "      <th>3</th>\n",
              "      <td>29.95</td>\n",
              "      <td>22.0</td>\n",
              "      <td>1</td>\n",
              "      <td>137</td>\n",
              "    </tr>\n",
              "    <tr>\n",
              "      <th>4</th>\n",
              "      <td>15.95</td>\n",
              "      <td>386.0</td>\n",
              "      <td>5</td>\n",
              "      <td>205</td>\n",
              "    </tr>\n",
              "  </tbody>\n",
              "</table>\n",
              "</div>"
            ],
            "text/plain": [
              "   price  sales  high_rank  low_rank\n",
              "0  25.95   83.0          1       121\n",
              "1  19.95  550.0          4       255\n",
              "2  12.95  492.0          2        80\n",
              "3  29.95   22.0          1       137\n",
              "4  15.95  386.0          5       205"
            ]
          },
          "metadata": {
            "tags": []
          },
          "execution_count": 42
        }
      ]
    },
    {
      "cell_type": "code",
      "metadata": {
        "id": "Mca_4toYYxmv",
        "colab_type": "code",
        "colab": {
          "base_uri": "https://localhost:8080/",
          "height": 34
        },
        "outputId": "b3e40a08-f0b4-4d39-c369-e4f851d2496a"
      },
      "source": [
        "y_train = df['product_status'].values\n",
        "y_train[0:5]"
      ],
      "execution_count": 43,
      "outputs": [
        {
          "output_type": "execute_result",
          "data": {
            "text/plain": [
              "array(['deal', 'deal', 'deal', 'deal', 'deal'], dtype=object)"
            ]
          },
          "metadata": {
            "tags": []
          },
          "execution_count": 43
        }
      ]
    },
    {
      "cell_type": "code",
      "metadata": {
        "id": "OrYbdGYTYxmy",
        "colab_type": "code",
        "colab": {
          "base_uri": "https://localhost:8080/",
          "height": 204
        },
        "outputId": "24014e64-8c12-44a0-9661-d1d23578c38c"
      },
      "source": [
        "X_test = test_df[['price','sales','high_rank','low_rank']]\n",
        "\n",
        "X_test[0:5]"
      ],
      "execution_count": 44,
      "outputs": [
        {
          "output_type": "execute_result",
          "data": {
            "text/html": [
              "<div>\n",
              "<style scoped>\n",
              "    .dataframe tbody tr th:only-of-type {\n",
              "        vertical-align: middle;\n",
              "    }\n",
              "\n",
              "    .dataframe tbody tr th {\n",
              "        vertical-align: top;\n",
              "    }\n",
              "\n",
              "    .dataframe thead th {\n",
              "        text-align: right;\n",
              "    }\n",
              "</style>\n",
              "<table border=\"1\" class=\"dataframe\">\n",
              "  <thead>\n",
              "    <tr style=\"text-align: right;\">\n",
              "      <th></th>\n",
              "      <th>price</th>\n",
              "      <th>sales</th>\n",
              "      <th>high_rank</th>\n",
              "      <th>low_rank</th>\n",
              "    </tr>\n",
              "  </thead>\n",
              "  <tbody>\n",
              "    <tr>\n",
              "      <th>0</th>\n",
              "      <td>25.95</td>\n",
              "      <td>54.0</td>\n",
              "      <td>5</td>\n",
              "      <td>77</td>\n",
              "    </tr>\n",
              "    <tr>\n",
              "      <th>1</th>\n",
              "      <td>19.95</td>\n",
              "      <td>91.0</td>\n",
              "      <td>58</td>\n",
              "      <td>158</td>\n",
              "    </tr>\n",
              "    <tr>\n",
              "      <th>2</th>\n",
              "      <td>12.95</td>\n",
              "      <td>40.0</td>\n",
              "      <td>46</td>\n",
              "      <td>49</td>\n",
              "    </tr>\n",
              "    <tr>\n",
              "      <th>3</th>\n",
              "      <td>29.95</td>\n",
              "      <td>2.0</td>\n",
              "      <td>17</td>\n",
              "      <td>53</td>\n",
              "    </tr>\n",
              "    <tr>\n",
              "      <th>4</th>\n",
              "      <td>15.95</td>\n",
              "      <td>99.0</td>\n",
              "      <td>33</td>\n",
              "      <td>338</td>\n",
              "    </tr>\n",
              "  </tbody>\n",
              "</table>\n",
              "</div>"
            ],
            "text/plain": [
              "   price  sales  high_rank  low_rank\n",
              "0  25.95   54.0          5        77\n",
              "1  19.95   91.0         58       158\n",
              "2  12.95   40.0         46        49\n",
              "3  29.95    2.0         17        53\n",
              "4  15.95   99.0         33       338"
            ]
          },
          "metadata": {
            "tags": []
          },
          "execution_count": 44
        }
      ]
    },
    {
      "cell_type": "code",
      "metadata": {
        "id": "TE9Iy1NbYxm1",
        "colab_type": "code",
        "colab": {
          "base_uri": "https://localhost:8080/",
          "height": 34
        },
        "outputId": "d7789d3f-7c7b-441e-fecb-536752465928"
      },
      "source": [
        "y_test = test_df['product_status'].values\n",
        "y_test[0:5]"
      ],
      "execution_count": 45,
      "outputs": [
        {
          "output_type": "execute_result",
          "data": {
            "text/plain": [
              "array(['deal', 'deal', 'deal', 'deal', 'deal'], dtype=object)"
            ]
          },
          "metadata": {
            "tags": []
          },
          "execution_count": 45
        }
      ]
    },
    {
      "cell_type": "markdown",
      "metadata": {
        "id": "A146h-sjYxm5",
        "colab_type": "text"
      },
      "source": [
        "### Normalize Data"
      ]
    },
    {
      "cell_type": "code",
      "metadata": {
        "id": "quOj8f29Yxm5",
        "colab_type": "code",
        "colab": {
          "base_uri": "https://localhost:8080/",
          "height": 0
        },
        "outputId": "50c8ff52-3562-4829-edf0-241ec34c7afd"
      },
      "source": [
        "X_train= preprocessing.StandardScaler().fit(X_train).transform(X_train)\n",
        "X_train[0:5]"
      ],
      "execution_count": 46,
      "outputs": [
        {
          "output_type": "execute_result",
          "data": {
            "text/plain": [
              "array([[ 3.01076754e-02, -3.87211372e-01, -5.23594690e-01,\n",
              "        -4.97840144e-01],\n",
              "       [-3.29894708e-01,  4.99419266e-01, -4.05177498e-01,\n",
              "         2.95576131e-01],\n",
              "       [-7.49897488e-01,  3.89302398e-01, -4.84122292e-01,\n",
              "        -7.40601841e-01],\n",
              "       [ 2.70109264e-01, -5.03023940e-01, -5.23594690e-01,\n",
              "        -4.03103873e-01],\n",
              "       [-5.69896297e-01,  1.88054331e-01, -3.65705100e-01,\n",
              "        -4.74718099e-04]])"
            ]
          },
          "metadata": {
            "tags": []
          },
          "execution_count": 46
        }
      ]
    },
    {
      "cell_type": "code",
      "metadata": {
        "id": "0tEs4HPHYxm_",
        "colab_type": "code",
        "colab": {
          "base_uri": "https://localhost:8080/",
          "height": 0
        },
        "outputId": "b3d40ecf-02c5-4120-8383-635999afa01d"
      },
      "source": [
        "X_test= preprocessing.StandardScaler().fit(X_test).transform(X_test)\n",
        "X_test[0:5]"
      ],
      "execution_count": 47,
      "outputs": [
        {
          "output_type": "execute_result",
          "data": {
            "text/plain": [
              "array([[ 0.04652676, -0.01828786, -0.62628461, -0.58531466],\n",
              "       [-0.32473738,  0.28046115,  0.20063939, -0.18790152],\n",
              "       [-0.75787888, -0.13132802,  0.01341132, -0.72269205],\n",
              "       [ 0.29403619, -0.43815132, -0.43905654, -0.70306671],\n",
              "       [-0.57224681,  0.34505553, -0.1894191 ,  0.69523881]])"
            ]
          },
          "metadata": {
            "tags": []
          },
          "execution_count": 47
        }
      ]
    },
    {
      "cell_type": "markdown",
      "metadata": {
        "id": "QouDhMHAYxnL",
        "colab_type": "text"
      },
      "source": [
        "## Model"
      ]
    },
    {
      "cell_type": "code",
      "metadata": {
        "id": "hmf6zf3JYxnM",
        "colab_type": "code",
        "colab": {
          "base_uri": "https://localhost:8080/",
          "height": 0
        },
        "outputId": "7f47d684-54e0-4be5-9341-7c3ae0a4743f"
      },
      "source": [
        "from sklearn.linear_model import LogisticRegression\n",
        "LR_model = LogisticRegression(C=0.01).fit(X_train,y_train)\n",
        "LR_model"
      ],
      "execution_count": 48,
      "outputs": [
        {
          "output_type": "execute_result",
          "data": {
            "text/plain": [
              "LogisticRegression(C=0.01, class_weight=None, dual=False, fit_intercept=True,\n",
              "                   intercept_scaling=1, l1_ratio=None, max_iter=100,\n",
              "                   multi_class='auto', n_jobs=None, penalty='l2',\n",
              "                   random_state=None, solver='lbfgs', tol=0.0001, verbose=0,\n",
              "                   warm_start=False)"
            ]
          },
          "metadata": {
            "tags": []
          },
          "execution_count": 48
        }
      ]
    },
    {
      "cell_type": "code",
      "metadata": {
        "id": "5B5mdPq2YxnR",
        "colab_type": "code",
        "colab": {}
      },
      "source": [
        "LR_yhat = LR_model.predict(X_test)"
      ],
      "execution_count": 0,
      "outputs": []
    },
    {
      "cell_type": "code",
      "metadata": {
        "id": "Ege6ULRAYxng",
        "colab_type": "code",
        "colab": {
          "base_uri": "https://localhost:8080/",
          "height": 0
        },
        "outputId": "f4a5f042-3834-4854-f8d6-4ad187012e96"
      },
      "source": [
        "LR_yhat"
      ],
      "execution_count": 50,
      "outputs": [
        {
          "output_type": "execute_result",
          "data": {
            "text/plain": [
              "array(['deal', 'deal', 'deal', ..., 'deal', 'deal', 'deal'], dtype=object)"
            ]
          },
          "metadata": {
            "tags": []
          },
          "execution_count": 50
        }
      ]
    },
    {
      "cell_type": "code",
      "metadata": {
        "id": "9vHP8JhWYxnn",
        "colab_type": "code",
        "colab": {
          "base_uri": "https://localhost:8080/",
          "height": 0
        },
        "outputId": "861368b6-668f-406c-a809-bd2bdf610b47"
      },
      "source": [
        "a = np.count_nonzero(LR_yhat == 'deal')\n",
        "print('Total number of deal product is ',a)\n",
        "#print(b = np.count_nonzero(LR_yhat == 'denial'))"
      ],
      "execution_count": 51,
      "outputs": [
        {
          "output_type": "stream",
          "text": [
            "Total number of deal product is  7914\n"
          ],
          "name": "stdout"
        }
      ]
    },
    {
      "cell_type": "code",
      "metadata": {
        "id": "AISsGNOTYxnp",
        "colab_type": "code",
        "colab": {
          "base_uri": "https://localhost:8080/",
          "height": 0
        },
        "outputId": "191d698f-512d-4679-8db5-9dee64cf1e97"
      },
      "source": [
        "b = np.count_nonzero(LR_yhat == 'denial')\n",
        "print('Total number of denial product is ',b)"
      ],
      "execution_count": 52,
      "outputs": [
        {
          "output_type": "stream",
          "text": [
            "Total number of denial product is  382\n"
          ],
          "name": "stdout"
        }
      ]
    },
    {
      "cell_type": "code",
      "metadata": {
        "id": "SppezvI1Yxnu",
        "colab_type": "code",
        "colab": {}
      },
      "source": [
        ""
      ],
      "execution_count": 0,
      "outputs": []
    },
    {
      "cell_type": "markdown",
      "metadata": {
        "id": "gU0yvNvDYxnx",
        "colab_type": "text"
      },
      "source": [
        "## Model Evaluation"
      ]
    },
    {
      "cell_type": "markdown",
      "metadata": {
        "id": "MGpoUPBPYxny",
        "colab_type": "text"
      },
      "source": [
        "confusion_matrix"
      ]
    },
    {
      "cell_type": "code",
      "metadata": {
        "id": "blE1C9GsYxn3",
        "colab_type": "code",
        "colab": {
          "base_uri": "https://localhost:8080/",
          "height": 51
        },
        "outputId": "11118845-d5f0-404b-db49-7d613b7f3ebb"
      },
      "source": [
        "from sklearn.metrics import classification_report, confusion_matrix\n",
        "import itertools\n",
        "def plot_confusion_matrix(cm, classes,\n",
        "                          normalize=False,\n",
        "                          title='Confusion matrix',\n",
        "                          cmap=plt.cm.Blues):\n",
        "    \"\"\"\n",
        "    This function prints and plots the confusion matrix.\n",
        "    Normalization can be applied by setting `normalize=True`.\n",
        "    \"\"\"\n",
        "    if normalize:\n",
        "        cm = cm.astype('float') / cm.sum(axis=1)[:, np.newaxis]\n",
        "        print(\"Normalized confusion matrix\")\n",
        "    else:\n",
        "        print('Confusion matrix, without normalization')\n",
        "\n",
        "    print(cm)\n",
        "\n",
        "    plt.imshow(cm, interpolation='nearest', cmap=cmap)\n",
        "    plt.title(title)\n",
        "    plt.colorbar()\n",
        "    tick_marks = np.arange(len(classes))\n",
        "    plt.xticks(tick_marks, classes, rotation=45)\n",
        "    plt.yticks(tick_marks, classes)\n",
        "\n",
        "    fmt = '.2f' if normalize else 'd'\n",
        "    thresh = cm.max() / 2.\n",
        "    for i, j in itertools.product(range(cm.shape[0]), range(cm.shape[1])):\n",
        "        plt.text(j, i, format(cm[i, j], fmt),\n",
        "                 horizontalalignment=\"center\",\n",
        "                 color=\"white\" if cm[i, j] > thresh else \"black\")\n",
        "\n",
        "    plt.tight_layout()\n",
        "    plt.ylabel('True label')\n",
        "    plt.xlabel('Predicted label')\n",
        "print(confusion_matrix(y_test, LR_yhat, labels=['denial','deal']))"
      ],
      "execution_count": 53,
      "outputs": [
        {
          "output_type": "stream",
          "text": [
            "[[ 356  281]\n",
            " [  26 7633]]\n"
          ],
          "name": "stdout"
        }
      ]
    },
    {
      "cell_type": "code",
      "metadata": {
        "id": "KQe2i60hYxn6",
        "colab_type": "code",
        "colab": {
          "base_uri": "https://localhost:8080/",
          "height": 362
        },
        "outputId": "03b33df9-fb0f-4616-a3d3-d67d4d32afc1"
      },
      "source": [
        "# Compute confusion matrix\n",
        "cnf_matrix = confusion_matrix(y_test, LR_yhat, labels=['denial','deal'])\n",
        "np.set_printoptions(precision=2)\n",
        "\n",
        "\n",
        "# Plot non-normalized confusion matrix\n",
        "plt.figure()\n",
        "plot_confusion_matrix(cnf_matrix, classes=['denial = 0','deal = 1'],normalize= True,  title='Confusion matrix')\n"
      ],
      "execution_count": 63,
      "outputs": [
        {
          "output_type": "stream",
          "text": [
            "Normalized confusion matrix\n",
            "[[0.56 0.44]\n",
            " [0.   1.  ]]\n"
          ],
          "name": "stdout"
        },
        {
          "output_type": "display_data",
          "data": {
            "image/png": "[encoded data removed]",
            "text/plain": [
              "<Figure size 432x288 with 2 Axes>"
            ]
          },
          "metadata": {
            "tags": [],
            "needs_background": "light"
          }
        }
      ]
    }
  ]
}