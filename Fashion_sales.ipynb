{
  "nbformat": 4,
  "nbformat_minor": 0,
  "metadata": {
    "colab": {
      "name": "Fashion_sales.ipynb",
      "provenance": [],
      "mount_file_id": "https://github.com/HassanSamkari/Applied-Data-Science-Capstone/blob/master/Fashion_sales.ipynb",
      "authorship_tag": "ABX9TyO7zXzIv8RZCUuljNtrd7EL",
      "include_colab_link": true
    },
    "kernelspec": {
      "name": "python3",
      "display_name": "Python 3"
    }
  },
  "cells": [
    {
      "cell_type": "markdown",
      "metadata": {
        "id": "view-in-github",
        "colab_type": "text"
      },
      "source": [
        "<a href=\"https://colab.research.google.com/github/HassanSamkari/Applied-Data-Science-Capstone/blob/master/Fashion_sales.ipynb\" target=\"_parent\"><img src=\"https://colab.research.google.com/assets/colab-badge.svg\" alt=\"Open In Colab\"/></a>"
      ]
    },
    {
      "cell_type": "code",
      "metadata": {
        "id": "2K0dKS3ON2bH",
        "colab_type": "code",
        "colab": {}
      },
      "source": [
        "import pandas as pd\n",
        "import numpy as np\n",
        "from sklearn.ensemble import RandomForestRegressor"
      ],
      "execution_count": 0,
      "outputs": []
    },
    {
      "cell_type": "code",
      "metadata": {
        "id": "rjMH_YTxPy4R",
        "colab_type": "code",
        "colab": {}
      },
      "source": [
        "sales = pd.read_csv('/content/drive/My Drive/project for colab/data/sales_stock.csv')\n",
        "products = pd.read_csv('/content/drive/My Drive/project for colab/data/products.csv')\n",
        "positions = pd.read_csv('/content/drive/My Drive/project for colab/data/positions.csv')\n"
      ],
      "execution_count": 0,
      "outputs": []
    },
    {
      "cell_type": "code",
      "metadata": {
        "id": "hWq_m-f8QexI",
        "colab_type": "code",
        "outputId": "ea50bda1-6785-4d68-8a3c-09e50cc01492",
        "colab": {
          "base_uri": "https://localhost:8080/",
          "height": 204
        }
      },
      "source": [
        "sales.head()"
      ],
      "execution_count": 5,
      "outputs": [
        {
          "output_type": "execute_result",
          "data": {
            "text/html": [
              "<div>\n",
              "<style scoped>\n",
              "    .dataframe tbody tr th:only-of-type {\n",
              "        vertical-align: middle;\n",
              "    }\n",
              "\n",
              "    .dataframe tbody tr th {\n",
              "        vertical-align: top;\n",
              "    }\n",
              "\n",
              "    .dataframe thead th {\n",
              "        text-align: right;\n",
              "    }\n",
              "</style>\n",
              "<table border=\"1\" class=\"dataframe\">\n",
              "  <thead>\n",
              "    <tr style=\"text-align: right;\">\n",
              "      <th></th>\n",
              "      <th>date_number</th>\n",
              "      <th>product_id</th>\n",
              "      <th>color_id</th>\n",
              "      <th>size_id</th>\n",
              "      <th>sales</th>\n",
              "      <th>stock</th>\n",
              "    </tr>\n",
              "  </thead>\n",
              "  <tbody>\n",
              "    <tr>\n",
              "      <th>0</th>\n",
              "      <td>0</td>\n",
              "      <td>310130</td>\n",
              "      <td>78467031</td>\n",
              "      <td>7026791</td>\n",
              "      <td>1</td>\n",
              "      <td>93</td>\n",
              "    </tr>\n",
              "    <tr>\n",
              "      <th>1</th>\n",
              "      <td>0</td>\n",
              "      <td>310130</td>\n",
              "      <td>78467031</td>\n",
              "      <td>8015276</td>\n",
              "      <td>2</td>\n",
              "      <td>62</td>\n",
              "    </tr>\n",
              "    <tr>\n",
              "      <th>2</th>\n",
              "      <td>0</td>\n",
              "      <td>310130</td>\n",
              "      <td>78467031</td>\n",
              "      <td>452052101</td>\n",
              "      <td>1</td>\n",
              "      <td>18</td>\n",
              "    </tr>\n",
              "    <tr>\n",
              "      <th>3</th>\n",
              "      <td>0</td>\n",
              "      <td>310130</td>\n",
              "      <td>78467031</td>\n",
              "      <td>541898038</td>\n",
              "      <td>2</td>\n",
              "      <td>42</td>\n",
              "    </tr>\n",
              "    <tr>\n",
              "      <th>4</th>\n",
              "      <td>0</td>\n",
              "      <td>310130</td>\n",
              "      <td>78467031</td>\n",
              "      <td>558685710</td>\n",
              "      <td>3</td>\n",
              "      <td>113</td>\n",
              "    </tr>\n",
              "  </tbody>\n",
              "</table>\n",
              "</div>"
            ],
            "text/plain": [
              "   date_number  product_id  color_id    size_id  sales  stock\n",
              "0            0      310130  78467031    7026791      1     93\n",
              "1            0      310130  78467031    8015276      2     62\n",
              "2            0      310130  78467031  452052101      1     18\n",
              "3            0      310130  78467031  541898038      2     42\n",
              "4            0      310130  78467031  558685710      3    113"
            ]
          },
          "metadata": {
            "tags": []
          },
          "execution_count": 5
        }
      ]
    },
    {
      "cell_type": "code",
      "metadata": {
        "id": "QqKyXxsXQh1M",
        "colab_type": "code",
        "outputId": "8cb1da9f-5d8a-4101-d677-55ea70331304",
        "colab": {
          "base_uri": "https://localhost:8080/",
          "height": 204
        }
      },
      "source": [
        "products.head()"
      ],
      "execution_count": 6,
      "outputs": [
        {
          "output_type": "execute_result",
          "data": {
            "text/html": [
              "<div>\n",
              "<style scoped>\n",
              "    .dataframe tbody tr th:only-of-type {\n",
              "        vertical-align: middle;\n",
              "    }\n",
              "\n",
              "    .dataframe tbody tr th {\n",
              "        vertical-align: top;\n",
              "    }\n",
              "\n",
              "    .dataframe thead th {\n",
              "        text-align: right;\n",
              "    }\n",
              "</style>\n",
              "<table border=\"1\" class=\"dataframe\">\n",
              "  <thead>\n",
              "    <tr style=\"text-align: right;\">\n",
              "      <th></th>\n",
              "      <th>product_id</th>\n",
              "      <th>family_id</th>\n",
              "      <th>subfamily_id</th>\n",
              "      <th>price</th>\n",
              "    </tr>\n",
              "  </thead>\n",
              "  <tbody>\n",
              "    <tr>\n",
              "      <th>0</th>\n",
              "      <td>151926</td>\n",
              "      <td>396066037</td>\n",
              "      <td>335531561</td>\n",
              "      <td>25.95</td>\n",
              "    </tr>\n",
              "    <tr>\n",
              "      <th>1</th>\n",
              "      <td>213413</td>\n",
              "      <td>552529755</td>\n",
              "      <td>11509337</td>\n",
              "      <td>19.95</td>\n",
              "    </tr>\n",
              "    <tr>\n",
              "      <th>2</th>\n",
              "      <td>310130</td>\n",
              "      <td>679611953</td>\n",
              "      <td>533441312</td>\n",
              "      <td>12.95</td>\n",
              "    </tr>\n",
              "    <tr>\n",
              "      <th>3</th>\n",
              "      <td>373883</td>\n",
              "      <td>775013441</td>\n",
              "      <td>62518413</td>\n",
              "      <td>17.95</td>\n",
              "    </tr>\n",
              "    <tr>\n",
              "      <th>4</th>\n",
              "      <td>455200</td>\n",
              "      <td>998145072</td>\n",
              "      <td>490222156</td>\n",
              "      <td>29.95</td>\n",
              "    </tr>\n",
              "  </tbody>\n",
              "</table>\n",
              "</div>"
            ],
            "text/plain": [
              "   product_id  family_id  subfamily_id  price\n",
              "0      151926  396066037     335531561  25.95\n",
              "1      213413  552529755      11509337  19.95\n",
              "2      310130  679611953     533441312  12.95\n",
              "3      373883  775013441      62518413  17.95\n",
              "4      455200  998145072     490222156  29.95"
            ]
          },
          "metadata": {
            "tags": []
          },
          "execution_count": 6
        }
      ]
    },
    {
      "cell_type": "code",
      "metadata": {
        "id": "tlgL6xd7QlSn",
        "colab_type": "code",
        "outputId": "fa86ee9a-fea0-4f65-d1a8-a04c446a3e1d",
        "colab": {
          "base_uri": "https://localhost:8080/",
          "height": 204
        }
      },
      "source": [
        "positions.head()"
      ],
      "execution_count": 7,
      "outputs": [
        {
          "output_type": "execute_result",
          "data": {
            "text/html": [
              "<div>\n",
              "<style scoped>\n",
              "    .dataframe tbody tr th:only-of-type {\n",
              "        vertical-align: middle;\n",
              "    }\n",
              "\n",
              "    .dataframe tbody tr th {\n",
              "        vertical-align: top;\n",
              "    }\n",
              "\n",
              "    .dataframe thead th {\n",
              "        text-align: right;\n",
              "    }\n",
              "</style>\n",
              "<table border=\"1\" class=\"dataframe\">\n",
              "  <thead>\n",
              "    <tr style=\"text-align: right;\">\n",
              "      <th></th>\n",
              "      <th>date_number</th>\n",
              "      <th>product_id</th>\n",
              "      <th>category_id</th>\n",
              "      <th>position</th>\n",
              "    </tr>\n",
              "  </thead>\n",
              "  <tbody>\n",
              "    <tr>\n",
              "      <th>0</th>\n",
              "      <td>0</td>\n",
              "      <td>4450020</td>\n",
              "      <td>4461548</td>\n",
              "      <td>17</td>\n",
              "    </tr>\n",
              "    <tr>\n",
              "      <th>1</th>\n",
              "      <td>0</td>\n",
              "      <td>42147334</td>\n",
              "      <td>4461548</td>\n",
              "      <td>4</td>\n",
              "    </tr>\n",
              "    <tr>\n",
              "      <th>2</th>\n",
              "      <td>0</td>\n",
              "      <td>81131830</td>\n",
              "      <td>4461548</td>\n",
              "      <td>35</td>\n",
              "    </tr>\n",
              "    <tr>\n",
              "      <th>3</th>\n",
              "      <td>0</td>\n",
              "      <td>84035833</td>\n",
              "      <td>4461548</td>\n",
              "      <td>38</td>\n",
              "    </tr>\n",
              "    <tr>\n",
              "      <th>4</th>\n",
              "      <td>0</td>\n",
              "      <td>125252584</td>\n",
              "      <td>4461548</td>\n",
              "      <td>39</td>\n",
              "    </tr>\n",
              "  </tbody>\n",
              "</table>\n",
              "</div>"
            ],
            "text/plain": [
              "   date_number  product_id  category_id  position\n",
              "0            0     4450020      4461548        17\n",
              "1            0    42147334      4461548         4\n",
              "2            0    81131830      4461548        35\n",
              "3            0    84035833      4461548        38\n",
              "4            0   125252584      4461548        39"
            ]
          },
          "metadata": {
            "tags": []
          },
          "execution_count": 7
        }
      ]
    },
    {
      "cell_type": "code",
      "metadata": {
        "id": "xKlxC6_2Rdt8",
        "colab_type": "code",
        "outputId": "a07d4b2a-490c-43bb-8070-a1c2dde1d745",
        "colab": {
          "base_uri": "https://localhost:8080/",
          "height": 204
        }
      },
      "source": [
        "sales_df=pd.merge(products, sales, left_on='product_id', right_on='product_id')\n",
        "sales_df.head()"
      ],
      "execution_count": 8,
      "outputs": [
        {
          "output_type": "execute_result",
          "data": {
            "text/html": [
              "<div>\n",
              "<style scoped>\n",
              "    .dataframe tbody tr th:only-of-type {\n",
              "        vertical-align: middle;\n",
              "    }\n",
              "\n",
              "    .dataframe tbody tr th {\n",
              "        vertical-align: top;\n",
              "    }\n",
              "\n",
              "    .dataframe thead th {\n",
              "        text-align: right;\n",
              "    }\n",
              "</style>\n",
              "<table border=\"1\" class=\"dataframe\">\n",
              "  <thead>\n",
              "    <tr style=\"text-align: right;\">\n",
              "      <th></th>\n",
              "      <th>product_id</th>\n",
              "      <th>family_id</th>\n",
              "      <th>subfamily_id</th>\n",
              "      <th>price</th>\n",
              "      <th>date_number</th>\n",
              "      <th>color_id</th>\n",
              "      <th>size_id</th>\n",
              "      <th>sales</th>\n",
              "      <th>stock</th>\n",
              "    </tr>\n",
              "  </thead>\n",
              "  <tbody>\n",
              "    <tr>\n",
              "      <th>0</th>\n",
              "      <td>151926</td>\n",
              "      <td>396066037</td>\n",
              "      <td>335531561</td>\n",
              "      <td>25.95</td>\n",
              "      <td>59</td>\n",
              "      <td>909958217</td>\n",
              "      <td>111455099</td>\n",
              "      <td>0</td>\n",
              "      <td>17</td>\n",
              "    </tr>\n",
              "    <tr>\n",
              "      <th>1</th>\n",
              "      <td>151926</td>\n",
              "      <td>396066037</td>\n",
              "      <td>335531561</td>\n",
              "      <td>25.95</td>\n",
              "      <td>59</td>\n",
              "      <td>909958217</td>\n",
              "      <td>242364222</td>\n",
              "      <td>3</td>\n",
              "      <td>63</td>\n",
              "    </tr>\n",
              "    <tr>\n",
              "      <th>2</th>\n",
              "      <td>151926</td>\n",
              "      <td>396066037</td>\n",
              "      <td>335531561</td>\n",
              "      <td>25.95</td>\n",
              "      <td>59</td>\n",
              "      <td>909958217</td>\n",
              "      <td>513017386</td>\n",
              "      <td>1</td>\n",
              "      <td>33</td>\n",
              "    </tr>\n",
              "    <tr>\n",
              "      <th>3</th>\n",
              "      <td>151926</td>\n",
              "      <td>396066037</td>\n",
              "      <td>335531561</td>\n",
              "      <td>25.95</td>\n",
              "      <td>59</td>\n",
              "      <td>909958217</td>\n",
              "      <td>820445075</td>\n",
              "      <td>1</td>\n",
              "      <td>42</td>\n",
              "    </tr>\n",
              "    <tr>\n",
              "      <th>4</th>\n",
              "      <td>151926</td>\n",
              "      <td>396066037</td>\n",
              "      <td>335531561</td>\n",
              "      <td>25.95</td>\n",
              "      <td>60</td>\n",
              "      <td>909958217</td>\n",
              "      <td>54666687</td>\n",
              "      <td>2</td>\n",
              "      <td>72</td>\n",
              "    </tr>\n",
              "  </tbody>\n",
              "</table>\n",
              "</div>"
            ],
            "text/plain": [
              "   product_id  family_id  subfamily_id  ...    size_id  sales  stock\n",
              "0      151926  396066037     335531561  ...  111455099      0     17\n",
              "1      151926  396066037     335531561  ...  242364222      3     63\n",
              "2      151926  396066037     335531561  ...  513017386      1     33\n",
              "3      151926  396066037     335531561  ...  820445075      1     42\n",
              "4      151926  396066037     335531561  ...   54666687      2     72\n",
              "\n",
              "[5 rows x 9 columns]"
            ]
          },
          "metadata": {
            "tags": []
          },
          "execution_count": 8
        }
      ]
    },
    {
      "cell_type": "code",
      "metadata": {
        "id": "fA5hnQOcQcNo",
        "colab_type": "code",
        "outputId": "fda0f3f2-70fe-4f1b-b0ac-42a09baccb85",
        "colab": {
          "base_uri": "https://localhost:8080/",
          "height": 204
        }
      },
      "source": [
        "stay_columns=['product_id','family_id','subfamily_id','price'] \n",
        "sales_final_df = pd.DataFrame(sales_df.groupby(stay_columns).sum()['sales']).reset_index()\n",
        "sales_final_df.loc[:,'stock']=pd.DataFrame(sales_df.groupby(stay_columns).sum()[ 'stock']).reset_index()['stock']\n",
        "sales_final_df.head()"
      ],
      "execution_count": 9,
      "outputs": [
        {
          "output_type": "execute_result",
          "data": {
            "text/html": [
              "<div>\n",
              "<style scoped>\n",
              "    .dataframe tbody tr th:only-of-type {\n",
              "        vertical-align: middle;\n",
              "    }\n",
              "\n",
              "    .dataframe tbody tr th {\n",
              "        vertical-align: top;\n",
              "    }\n",
              "\n",
              "    .dataframe thead th {\n",
              "        text-align: right;\n",
              "    }\n",
              "</style>\n",
              "<table border=\"1\" class=\"dataframe\">\n",
              "  <thead>\n",
              "    <tr style=\"text-align: right;\">\n",
              "      <th></th>\n",
              "      <th>product_id</th>\n",
              "      <th>family_id</th>\n",
              "      <th>subfamily_id</th>\n",
              "      <th>price</th>\n",
              "      <th>sales</th>\n",
              "      <th>stock</th>\n",
              "    </tr>\n",
              "  </thead>\n",
              "  <tbody>\n",
              "    <tr>\n",
              "      <th>0</th>\n",
              "      <td>151926</td>\n",
              "      <td>396066037</td>\n",
              "      <td>335531561</td>\n",
              "      <td>25.95</td>\n",
              "      <td>167</td>\n",
              "      <td>7995</td>\n",
              "    </tr>\n",
              "    <tr>\n",
              "      <th>1</th>\n",
              "      <td>213413</td>\n",
              "      <td>552529755</td>\n",
              "      <td>11509337</td>\n",
              "      <td>19.95</td>\n",
              "      <td>757</td>\n",
              "      <td>56646</td>\n",
              "    </tr>\n",
              "    <tr>\n",
              "      <th>2</th>\n",
              "      <td>310130</td>\n",
              "      <td>679611953</td>\n",
              "      <td>533441312</td>\n",
              "      <td>12.95</td>\n",
              "      <td>578</td>\n",
              "      <td>49639</td>\n",
              "    </tr>\n",
              "    <tr>\n",
              "      <th>3</th>\n",
              "      <td>455200</td>\n",
              "      <td>998145072</td>\n",
              "      <td>490222156</td>\n",
              "      <td>29.95</td>\n",
              "      <td>24</td>\n",
              "      <td>2258</td>\n",
              "    </tr>\n",
              "    <tr>\n",
              "      <th>4</th>\n",
              "      <td>571044</td>\n",
              "      <td>831347344</td>\n",
              "      <td>750943270</td>\n",
              "      <td>15.95</td>\n",
              "      <td>591</td>\n",
              "      <td>18868</td>\n",
              "    </tr>\n",
              "  </tbody>\n",
              "</table>\n",
              "</div>"
            ],
            "text/plain": [
              "   product_id  family_id  subfamily_id  price  sales  stock\n",
              "0      151926  396066037     335531561  25.95    167   7995\n",
              "1      213413  552529755      11509337  19.95    757  56646\n",
              "2      310130  679611953     533441312  12.95    578  49639\n",
              "3      455200  998145072     490222156  29.95     24   2258\n",
              "4      571044  831347344     750943270  15.95    591  18868"
            ]
          },
          "metadata": {
            "tags": []
          },
          "execution_count": 9
        }
      ]
    },
    {
      "cell_type": "code",
      "metadata": {
        "id": "vKdf-U5TQ9wn",
        "colab_type": "code",
        "colab": {}
      },
      "source": [
        "positions.loc[:,'high_rank']=positions.loc[:,'position'] \n",
        "high_rank=pd.DataFrame(positions.groupby(['date_number','product_id']).min()['position'] ).reset_index()\n",
        "positions=positions.drop('high_rank', axis=1)"
      ],
      "execution_count": 0,
      "outputs": []
    },
    {
      "cell_type": "code",
      "metadata": {
        "id": "5nsBScsqTsYw",
        "colab_type": "code",
        "colab": {}
      },
      "source": [
        "positions.loc[:,'low_rank']=positions.loc[:,'position'] \n",
        "low_rank=pd.DataFrame(positions.groupby(['date_number','product_id']).max()['position'] ).reset_index()\n",
        "positions=positions.drop('low_rank', axis=1)"
      ],
      "execution_count": 0,
      "outputs": []
    },
    {
      "cell_type": "code",
      "metadata": {
        "id": "opWqQD80Txso",
        "colab_type": "code",
        "colab": {}
      },
      "source": [
        "positions.loc[:,'rank_mean']=positions.loc[:,'position'] \n",
        "rank_mean=pd.DataFrame(positions.groupby(['date_number','product_id']).mean()['position']).reset_index()\n",
        "rank_mean=round(rank_mean)\n",
        "positions=positions.drop('rank_mean', axis=1)"
      ],
      "execution_count": 0,
      "outputs": []
    },
    {
      "cell_type": "code",
      "metadata": {
        "id": "2iLmwoDTT-YL",
        "colab_type": "code",
        "colab": {}
      },
      "source": [
        "positions=rank_mean.copy().rename(columns={\"position\": \"rank_mean\"}) \n",
        "positions.loc[:,'high_rank']=high_rank['position'] \n",
        "positions.loc[:,'low_rank']=low_rank['position'] "
      ],
      "execution_count": 0,
      "outputs": []
    },
    {
      "cell_type": "code",
      "metadata": {
        "id": "UzB95afZUGnb",
        "colab_type": "code",
        "outputId": "f9ee16b2-a7bc-45b6-b2f6-77bfcebd94f7",
        "colab": {
          "base_uri": "https://localhost:8080/",
          "height": 204
        }
      },
      "source": [
        "df=pd.merge(sales_final_df, positions,  left_on=['product_id'], right_on=['product_id']) \n",
        "df.head()"
      ],
      "execution_count": 30,
      "outputs": [
        {
          "output_type": "execute_result",
          "data": {
            "text/html": [
              "<div>\n",
              "<style scoped>\n",
              "    .dataframe tbody tr th:only-of-type {\n",
              "        vertical-align: middle;\n",
              "    }\n",
              "\n",
              "    .dataframe tbody tr th {\n",
              "        vertical-align: top;\n",
              "    }\n",
              "\n",
              "    .dataframe thead th {\n",
              "        text-align: right;\n",
              "    }\n",
              "</style>\n",
              "<table border=\"1\" class=\"dataframe\">\n",
              "  <thead>\n",
              "    <tr style=\"text-align: right;\">\n",
              "      <th></th>\n",
              "      <th>product_id</th>\n",
              "      <th>family_id</th>\n",
              "      <th>subfamily_id</th>\n",
              "      <th>price</th>\n",
              "      <th>sales</th>\n",
              "      <th>stock</th>\n",
              "      <th>date_number</th>\n",
              "      <th>rank_mean</th>\n",
              "      <th>high_rank</th>\n",
              "      <th>low_rank</th>\n",
              "    </tr>\n",
              "  </thead>\n",
              "  <tbody>\n",
              "    <tr>\n",
              "      <th>0</th>\n",
              "      <td>151926</td>\n",
              "      <td>396066037</td>\n",
              "      <td>335531561</td>\n",
              "      <td>25.95</td>\n",
              "      <td>167</td>\n",
              "      <td>7995</td>\n",
              "      <td>59</td>\n",
              "      <td>36.0</td>\n",
              "      <td>9</td>\n",
              "      <td>62</td>\n",
              "    </tr>\n",
              "    <tr>\n",
              "      <th>1</th>\n",
              "      <td>151926</td>\n",
              "      <td>396066037</td>\n",
              "      <td>335531561</td>\n",
              "      <td>25.95</td>\n",
              "      <td>167</td>\n",
              "      <td>7995</td>\n",
              "      <td>60</td>\n",
              "      <td>37.0</td>\n",
              "      <td>10</td>\n",
              "      <td>64</td>\n",
              "    </tr>\n",
              "    <tr>\n",
              "      <th>2</th>\n",
              "      <td>151926</td>\n",
              "      <td>396066037</td>\n",
              "      <td>335531561</td>\n",
              "      <td>25.95</td>\n",
              "      <td>167</td>\n",
              "      <td>7995</td>\n",
              "      <td>61</td>\n",
              "      <td>38.0</td>\n",
              "      <td>10</td>\n",
              "      <td>65</td>\n",
              "    </tr>\n",
              "    <tr>\n",
              "      <th>3</th>\n",
              "      <td>151926</td>\n",
              "      <td>396066037</td>\n",
              "      <td>335531561</td>\n",
              "      <td>25.95</td>\n",
              "      <td>167</td>\n",
              "      <td>7995</td>\n",
              "      <td>62</td>\n",
              "      <td>38.0</td>\n",
              "      <td>10</td>\n",
              "      <td>65</td>\n",
              "    </tr>\n",
              "    <tr>\n",
              "      <th>4</th>\n",
              "      <td>151926</td>\n",
              "      <td>396066037</td>\n",
              "      <td>335531561</td>\n",
              "      <td>25.95</td>\n",
              "      <td>167</td>\n",
              "      <td>7995</td>\n",
              "      <td>63</td>\n",
              "      <td>38.0</td>\n",
              "      <td>10</td>\n",
              "      <td>63</td>\n",
              "    </tr>\n",
              "  </tbody>\n",
              "</table>\n",
              "</div>"
            ],
            "text/plain": [
              "   product_id  family_id  subfamily_id  ...  rank_mean  high_rank  low_rank\n",
              "0      151926  396066037     335531561  ...       36.0          9        62\n",
              "1      151926  396066037     335531561  ...       37.0         10        64\n",
              "2      151926  396066037     335531561  ...       38.0         10        65\n",
              "3      151926  396066037     335531561  ...       38.0         10        65\n",
              "4      151926  396066037     335531561  ...       38.0         10        63\n",
              "\n",
              "[5 rows x 10 columns]"
            ]
          },
          "metadata": {
            "tags": []
          },
          "execution_count": 30
        }
      ]
    },
    {
      "cell_type": "code",
      "metadata": {
        "id": "z8oD6lomrBZk",
        "colab_type": "code",
        "colab": {}
      },
      "source": [
        "df['rank_level'] = pd.cut(df['rank_mean'],bins=2, labels=False)"
      ],
      "execution_count": 0,
      "outputs": []
    },
    {
      "cell_type": "code",
      "metadata": {
        "id": "AGEOmSIUqthc",
        "colab_type": "code",
        "colab": {
          "base_uri": "https://localhost:8080/",
          "height": 224
        },
        "outputId": "517430b5-6021-4718-cdaf-ce3cfc3f887d"
      },
      "source": [
        "df['product_status'] = df['rank_level'].apply(lambda x: \"denial\" if (x>0)  else \"deal\")\n",
        "df=df.drop(columns=('rank_mean'))\n",
        "df.head()"
      ],
      "execution_count": 32,
      "outputs": [
        {
          "output_type": "execute_result",
          "data": {
            "text/html": [
              "<div>\n",
              "<style scoped>\n",
              "    .dataframe tbody tr th:only-of-type {\n",
              "        vertical-align: middle;\n",
              "    }\n",
              "\n",
              "    .dataframe tbody tr th {\n",
              "        vertical-align: top;\n",
              "    }\n",
              "\n",
              "    .dataframe thead th {\n",
              "        text-align: right;\n",
              "    }\n",
              "</style>\n",
              "<table border=\"1\" class=\"dataframe\">\n",
              "  <thead>\n",
              "    <tr style=\"text-align: right;\">\n",
              "      <th></th>\n",
              "      <th>product_id</th>\n",
              "      <th>family_id</th>\n",
              "      <th>subfamily_id</th>\n",
              "      <th>price</th>\n",
              "      <th>sales</th>\n",
              "      <th>stock</th>\n",
              "      <th>date_number</th>\n",
              "      <th>high_rank</th>\n",
              "      <th>low_rank</th>\n",
              "      <th>rank_level</th>\n",
              "      <th>product_status</th>\n",
              "    </tr>\n",
              "  </thead>\n",
              "  <tbody>\n",
              "    <tr>\n",
              "      <th>0</th>\n",
              "      <td>151926</td>\n",
              "      <td>396066037</td>\n",
              "      <td>335531561</td>\n",
              "      <td>25.95</td>\n",
              "      <td>167</td>\n",
              "      <td>7995</td>\n",
              "      <td>59</td>\n",
              "      <td>9</td>\n",
              "      <td>62</td>\n",
              "      <td>0</td>\n",
              "      <td>deal</td>\n",
              "    </tr>\n",
              "    <tr>\n",
              "      <th>1</th>\n",
              "      <td>151926</td>\n",
              "      <td>396066037</td>\n",
              "      <td>335531561</td>\n",
              "      <td>25.95</td>\n",
              "      <td>167</td>\n",
              "      <td>7995</td>\n",
              "      <td>60</td>\n",
              "      <td>10</td>\n",
              "      <td>64</td>\n",
              "      <td>0</td>\n",
              "      <td>deal</td>\n",
              "    </tr>\n",
              "    <tr>\n",
              "      <th>2</th>\n",
              "      <td>151926</td>\n",
              "      <td>396066037</td>\n",
              "      <td>335531561</td>\n",
              "      <td>25.95</td>\n",
              "      <td>167</td>\n",
              "      <td>7995</td>\n",
              "      <td>61</td>\n",
              "      <td>10</td>\n",
              "      <td>65</td>\n",
              "      <td>0</td>\n",
              "      <td>deal</td>\n",
              "    </tr>\n",
              "    <tr>\n",
              "      <th>3</th>\n",
              "      <td>151926</td>\n",
              "      <td>396066037</td>\n",
              "      <td>335531561</td>\n",
              "      <td>25.95</td>\n",
              "      <td>167</td>\n",
              "      <td>7995</td>\n",
              "      <td>62</td>\n",
              "      <td>10</td>\n",
              "      <td>65</td>\n",
              "      <td>0</td>\n",
              "      <td>deal</td>\n",
              "    </tr>\n",
              "    <tr>\n",
              "      <th>4</th>\n",
              "      <td>151926</td>\n",
              "      <td>396066037</td>\n",
              "      <td>335531561</td>\n",
              "      <td>25.95</td>\n",
              "      <td>167</td>\n",
              "      <td>7995</td>\n",
              "      <td>63</td>\n",
              "      <td>10</td>\n",
              "      <td>63</td>\n",
              "      <td>0</td>\n",
              "      <td>deal</td>\n",
              "    </tr>\n",
              "  </tbody>\n",
              "</table>\n",
              "</div>"
            ],
            "text/plain": [
              "   product_id  family_id  subfamily_id  ...  low_rank  rank_level  product_status\n",
              "0      151926  396066037     335531561  ...        62           0            deal\n",
              "1      151926  396066037     335531561  ...        64           0            deal\n",
              "2      151926  396066037     335531561  ...        65           0            deal\n",
              "3      151926  396066037     335531561  ...        65           0            deal\n",
              "4      151926  396066037     335531561  ...        63           0            deal\n",
              "\n",
              "[5 rows x 11 columns]"
            ]
          },
          "metadata": {
            "tags": []
          },
          "execution_count": 32
        }
      ]
    },
    {
      "cell_type": "code",
      "metadata": {
        "id": "sKLojbtwUwgg",
        "colab_type": "code",
        "colab": {}
      },
      "source": [
        "train = df.loc[df['date_number'] <= 46].reset_index(drop=True)\n",
        "test = df.loc[df['date_number'] >= 46].reset_index(drop=True)"
      ],
      "execution_count": 0,
      "outputs": []
    },
    {
      "cell_type": "code",
      "metadata": {
        "id": "O-WJs_wHVBEs",
        "colab_type": "code",
        "outputId": "9f008275-a5e7-4483-8b41-718fa0c39a7f",
        "colab": {
          "base_uri": "https://localhost:8080/",
          "height": 224
        }
      },
      "source": [
        "train.head()"
      ],
      "execution_count": 34,
      "outputs": [
        {
          "output_type": "execute_result",
          "data": {
            "text/html": [
              "<div>\n",
              "<style scoped>\n",
              "    .dataframe tbody tr th:only-of-type {\n",
              "        vertical-align: middle;\n",
              "    }\n",
              "\n",
              "    .dataframe tbody tr th {\n",
              "        vertical-align: top;\n",
              "    }\n",
              "\n",
              "    .dataframe thead th {\n",
              "        text-align: right;\n",
              "    }\n",
              "</style>\n",
              "<table border=\"1\" class=\"dataframe\">\n",
              "  <thead>\n",
              "    <tr style=\"text-align: right;\">\n",
              "      <th></th>\n",
              "      <th>product_id</th>\n",
              "      <th>family_id</th>\n",
              "      <th>subfamily_id</th>\n",
              "      <th>price</th>\n",
              "      <th>sales</th>\n",
              "      <th>stock</th>\n",
              "      <th>date_number</th>\n",
              "      <th>high_rank</th>\n",
              "      <th>low_rank</th>\n",
              "      <th>rank_level</th>\n",
              "      <th>product_status</th>\n",
              "    </tr>\n",
              "  </thead>\n",
              "  <tbody>\n",
              "    <tr>\n",
              "      <th>0</th>\n",
              "      <td>213413</td>\n",
              "      <td>552529755</td>\n",
              "      <td>11509337</td>\n",
              "      <td>19.95</td>\n",
              "      <td>757</td>\n",
              "      <td>56646</td>\n",
              "      <td>4</td>\n",
              "      <td>13</td>\n",
              "      <td>254</td>\n",
              "      <td>0</td>\n",
              "      <td>deal</td>\n",
              "    </tr>\n",
              "    <tr>\n",
              "      <th>1</th>\n",
              "      <td>213413</td>\n",
              "      <td>552529755</td>\n",
              "      <td>11509337</td>\n",
              "      <td>19.95</td>\n",
              "      <td>757</td>\n",
              "      <td>56646</td>\n",
              "      <td>5</td>\n",
              "      <td>13</td>\n",
              "      <td>255</td>\n",
              "      <td>0</td>\n",
              "      <td>deal</td>\n",
              "    </tr>\n",
              "    <tr>\n",
              "      <th>2</th>\n",
              "      <td>213413</td>\n",
              "      <td>552529755</td>\n",
              "      <td>11509337</td>\n",
              "      <td>19.95</td>\n",
              "      <td>757</td>\n",
              "      <td>56646</td>\n",
              "      <td>6</td>\n",
              "      <td>13</td>\n",
              "      <td>37</td>\n",
              "      <td>0</td>\n",
              "      <td>deal</td>\n",
              "    </tr>\n",
              "    <tr>\n",
              "      <th>3</th>\n",
              "      <td>213413</td>\n",
              "      <td>552529755</td>\n",
              "      <td>11509337</td>\n",
              "      <td>19.95</td>\n",
              "      <td>757</td>\n",
              "      <td>56646</td>\n",
              "      <td>7</td>\n",
              "      <td>13</td>\n",
              "      <td>37</td>\n",
              "      <td>0</td>\n",
              "      <td>deal</td>\n",
              "    </tr>\n",
              "    <tr>\n",
              "      <th>4</th>\n",
              "      <td>213413</td>\n",
              "      <td>552529755</td>\n",
              "      <td>11509337</td>\n",
              "      <td>19.95</td>\n",
              "      <td>757</td>\n",
              "      <td>56646</td>\n",
              "      <td>8</td>\n",
              "      <td>4</td>\n",
              "      <td>39</td>\n",
              "      <td>0</td>\n",
              "      <td>deal</td>\n",
              "    </tr>\n",
              "  </tbody>\n",
              "</table>\n",
              "</div>"
            ],
            "text/plain": [
              "   product_id  family_id  subfamily_id  ...  low_rank  rank_level  product_status\n",
              "0      213413  552529755      11509337  ...       254           0            deal\n",
              "1      213413  552529755      11509337  ...       255           0            deal\n",
              "2      213413  552529755      11509337  ...        37           0            deal\n",
              "3      213413  552529755      11509337  ...        37           0            deal\n",
              "4      213413  552529755      11509337  ...        39           0            deal\n",
              "\n",
              "[5 rows x 11 columns]"
            ]
          },
          "metadata": {
            "tags": []
          },
          "execution_count": 34
        }
      ]
    },
    {
      "cell_type": "code",
      "metadata": {
        "id": "4eInU3_jVEDM",
        "colab_type": "code",
        "colab": {}
      },
      "source": [
        "X_train=train.drop(['product_status'], axis=1) \n",
        "y_train=train.loc[:,'product_status']"
      ],
      "execution_count": 0,
      "outputs": []
    },
    {
      "cell_type": "code",
      "metadata": {
        "id": "4SF-4KkTgFRB",
        "colab_type": "code",
        "outputId": "9857d2cc-9f75-4c89-ebb0-bf2c4a8940c3",
        "colab": {
          "base_uri": "https://localhost:8080/",
          "height": 136
        }
      },
      "source": [
        "y_train[0:6]"
      ],
      "execution_count": 45,
      "outputs": [
        {
          "output_type": "execute_result",
          "data": {
            "text/plain": [
              "0    deal\n",
              "1    deal\n",
              "2    deal\n",
              "3    deal\n",
              "4    deal\n",
              "5    deal\n",
              "Name: product_status, dtype: object"
            ]
          },
          "metadata": {
            "tags": []
          },
          "execution_count": 45
        }
      ]
    },
    {
      "cell_type": "code",
      "metadata": {
        "id": "bEGMj3KlY9Em",
        "colab_type": "code",
        "outputId": "37356b9c-c7d4-49c6-8775-f1156ea57a06",
        "colab": {
          "base_uri": "https://localhost:8080/",
          "height": 235
        }
      },
      "source": [
        "X_train[0:6]"
      ],
      "execution_count": 46,
      "outputs": [
        {
          "output_type": "execute_result",
          "data": {
            "text/html": [
              "<div>\n",
              "<style scoped>\n",
              "    .dataframe tbody tr th:only-of-type {\n",
              "        vertical-align: middle;\n",
              "    }\n",
              "\n",
              "    .dataframe tbody tr th {\n",
              "        vertical-align: top;\n",
              "    }\n",
              "\n",
              "    .dataframe thead th {\n",
              "        text-align: right;\n",
              "    }\n",
              "</style>\n",
              "<table border=\"1\" class=\"dataframe\">\n",
              "  <thead>\n",
              "    <tr style=\"text-align: right;\">\n",
              "      <th></th>\n",
              "      <th>product_id</th>\n",
              "      <th>family_id</th>\n",
              "      <th>subfamily_id</th>\n",
              "      <th>price</th>\n",
              "      <th>sales</th>\n",
              "      <th>stock</th>\n",
              "      <th>date_number</th>\n",
              "      <th>high_rank</th>\n",
              "      <th>low_rank</th>\n",
              "      <th>rank_level</th>\n",
              "    </tr>\n",
              "  </thead>\n",
              "  <tbody>\n",
              "    <tr>\n",
              "      <th>0</th>\n",
              "      <td>213413</td>\n",
              "      <td>552529755</td>\n",
              "      <td>11509337</td>\n",
              "      <td>19.95</td>\n",
              "      <td>757</td>\n",
              "      <td>56646</td>\n",
              "      <td>4</td>\n",
              "      <td>13</td>\n",
              "      <td>254</td>\n",
              "      <td>0</td>\n",
              "    </tr>\n",
              "    <tr>\n",
              "      <th>1</th>\n",
              "      <td>213413</td>\n",
              "      <td>552529755</td>\n",
              "      <td>11509337</td>\n",
              "      <td>19.95</td>\n",
              "      <td>757</td>\n",
              "      <td>56646</td>\n",
              "      <td>5</td>\n",
              "      <td>13</td>\n",
              "      <td>255</td>\n",
              "      <td>0</td>\n",
              "    </tr>\n",
              "    <tr>\n",
              "      <th>2</th>\n",
              "      <td>213413</td>\n",
              "      <td>552529755</td>\n",
              "      <td>11509337</td>\n",
              "      <td>19.95</td>\n",
              "      <td>757</td>\n",
              "      <td>56646</td>\n",
              "      <td>6</td>\n",
              "      <td>13</td>\n",
              "      <td>37</td>\n",
              "      <td>0</td>\n",
              "    </tr>\n",
              "    <tr>\n",
              "      <th>3</th>\n",
              "      <td>213413</td>\n",
              "      <td>552529755</td>\n",
              "      <td>11509337</td>\n",
              "      <td>19.95</td>\n",
              "      <td>757</td>\n",
              "      <td>56646</td>\n",
              "      <td>7</td>\n",
              "      <td>13</td>\n",
              "      <td>37</td>\n",
              "      <td>0</td>\n",
              "    </tr>\n",
              "    <tr>\n",
              "      <th>4</th>\n",
              "      <td>213413</td>\n",
              "      <td>552529755</td>\n",
              "      <td>11509337</td>\n",
              "      <td>19.95</td>\n",
              "      <td>757</td>\n",
              "      <td>56646</td>\n",
              "      <td>8</td>\n",
              "      <td>4</td>\n",
              "      <td>39</td>\n",
              "      <td>0</td>\n",
              "    </tr>\n",
              "    <tr>\n",
              "      <th>5</th>\n",
              "      <td>213413</td>\n",
              "      <td>552529755</td>\n",
              "      <td>11509337</td>\n",
              "      <td>19.95</td>\n",
              "      <td>757</td>\n",
              "      <td>56646</td>\n",
              "      <td>9</td>\n",
              "      <td>8</td>\n",
              "      <td>97</td>\n",
              "      <td>0</td>\n",
              "    </tr>\n",
              "  </tbody>\n",
              "</table>\n",
              "</div>"
            ],
            "text/plain": [
              "   product_id  family_id  subfamily_id  ...  high_rank  low_rank  rank_level\n",
              "0      213413  552529755      11509337  ...         13       254           0\n",
              "1      213413  552529755      11509337  ...         13       255           0\n",
              "2      213413  552529755      11509337  ...         13        37           0\n",
              "3      213413  552529755      11509337  ...         13        37           0\n",
              "4      213413  552529755      11509337  ...          4        39           0\n",
              "5      213413  552529755      11509337  ...          8        97           0\n",
              "\n",
              "[6 rows x 10 columns]"
            ]
          },
          "metadata": {
            "tags": []
          },
          "execution_count": 46
        }
      ]
    },
    {
      "cell_type": "code",
      "metadata": {
        "id": "qzGaGTy0Vs36",
        "colab_type": "code",
        "colab": {}
      },
      "source": [
        "X_test=test.drop(['product_status'], axis=1) \n",
        "y_test=test.loc[:,'product_status']"
      ],
      "execution_count": 0,
      "outputs": []
    },
    {
      "cell_type": "code",
      "metadata": {
        "id": "J_S5m1OcWoie",
        "colab_type": "code",
        "colab": {}
      },
      "source": [
        "from sklearn import preprocessing\n",
        "X_train= preprocessing.StandardScaler().fit(X_train).transform(X_train)"
      ],
      "execution_count": 0,
      "outputs": []
    },
    {
      "cell_type": "code",
      "metadata": {
        "id": "KvQ4mig8Ww3U",
        "colab_type": "code",
        "colab": {}
      },
      "source": [
        "X_test= preprocessing.StandardScaler().fit(X_test).transform(X_test)"
      ],
      "execution_count": 0,
      "outputs": []
    },
    {
      "cell_type": "code",
      "metadata": {
        "id": "QZZo0DW7b7m0",
        "colab_type": "code",
        "outputId": "55380e47-bbe0-484c-d798-d007f34707f0",
        "colab": {
          "base_uri": "https://localhost:8080/",
          "height": 358
        }
      },
      "source": [
        "rf = RandomForestRegressor(n_estimators=100, random_state=42, verbose=1, n_jobs=-1) \n",
        "rf.fit(X_train, y_train)"
      ],
      "execution_count": 23,
      "outputs": [
        {
          "output_type": "stream",
          "text": [
            "[Parallel(n_jobs=-1)]: Using backend ThreadingBackend with 2 concurrent workers.\n",
            "[Parallel(n_jobs=-1)]: Done  46 tasks      | elapsed:   45.5s\n"
          ],
          "name": "stderr"
        },
        {
          "output_type": "error",
          "ename": "KeyboardInterrupt",
          "evalue": "ignored",
          "traceback": [
            "\u001b[0;31m---------------------------------------------------------------------------\u001b[0m",
            "\u001b[0;31mKeyboardInterrupt\u001b[0m                         Traceback (most recent call last)",
            "\u001b[0;32m<ipython-input-23-feb1be6b6f31>\u001b[0m in \u001b[0;36m<module>\u001b[0;34m()\u001b[0m\n\u001b[1;32m      1\u001b[0m \u001b[0mrf\u001b[0m \u001b[0;34m=\u001b[0m \u001b[0mRandomForestRegressor\u001b[0m\u001b[0;34m(\u001b[0m\u001b[0mn_estimators\u001b[0m\u001b[0;34m=\u001b[0m\u001b[0;36m100\u001b[0m\u001b[0;34m,\u001b[0m \u001b[0mrandom_state\u001b[0m\u001b[0;34m=\u001b[0m\u001b[0;36m42\u001b[0m\u001b[0;34m,\u001b[0m \u001b[0mverbose\u001b[0m\u001b[0;34m=\u001b[0m\u001b[0;36m1\u001b[0m\u001b[0;34m,\u001b[0m \u001b[0mn_jobs\u001b[0m\u001b[0;34m=\u001b[0m\u001b[0;34m-\u001b[0m\u001b[0;36m1\u001b[0m\u001b[0;34m)\u001b[0m\u001b[0;34m\u001b[0m\u001b[0;34m\u001b[0m\u001b[0m\n\u001b[0;32m----> 2\u001b[0;31m \u001b[0mrf\u001b[0m\u001b[0;34m.\u001b[0m\u001b[0mfit\u001b[0m\u001b[0;34m(\u001b[0m\u001b[0mX_train\u001b[0m\u001b[0;34m,\u001b[0m \u001b[0my_train\u001b[0m\u001b[0;34m)\u001b[0m\u001b[0;34m\u001b[0m\u001b[0;34m\u001b[0m\u001b[0m\n\u001b[0m",
            "\u001b[0;32m/usr/local/lib/python3.6/dist-packages/sklearn/ensemble/_forest.py\u001b[0m in \u001b[0;36mfit\u001b[0;34m(self, X, y, sample_weight)\u001b[0m\n\u001b[1;32m    381\u001b[0m                     \u001b[0mverbose\u001b[0m\u001b[0;34m=\u001b[0m\u001b[0mself\u001b[0m\u001b[0;34m.\u001b[0m\u001b[0mverbose\u001b[0m\u001b[0;34m,\u001b[0m \u001b[0mclass_weight\u001b[0m\u001b[0;34m=\u001b[0m\u001b[0mself\u001b[0m\u001b[0;34m.\u001b[0m\u001b[0mclass_weight\u001b[0m\u001b[0;34m,\u001b[0m\u001b[0;34m\u001b[0m\u001b[0;34m\u001b[0m\u001b[0m\n\u001b[1;32m    382\u001b[0m                     n_samples_bootstrap=n_samples_bootstrap)\n\u001b[0;32m--> 383\u001b[0;31m                 for i, t in enumerate(trees))\n\u001b[0m\u001b[1;32m    384\u001b[0m \u001b[0;34m\u001b[0m\u001b[0m\n\u001b[1;32m    385\u001b[0m             \u001b[0;31m# Collect newly grown trees\u001b[0m\u001b[0;34m\u001b[0m\u001b[0;34m\u001b[0m\u001b[0;34m\u001b[0m\u001b[0m\n",
            "\u001b[0;32m/usr/local/lib/python3.6/dist-packages/joblib/parallel.py\u001b[0m in \u001b[0;36m__call__\u001b[0;34m(self, iterable)\u001b[0m\n\u001b[1;32m   1040\u001b[0m \u001b[0;34m\u001b[0m\u001b[0m\n\u001b[1;32m   1041\u001b[0m             \u001b[0;32mwith\u001b[0m \u001b[0mself\u001b[0m\u001b[0;34m.\u001b[0m\u001b[0m_backend\u001b[0m\u001b[0;34m.\u001b[0m\u001b[0mretrieval_context\u001b[0m\u001b[0;34m(\u001b[0m\u001b[0;34m)\u001b[0m\u001b[0;34m:\u001b[0m\u001b[0;34m\u001b[0m\u001b[0;34m\u001b[0m\u001b[0m\n\u001b[0;32m-> 1042\u001b[0;31m                 \u001b[0mself\u001b[0m\u001b[0;34m.\u001b[0m\u001b[0mretrieve\u001b[0m\u001b[0;34m(\u001b[0m\u001b[0;34m)\u001b[0m\u001b[0;34m\u001b[0m\u001b[0;34m\u001b[0m\u001b[0m\n\u001b[0m\u001b[1;32m   1043\u001b[0m             \u001b[0;31m# Make sure that we get a last message telling us we are done\u001b[0m\u001b[0;34m\u001b[0m\u001b[0;34m\u001b[0m\u001b[0;34m\u001b[0m\u001b[0m\n\u001b[1;32m   1044\u001b[0m             \u001b[0melapsed_time\u001b[0m \u001b[0;34m=\u001b[0m \u001b[0mtime\u001b[0m\u001b[0;34m.\u001b[0m\u001b[0mtime\u001b[0m\u001b[0;34m(\u001b[0m\u001b[0;34m)\u001b[0m \u001b[0;34m-\u001b[0m \u001b[0mself\u001b[0m\u001b[0;34m.\u001b[0m\u001b[0m_start_time\u001b[0m\u001b[0;34m\u001b[0m\u001b[0;34m\u001b[0m\u001b[0m\n",
            "\u001b[0;32m/usr/local/lib/python3.6/dist-packages/joblib/parallel.py\u001b[0m in \u001b[0;36mretrieve\u001b[0;34m(self)\u001b[0m\n\u001b[1;32m    919\u001b[0m             \u001b[0;32mtry\u001b[0m\u001b[0;34m:\u001b[0m\u001b[0;34m\u001b[0m\u001b[0;34m\u001b[0m\u001b[0m\n\u001b[1;32m    920\u001b[0m                 \u001b[0;32mif\u001b[0m \u001b[0mgetattr\u001b[0m\u001b[0;34m(\u001b[0m\u001b[0mself\u001b[0m\u001b[0;34m.\u001b[0m\u001b[0m_backend\u001b[0m\u001b[0;34m,\u001b[0m \u001b[0;34m'supports_timeout'\u001b[0m\u001b[0;34m,\u001b[0m \u001b[0;32mFalse\u001b[0m\u001b[0;34m)\u001b[0m\u001b[0;34m:\u001b[0m\u001b[0;34m\u001b[0m\u001b[0;34m\u001b[0m\u001b[0m\n\u001b[0;32m--> 921\u001b[0;31m                     \u001b[0mself\u001b[0m\u001b[0;34m.\u001b[0m\u001b[0m_output\u001b[0m\u001b[0;34m.\u001b[0m\u001b[0mextend\u001b[0m\u001b[0;34m(\u001b[0m\u001b[0mjob\u001b[0m\u001b[0;34m.\u001b[0m\u001b[0mget\u001b[0m\u001b[0;34m(\u001b[0m\u001b[0mtimeout\u001b[0m\u001b[0;34m=\u001b[0m\u001b[0mself\u001b[0m\u001b[0;34m.\u001b[0m\u001b[0mtimeout\u001b[0m\u001b[0;34m)\u001b[0m\u001b[0;34m)\u001b[0m\u001b[0;34m\u001b[0m\u001b[0;34m\u001b[0m\u001b[0m\n\u001b[0m\u001b[1;32m    922\u001b[0m                 \u001b[0;32melse\u001b[0m\u001b[0;34m:\u001b[0m\u001b[0;34m\u001b[0m\u001b[0;34m\u001b[0m\u001b[0m\n\u001b[1;32m    923\u001b[0m                     \u001b[0mself\u001b[0m\u001b[0;34m.\u001b[0m\u001b[0m_output\u001b[0m\u001b[0;34m.\u001b[0m\u001b[0mextend\u001b[0m\u001b[0;34m(\u001b[0m\u001b[0mjob\u001b[0m\u001b[0;34m.\u001b[0m\u001b[0mget\u001b[0m\u001b[0;34m(\u001b[0m\u001b[0;34m)\u001b[0m\u001b[0;34m)\u001b[0m\u001b[0;34m\u001b[0m\u001b[0;34m\u001b[0m\u001b[0m\n",
            "\u001b[0;32m/usr/lib/python3.6/multiprocessing/pool.py\u001b[0m in \u001b[0;36mget\u001b[0;34m(self, timeout)\u001b[0m\n\u001b[1;32m    636\u001b[0m \u001b[0;34m\u001b[0m\u001b[0m\n\u001b[1;32m    637\u001b[0m     \u001b[0;32mdef\u001b[0m \u001b[0mget\u001b[0m\u001b[0;34m(\u001b[0m\u001b[0mself\u001b[0m\u001b[0;34m,\u001b[0m \u001b[0mtimeout\u001b[0m\u001b[0;34m=\u001b[0m\u001b[0;32mNone\u001b[0m\u001b[0;34m)\u001b[0m\u001b[0;34m:\u001b[0m\u001b[0;34m\u001b[0m\u001b[0;34m\u001b[0m\u001b[0m\n\u001b[0;32m--> 638\u001b[0;31m         \u001b[0mself\u001b[0m\u001b[0;34m.\u001b[0m\u001b[0mwait\u001b[0m\u001b[0;34m(\u001b[0m\u001b[0mtimeout\u001b[0m\u001b[0;34m)\u001b[0m\u001b[0;34m\u001b[0m\u001b[0;34m\u001b[0m\u001b[0m\n\u001b[0m\u001b[1;32m    639\u001b[0m         \u001b[0;32mif\u001b[0m \u001b[0;32mnot\u001b[0m \u001b[0mself\u001b[0m\u001b[0;34m.\u001b[0m\u001b[0mready\u001b[0m\u001b[0;34m(\u001b[0m\u001b[0;34m)\u001b[0m\u001b[0;34m:\u001b[0m\u001b[0;34m\u001b[0m\u001b[0;34m\u001b[0m\u001b[0m\n\u001b[1;32m    640\u001b[0m             \u001b[0;32mraise\u001b[0m \u001b[0mTimeoutError\u001b[0m\u001b[0;34m\u001b[0m\u001b[0;34m\u001b[0m\u001b[0m\n",
            "\u001b[0;32m/usr/lib/python3.6/multiprocessing/pool.py\u001b[0m in \u001b[0;36mwait\u001b[0;34m(self, timeout)\u001b[0m\n\u001b[1;32m    633\u001b[0m \u001b[0;34m\u001b[0m\u001b[0m\n\u001b[1;32m    634\u001b[0m     \u001b[0;32mdef\u001b[0m \u001b[0mwait\u001b[0m\u001b[0;34m(\u001b[0m\u001b[0mself\u001b[0m\u001b[0;34m,\u001b[0m \u001b[0mtimeout\u001b[0m\u001b[0;34m=\u001b[0m\u001b[0;32mNone\u001b[0m\u001b[0;34m)\u001b[0m\u001b[0;34m:\u001b[0m\u001b[0;34m\u001b[0m\u001b[0;34m\u001b[0m\u001b[0m\n\u001b[0;32m--> 635\u001b[0;31m         \u001b[0mself\u001b[0m\u001b[0;34m.\u001b[0m\u001b[0m_event\u001b[0m\u001b[0;34m.\u001b[0m\u001b[0mwait\u001b[0m\u001b[0;34m(\u001b[0m\u001b[0mtimeout\u001b[0m\u001b[0;34m)\u001b[0m\u001b[0;34m\u001b[0m\u001b[0;34m\u001b[0m\u001b[0m\n\u001b[0m\u001b[1;32m    636\u001b[0m \u001b[0;34m\u001b[0m\u001b[0m\n\u001b[1;32m    637\u001b[0m     \u001b[0;32mdef\u001b[0m \u001b[0mget\u001b[0m\u001b[0;34m(\u001b[0m\u001b[0mself\u001b[0m\u001b[0;34m,\u001b[0m \u001b[0mtimeout\u001b[0m\u001b[0;34m=\u001b[0m\u001b[0;32mNone\u001b[0m\u001b[0;34m)\u001b[0m\u001b[0;34m:\u001b[0m\u001b[0;34m\u001b[0m\u001b[0;34m\u001b[0m\u001b[0m\n",
            "\u001b[0;32m/usr/lib/python3.6/threading.py\u001b[0m in \u001b[0;36mwait\u001b[0;34m(self, timeout)\u001b[0m\n\u001b[1;32m    549\u001b[0m             \u001b[0msignaled\u001b[0m \u001b[0;34m=\u001b[0m \u001b[0mself\u001b[0m\u001b[0;34m.\u001b[0m\u001b[0m_flag\u001b[0m\u001b[0;34m\u001b[0m\u001b[0;34m\u001b[0m\u001b[0m\n\u001b[1;32m    550\u001b[0m             \u001b[0;32mif\u001b[0m \u001b[0;32mnot\u001b[0m \u001b[0msignaled\u001b[0m\u001b[0;34m:\u001b[0m\u001b[0;34m\u001b[0m\u001b[0;34m\u001b[0m\u001b[0m\n\u001b[0;32m--> 551\u001b[0;31m                 \u001b[0msignaled\u001b[0m \u001b[0;34m=\u001b[0m \u001b[0mself\u001b[0m\u001b[0;34m.\u001b[0m\u001b[0m_cond\u001b[0m\u001b[0;34m.\u001b[0m\u001b[0mwait\u001b[0m\u001b[0;34m(\u001b[0m\u001b[0mtimeout\u001b[0m\u001b[0;34m)\u001b[0m\u001b[0;34m\u001b[0m\u001b[0;34m\u001b[0m\u001b[0m\n\u001b[0m\u001b[1;32m    552\u001b[0m             \u001b[0;32mreturn\u001b[0m \u001b[0msignaled\u001b[0m\u001b[0;34m\u001b[0m\u001b[0;34m\u001b[0m\u001b[0m\n\u001b[1;32m    553\u001b[0m \u001b[0;34m\u001b[0m\u001b[0m\n",
            "\u001b[0;32m/usr/lib/python3.6/threading.py\u001b[0m in \u001b[0;36mwait\u001b[0;34m(self, timeout)\u001b[0m\n\u001b[1;32m    293\u001b[0m         \u001b[0;32mtry\u001b[0m\u001b[0;34m:\u001b[0m    \u001b[0;31m# restore state no matter what (e.g., KeyboardInterrupt)\u001b[0m\u001b[0;34m\u001b[0m\u001b[0;34m\u001b[0m\u001b[0m\n\u001b[1;32m    294\u001b[0m             \u001b[0;32mif\u001b[0m \u001b[0mtimeout\u001b[0m \u001b[0;32mis\u001b[0m \u001b[0;32mNone\u001b[0m\u001b[0;34m:\u001b[0m\u001b[0;34m\u001b[0m\u001b[0;34m\u001b[0m\u001b[0m\n\u001b[0;32m--> 295\u001b[0;31m                 \u001b[0mwaiter\u001b[0m\u001b[0;34m.\u001b[0m\u001b[0macquire\u001b[0m\u001b[0;34m(\u001b[0m\u001b[0;34m)\u001b[0m\u001b[0;34m\u001b[0m\u001b[0;34m\u001b[0m\u001b[0m\n\u001b[0m\u001b[1;32m    296\u001b[0m                 \u001b[0mgotit\u001b[0m \u001b[0;34m=\u001b[0m \u001b[0;32mTrue\u001b[0m\u001b[0;34m\u001b[0m\u001b[0;34m\u001b[0m\u001b[0m\n\u001b[1;32m    297\u001b[0m             \u001b[0;32melse\u001b[0m\u001b[0;34m:\u001b[0m\u001b[0;34m\u001b[0m\u001b[0;34m\u001b[0m\u001b[0m\n",
            "\u001b[0;31mKeyboardInterrupt\u001b[0m: "
          ]
        }
      ]
    },
    {
      "cell_type": "code",
      "metadata": {
        "id": "YvjdyYjMckmh",
        "colab_type": "code",
        "colab": {}
      },
      "source": [
        "from sklearn.metrics import mean_squared_error"
      ],
      "execution_count": 0,
      "outputs": []
    },
    {
      "cell_type": "code",
      "metadata": {
        "id": "WzX8Mn3RcpJa",
        "colab_type": "code",
        "colab": {}
      },
      "source": [
        "from math import sqrt"
      ],
      "execution_count": 0,
      "outputs": []
    },
    {
      "cell_type": "code",
      "metadata": {
        "id": "26py8hxGdMAT",
        "colab_type": "code",
        "colab": {}
      },
      "source": [
        "predictions = rf.predict(X_test)"
      ],
      "execution_count": 0,
      "outputs": []
    },
    {
      "cell_type": "code",
      "metadata": {
        "id": "tdW2_E09fk3X",
        "colab_type": "code",
        "colab": {}
      },
      "source": [
        "mean_squared_error(y_test, predictions, squared=False)"
      ],
      "execution_count": 0,
      "outputs": []
    },
    {
      "cell_type": "code",
      "metadata": {
        "id": "pstr_f_Df77G",
        "colab_type": "code",
        "colab": {}
      },
      "source": [
        ""
      ],
      "execution_count": 0,
      "outputs": []
    },
    {
      "cell_type": "code",
      "metadata": {
        "id": "yzGooqPreWYb",
        "colab_type": "code",
        "colab": {}
      },
      "source": [
        "from sklearn.metrics import r2_score\n",
        "r2_score(y_test, predictions)"
      ],
      "execution_count": 0,
      "outputs": []
    },
    {
      "cell_type": "code",
      "metadata": {
        "id": "WZ4glTmUf69H",
        "colab_type": "code",
        "colab": {}
      },
      "source": [
        "predictions.head()"
      ],
      "execution_count": 0,
      "outputs": []
    },
    {
      "cell_type": "code",
      "metadata": {
        "id": "Qkt405ImsH-R",
        "colab_type": "code",
        "colab": {
          "base_uri": "https://localhost:8080/",
          "height": 85
        },
        "outputId": "65c7d622-16f7-42bd-b044-515b35d402f2"
      },
      "source": [
        "from sklearn import svm\n",
        "clf = svm.SVC(kernel='rbf')\n",
        "clf.fit(X_train, y_train) "
      ],
      "execution_count": 50,
      "outputs": [
        {
          "output_type": "execute_result",
          "data": {
            "text/plain": [
              "SVC(C=1.0, break_ties=False, cache_size=200, class_weight=None, coef0=0.0,\n",
              "    decision_function_shape='ovr', degree=3, gamma='scale', kernel='rbf',\n",
              "    max_iter=-1, probability=False, random_state=None, shrinking=True,\n",
              "    tol=0.001, verbose=False)"
            ]
          },
          "metadata": {
            "tags": []
          },
          "execution_count": 50
        }
      ]
    },
    {
      "cell_type": "code",
      "metadata": {
        "id": "GmAH5sXgsKyB",
        "colab_type": "code",
        "colab": {
          "base_uri": "https://localhost:8080/",
          "height": 34
        },
        "outputId": "e217e6fb-f9d9-46c5-e8e7-4af2017652a3"
      },
      "source": [
        "yhat = clf.predict(X_test)\n",
        "yhat [0:5]"
      ],
      "execution_count": 51,
      "outputs": [
        {
          "output_type": "execute_result",
          "data": {
            "text/plain": [
              "array(['deal', 'deal', 'deal', 'deal', 'deal'], dtype=object)"
            ]
          },
          "metadata": {
            "tags": []
          },
          "execution_count": 51
        }
      ]
    },
    {
      "cell_type": "code",
      "metadata": {
        "id": "1u4kavoosOYv",
        "colab_type": "code",
        "colab": {
          "base_uri": "https://localhost:8080/",
          "height": 34
        },
        "outputId": "7fe6976e-14be-4d45-c412-afc6f170c743"
      },
      "source": [
        "a = np.count_nonzero(yhat == 'deal')\n",
        "print('Total number of deal product is ',a)\n",
        "#print(b = np.count_nonzero(LR_yhat == 'denial'))"
      ],
      "execution_count": 52,
      "outputs": [
        {
          "output_type": "stream",
          "text": [
            "Total number of deal product is  335478\n"
          ],
          "name": "stdout"
        }
      ]
    },
    {
      "cell_type": "code",
      "metadata": {
        "id": "rgPkxD5psPhb",
        "colab_type": "code",
        "colab": {
          "base_uri": "https://localhost:8080/",
          "height": 34
        },
        "outputId": "7c1b7995-b9b0-4b1f-d56f-549f3d1068ea"
      },
      "source": [
        "b = np.count_nonzero(yhat == 'denial')\n",
        "print('Total number of denial product is ',b)"
      ],
      "execution_count": 53,
      "outputs": [
        {
          "output_type": "stream",
          "text": [
            "Total number of denial product is  0\n"
          ],
          "name": "stdout"
        }
      ]
    },
    {
      "cell_type": "code",
      "metadata": {
        "id": "W9_OdPrmseg0",
        "colab_type": "code",
        "colab": {}
      },
      "source": [
        "import matplotlib.pyplot as plt"
      ],
      "execution_count": 0,
      "outputs": []
    },
    {
      "cell_type": "code",
      "metadata": {
        "id": "-9f8aXNHsSZU",
        "colab_type": "code",
        "colab": {
          "base_uri": "https://localhost:8080/",
          "height": 51
        },
        "outputId": "13d1142f-37d9-493b-b39f-c167e0ced206"
      },
      "source": [
        "from sklearn.metrics import classification_report, confusion_matrix\n",
        "import itertools\n",
        "def plot_confusion_matrix(cm, classes,\n",
        "                          normalize=False,\n",
        "                          title='Confusion matrix',\n",
        "                          cmap=plt.cm.Blues):\n",
        "    \"\"\"\n",
        "    This function prints and plots the confusion matrix.\n",
        "    Normalization can be applied by setting `normalize=True`.\n",
        "    \"\"\"\n",
        "    if normalize:\n",
        "        cm = cm.astype('float') / cm.sum(axis=1)[:, np.newaxis]\n",
        "        print(\"Normalized confusion matrix\")\n",
        "    else:\n",
        "        print('Confusion matrix, without normalization')\n",
        "\n",
        "    print(cm)\n",
        "    plt.figure(figsize=(8, 6))\n",
        "    plt.imshow(cm, interpolation='nearest', cmap=cmap)\n",
        "    plt.title(title)\n",
        "    plt.colorbar()\n",
        "    tick_marks = np.arange(len(classes))\n",
        "    plt.xticks(tick_marks, classes, rotation=45)\n",
        "    plt.yticks(tick_marks, classes)\n",
        "    \n",
        "\n",
        "    fmt = '.2f' if normalize else 'd'\n",
        "    thresh = cm.max() / 2.\n",
        "    for i, j in itertools.product(range(cm.shape[0]), range(cm.shape[1])):\n",
        "        plt.text(j, i, format(cm[i, j], fmt),\n",
        "                 horizontalalignment=\"center\",\n",
        "                 color=\"white\" if cm[i, j] > thresh else \"black\")\n",
        "\n",
        "    plt.tight_layout()\n",
        "    plt.ylabel('True label')\n",
        "    plt.xlabel('Predicted label')\n",
        "print(confusion_matrix(y_test, yhat, labels=['denial','deal']))"
      ],
      "execution_count": 56,
      "outputs": [
        {
          "output_type": "stream",
          "text": [
            "[[     0  18143]\n",
            " [     0 317335]]\n"
          ],
          "name": "stdout"
        }
      ]
    },
    {
      "cell_type": "code",
      "metadata": {
        "id": "WPLEO75ksmkd",
        "colab_type": "code",
        "colab": {
          "base_uri": "https://localhost:8080/",
          "height": 523
        },
        "outputId": "94276f4a-bd90-428c-9ec0-891c91c9ccd5"
      },
      "source": [
        "# Compute confusion matrix\n",
        "cnf_matrix = confusion_matrix(y_test, yhat, labels=['denial','deal'])\n",
        "np.set_printoptions(precision=2)\n",
        "\n",
        "\n",
        "# Plot non-normalized confusion matrix\n",
        "plt.figure()\n",
        "plot_confusion_matrix(cnf_matrix, classes=['denial = 0','deal = 1'],normalize= True,  title='Confusion matrix')\n"
      ],
      "execution_count": 57,
      "outputs": [
        {
          "output_type": "stream",
          "text": [
            "Normalized confusion matrix\n",
            "[[0. 1.]\n",
            " [0. 1.]]\n"
          ],
          "name": "stdout"
        },
        {
          "output_type": "display_data",
          "data": {
            "text/plain": [
              "<Figure size 432x288 with 0 Axes>"
            ]
          },
          "metadata": {
            "tags": []
          }
        },
        {
          "output_type": "display_data",
          "data": {
            "image/png": "[encoded data removed]",
            "text/plain": [
              "<Figure size 576x432 with 2 Axes>"
            ]
          },
          "metadata": {
            "tags": [],
            "needs_background": "light"
          }
        }
      ]
    }
  ]
}