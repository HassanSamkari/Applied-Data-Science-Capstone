{
  "nbformat": 4,
  "nbformat_minor": 0,
  "metadata": {
    "colab": {
      "name": "Fashion_sales.ipynb",
      "provenance": [],
      "mount_file_id": "1Sn6Y-6yeir2eTg-2hdDNWQgjUOAZKxmb",
      "authorship_tag": "ABX9TyPpJan2ObltU8nfq0UWf6FT",
      "include_colab_link": true
    },
    "kernelspec": {
      "name": "python3",
      "display_name": "Python 3"
    }
  },
  "cells": [
    {
      "cell_type": "markdown",
      "metadata": {
        "id": "view-in-github",
        "colab_type": "text"
      },
      "source": [
        "<a href=\"https://colab.research.google.com/github/HassanSamkari/Applied-Data-Science-Capstone/blob/master/Fashion_sales.ipynb\" target=\"_parent\"><img src=\"https://colab.research.google.com/assets/colab-badge.svg\" alt=\"Open In Colab\"/></a>"
      ]
    },
    {
      "cell_type": "code",
      "metadata": {
        "id": "2K0dKS3ON2bH",
        "colab_type": "code",
        "colab": {}
      },
      "source": [
        "import pandas as pd\n",
        "import numpy as np\n",
        "from sklearn.ensemble import RandomForestRegressor"
      ],
      "execution_count": 0,
      "outputs": []
    },
    {
      "cell_type": "code",
      "metadata": {
        "id": "rjMH_YTxPy4R",
        "colab_type": "code",
        "colab": {}
      },
      "source": [
        "sales = pd.read_csv('/content/drive/My Drive/project for colab/data/sales_stock.csv')\n",
        "products = pd.read_csv('/content/drive/My Drive/project for colab/data/products.csv')\n",
        "positions = pd.read_csv('/content/drive/My Drive/project for colab/data/positions.csv')\n"
      ],
      "execution_count": 0,
      "outputs": []
    },
    {
      "cell_type": "code",
      "metadata": {
        "id": "hWq_m-f8QexI",
        "colab_type": "code",
        "colab": {
          "base_uri": "https://localhost:8080/",
          "height": 204
        },
        "outputId": "44a366ab-d078-4e39-dfeb-9f2e5903acc8"
      },
      "source": [
        "sales.head()"
      ],
      "execution_count": 3,
      "outputs": [
        {
          "output_type": "execute_result",
          "data": {
            "text/html": [
              "<div>\n",
              "<style scoped>\n",
              "    .dataframe tbody tr th:only-of-type {\n",
              "        vertical-align: middle;\n",
              "    }\n",
              "\n",
              "    .dataframe tbody tr th {\n",
              "        vertical-align: top;\n",
              "    }\n",
              "\n",
              "    .dataframe thead th {\n",
              "        text-align: right;\n",
              "    }\n",
              "</style>\n",
              "<table border=\"1\" class=\"dataframe\">\n",
              "  <thead>\n",
              "    <tr style=\"text-align: right;\">\n",
              "      <th></th>\n",
              "      <th>date_number</th>\n",
              "      <th>product_id</th>\n",
              "      <th>color_id</th>\n",
              "      <th>size_id</th>\n",
              "      <th>sales</th>\n",
              "      <th>stock</th>\n",
              "    </tr>\n",
              "  </thead>\n",
              "  <tbody>\n",
              "    <tr>\n",
              "      <th>0</th>\n",
              "      <td>0</td>\n",
              "      <td>310130</td>\n",
              "      <td>78467031</td>\n",
              "      <td>7026791</td>\n",
              "      <td>1</td>\n",
              "      <td>93</td>\n",
              "    </tr>\n",
              "    <tr>\n",
              "      <th>1</th>\n",
              "      <td>0</td>\n",
              "      <td>310130</td>\n",
              "      <td>78467031</td>\n",
              "      <td>8015276</td>\n",
              "      <td>2</td>\n",
              "      <td>62</td>\n",
              "    </tr>\n",
              "    <tr>\n",
              "      <th>2</th>\n",
              "      <td>0</td>\n",
              "      <td>310130</td>\n",
              "      <td>78467031</td>\n",
              "      <td>452052101</td>\n",
              "      <td>1</td>\n",
              "      <td>18</td>\n",
              "    </tr>\n",
              "    <tr>\n",
              "      <th>3</th>\n",
              "      <td>0</td>\n",
              "      <td>310130</td>\n",
              "      <td>78467031</td>\n",
              "      <td>541898038</td>\n",
              "      <td>2</td>\n",
              "      <td>42</td>\n",
              "    </tr>\n",
              "    <tr>\n",
              "      <th>4</th>\n",
              "      <td>0</td>\n",
              "      <td>310130</td>\n",
              "      <td>78467031</td>\n",
              "      <td>558685710</td>\n",
              "      <td>3</td>\n",
              "      <td>113</td>\n",
              "    </tr>\n",
              "  </tbody>\n",
              "</table>\n",
              "</div>"
            ],
            "text/plain": [
              "   date_number  product_id  color_id    size_id  sales  stock\n",
              "0            0      310130  78467031    7026791      1     93\n",
              "1            0      310130  78467031    8015276      2     62\n",
              "2            0      310130  78467031  452052101      1     18\n",
              "3            0      310130  78467031  541898038      2     42\n",
              "4            0      310130  78467031  558685710      3    113"
            ]
          },
          "metadata": {
            "tags": []
          },
          "execution_count": 3
        }
      ]
    },
    {
      "cell_type": "code",
      "metadata": {
        "id": "QqKyXxsXQh1M",
        "colab_type": "code",
        "colab": {
          "base_uri": "https://localhost:8080/",
          "height": 204
        },
        "outputId": "a448d2cb-7d29-4c19-9f75-21da020ce4a8"
      },
      "source": [
        "products.head()"
      ],
      "execution_count": 4,
      "outputs": [
        {
          "output_type": "execute_result",
          "data": {
            "text/html": [
              "<div>\n",
              "<style scoped>\n",
              "    .dataframe tbody tr th:only-of-type {\n",
              "        vertical-align: middle;\n",
              "    }\n",
              "\n",
              "    .dataframe tbody tr th {\n",
              "        vertical-align: top;\n",
              "    }\n",
              "\n",
              "    .dataframe thead th {\n",
              "        text-align: right;\n",
              "    }\n",
              "</style>\n",
              "<table border=\"1\" class=\"dataframe\">\n",
              "  <thead>\n",
              "    <tr style=\"text-align: right;\">\n",
              "      <th></th>\n",
              "      <th>product_id</th>\n",
              "      <th>family_id</th>\n",
              "      <th>subfamily_id</th>\n",
              "      <th>price</th>\n",
              "    </tr>\n",
              "  </thead>\n",
              "  <tbody>\n",
              "    <tr>\n",
              "      <th>0</th>\n",
              "      <td>151926</td>\n",
              "      <td>396066037</td>\n",
              "      <td>335531561</td>\n",
              "      <td>25.95</td>\n",
              "    </tr>\n",
              "    <tr>\n",
              "      <th>1</th>\n",
              "      <td>213413</td>\n",
              "      <td>552529755</td>\n",
              "      <td>11509337</td>\n",
              "      <td>19.95</td>\n",
              "    </tr>\n",
              "    <tr>\n",
              "      <th>2</th>\n",
              "      <td>310130</td>\n",
              "      <td>679611953</td>\n",
              "      <td>533441312</td>\n",
              "      <td>12.95</td>\n",
              "    </tr>\n",
              "    <tr>\n",
              "      <th>3</th>\n",
              "      <td>373883</td>\n",
              "      <td>775013441</td>\n",
              "      <td>62518413</td>\n",
              "      <td>17.95</td>\n",
              "    </tr>\n",
              "    <tr>\n",
              "      <th>4</th>\n",
              "      <td>455200</td>\n",
              "      <td>998145072</td>\n",
              "      <td>490222156</td>\n",
              "      <td>29.95</td>\n",
              "    </tr>\n",
              "  </tbody>\n",
              "</table>\n",
              "</div>"
            ],
            "text/plain": [
              "   product_id  family_id  subfamily_id  price\n",
              "0      151926  396066037     335531561  25.95\n",
              "1      213413  552529755      11509337  19.95\n",
              "2      310130  679611953     533441312  12.95\n",
              "3      373883  775013441      62518413  17.95\n",
              "4      455200  998145072     490222156  29.95"
            ]
          },
          "metadata": {
            "tags": []
          },
          "execution_count": 4
        }
      ]
    },
    {
      "cell_type": "code",
      "metadata": {
        "id": "tlgL6xd7QlSn",
        "colab_type": "code",
        "colab": {
          "base_uri": "https://localhost:8080/",
          "height": 204
        },
        "outputId": "6e1ab7c2-05a1-430c-e34a-6189e9ec94f6"
      },
      "source": [
        "positions.head()"
      ],
      "execution_count": 5,
      "outputs": [
        {
          "output_type": "execute_result",
          "data": {
            "text/html": [
              "<div>\n",
              "<style scoped>\n",
              "    .dataframe tbody tr th:only-of-type {\n",
              "        vertical-align: middle;\n",
              "    }\n",
              "\n",
              "    .dataframe tbody tr th {\n",
              "        vertical-align: top;\n",
              "    }\n",
              "\n",
              "    .dataframe thead th {\n",
              "        text-align: right;\n",
              "    }\n",
              "</style>\n",
              "<table border=\"1\" class=\"dataframe\">\n",
              "  <thead>\n",
              "    <tr style=\"text-align: right;\">\n",
              "      <th></th>\n",
              "      <th>date_number</th>\n",
              "      <th>product_id</th>\n",
              "      <th>category_id</th>\n",
              "      <th>position</th>\n",
              "    </tr>\n",
              "  </thead>\n",
              "  <tbody>\n",
              "    <tr>\n",
              "      <th>0</th>\n",
              "      <td>0</td>\n",
              "      <td>4450020</td>\n",
              "      <td>4461548</td>\n",
              "      <td>17</td>\n",
              "    </tr>\n",
              "    <tr>\n",
              "      <th>1</th>\n",
              "      <td>0</td>\n",
              "      <td>42147334</td>\n",
              "      <td>4461548</td>\n",
              "      <td>4</td>\n",
              "    </tr>\n",
              "    <tr>\n",
              "      <th>2</th>\n",
              "      <td>0</td>\n",
              "      <td>81131830</td>\n",
              "      <td>4461548</td>\n",
              "      <td>35</td>\n",
              "    </tr>\n",
              "    <tr>\n",
              "      <th>3</th>\n",
              "      <td>0</td>\n",
              "      <td>84035833</td>\n",
              "      <td>4461548</td>\n",
              "      <td>38</td>\n",
              "    </tr>\n",
              "    <tr>\n",
              "      <th>4</th>\n",
              "      <td>0</td>\n",
              "      <td>125252584</td>\n",
              "      <td>4461548</td>\n",
              "      <td>39</td>\n",
              "    </tr>\n",
              "  </tbody>\n",
              "</table>\n",
              "</div>"
            ],
            "text/plain": [
              "   date_number  product_id  category_id  position\n",
              "0            0     4450020      4461548        17\n",
              "1            0    42147334      4461548         4\n",
              "2            0    81131830      4461548        35\n",
              "3            0    84035833      4461548        38\n",
              "4            0   125252584      4461548        39"
            ]
          },
          "metadata": {
            "tags": []
          },
          "execution_count": 5
        }
      ]
    },
    {
      "cell_type": "code",
      "metadata": {
        "id": "xKlxC6_2Rdt8",
        "colab_type": "code",
        "colab": {
          "base_uri": "https://localhost:8080/",
          "height": 204
        },
        "outputId": "d47ec8a0-582c-4e60-8817-4db0d7c9a744"
      },
      "source": [
        "sales_df=pd.merge(products, sales, left_on='product_id', right_on='product_id')\n",
        "sales_df.head()"
      ],
      "execution_count": 6,
      "outputs": [
        {
          "output_type": "execute_result",
          "data": {
            "text/html": [
              "<div>\n",
              "<style scoped>\n",
              "    .dataframe tbody tr th:only-of-type {\n",
              "        vertical-align: middle;\n",
              "    }\n",
              "\n",
              "    .dataframe tbody tr th {\n",
              "        vertical-align: top;\n",
              "    }\n",
              "\n",
              "    .dataframe thead th {\n",
              "        text-align: right;\n",
              "    }\n",
              "</style>\n",
              "<table border=\"1\" class=\"dataframe\">\n",
              "  <thead>\n",
              "    <tr style=\"text-align: right;\">\n",
              "      <th></th>\n",
              "      <th>product_id</th>\n",
              "      <th>family_id</th>\n",
              "      <th>subfamily_id</th>\n",
              "      <th>price</th>\n",
              "      <th>date_number</th>\n",
              "      <th>color_id</th>\n",
              "      <th>size_id</th>\n",
              "      <th>sales</th>\n",
              "      <th>stock</th>\n",
              "    </tr>\n",
              "  </thead>\n",
              "  <tbody>\n",
              "    <tr>\n",
              "      <th>0</th>\n",
              "      <td>151926</td>\n",
              "      <td>396066037</td>\n",
              "      <td>335531561</td>\n",
              "      <td>25.95</td>\n",
              "      <td>59</td>\n",
              "      <td>909958217</td>\n",
              "      <td>111455099</td>\n",
              "      <td>0</td>\n",
              "      <td>17</td>\n",
              "    </tr>\n",
              "    <tr>\n",
              "      <th>1</th>\n",
              "      <td>151926</td>\n",
              "      <td>396066037</td>\n",
              "      <td>335531561</td>\n",
              "      <td>25.95</td>\n",
              "      <td>59</td>\n",
              "      <td>909958217</td>\n",
              "      <td>242364222</td>\n",
              "      <td>3</td>\n",
              "      <td>63</td>\n",
              "    </tr>\n",
              "    <tr>\n",
              "      <th>2</th>\n",
              "      <td>151926</td>\n",
              "      <td>396066037</td>\n",
              "      <td>335531561</td>\n",
              "      <td>25.95</td>\n",
              "      <td>59</td>\n",
              "      <td>909958217</td>\n",
              "      <td>513017386</td>\n",
              "      <td>1</td>\n",
              "      <td>33</td>\n",
              "    </tr>\n",
              "    <tr>\n",
              "      <th>3</th>\n",
              "      <td>151926</td>\n",
              "      <td>396066037</td>\n",
              "      <td>335531561</td>\n",
              "      <td>25.95</td>\n",
              "      <td>59</td>\n",
              "      <td>909958217</td>\n",
              "      <td>820445075</td>\n",
              "      <td>1</td>\n",
              "      <td>42</td>\n",
              "    </tr>\n",
              "    <tr>\n",
              "      <th>4</th>\n",
              "      <td>151926</td>\n",
              "      <td>396066037</td>\n",
              "      <td>335531561</td>\n",
              "      <td>25.95</td>\n",
              "      <td>60</td>\n",
              "      <td>909958217</td>\n",
              "      <td>54666687</td>\n",
              "      <td>2</td>\n",
              "      <td>72</td>\n",
              "    </tr>\n",
              "  </tbody>\n",
              "</table>\n",
              "</div>"
            ],
            "text/plain": [
              "   product_id  family_id  subfamily_id  ...    size_id  sales  stock\n",
              "0      151926  396066037     335531561  ...  111455099      0     17\n",
              "1      151926  396066037     335531561  ...  242364222      3     63\n",
              "2      151926  396066037     335531561  ...  513017386      1     33\n",
              "3      151926  396066037     335531561  ...  820445075      1     42\n",
              "4      151926  396066037     335531561  ...   54666687      2     72\n",
              "\n",
              "[5 rows x 9 columns]"
            ]
          },
          "metadata": {
            "tags": []
          },
          "execution_count": 6
        }
      ]
    },
    {
      "cell_type": "code",
      "metadata": {
        "id": "fA5hnQOcQcNo",
        "colab_type": "code",
        "colab": {
          "base_uri": "https://localhost:8080/",
          "height": 204
        },
        "outputId": "96e0d206-eccd-41d3-895e-c74c74694328"
      },
      "source": [
        "stay_columns=['product_id','family_id','subfamily_id','price'] \n",
        "sales_final_df = pd.DataFrame(sales_df.groupby(stay_columns).sum()['sales']).reset_index()\n",
        "sales_final_df.loc[:,'stock']=pd.DataFrame(sales_df.groupby(stay_columns).sum()[ 'stock']).reset_index()['stock']\n",
        "sales_final_df.head()"
      ],
      "execution_count": 7,
      "outputs": [
        {
          "output_type": "execute_result",
          "data": {
            "text/html": [
              "<div>\n",
              "<style scoped>\n",
              "    .dataframe tbody tr th:only-of-type {\n",
              "        vertical-align: middle;\n",
              "    }\n",
              "\n",
              "    .dataframe tbody tr th {\n",
              "        vertical-align: top;\n",
              "    }\n",
              "\n",
              "    .dataframe thead th {\n",
              "        text-align: right;\n",
              "    }\n",
              "</style>\n",
              "<table border=\"1\" class=\"dataframe\">\n",
              "  <thead>\n",
              "    <tr style=\"text-align: right;\">\n",
              "      <th></th>\n",
              "      <th>product_id</th>\n",
              "      <th>family_id</th>\n",
              "      <th>subfamily_id</th>\n",
              "      <th>price</th>\n",
              "      <th>sales</th>\n",
              "      <th>stock</th>\n",
              "    </tr>\n",
              "  </thead>\n",
              "  <tbody>\n",
              "    <tr>\n",
              "      <th>0</th>\n",
              "      <td>151926</td>\n",
              "      <td>396066037</td>\n",
              "      <td>335531561</td>\n",
              "      <td>25.95</td>\n",
              "      <td>167</td>\n",
              "      <td>7995</td>\n",
              "    </tr>\n",
              "    <tr>\n",
              "      <th>1</th>\n",
              "      <td>213413</td>\n",
              "      <td>552529755</td>\n",
              "      <td>11509337</td>\n",
              "      <td>19.95</td>\n",
              "      <td>757</td>\n",
              "      <td>56646</td>\n",
              "    </tr>\n",
              "    <tr>\n",
              "      <th>2</th>\n",
              "      <td>310130</td>\n",
              "      <td>679611953</td>\n",
              "      <td>533441312</td>\n",
              "      <td>12.95</td>\n",
              "      <td>578</td>\n",
              "      <td>49639</td>\n",
              "    </tr>\n",
              "    <tr>\n",
              "      <th>3</th>\n",
              "      <td>455200</td>\n",
              "      <td>998145072</td>\n",
              "      <td>490222156</td>\n",
              "      <td>29.95</td>\n",
              "      <td>24</td>\n",
              "      <td>2258</td>\n",
              "    </tr>\n",
              "    <tr>\n",
              "      <th>4</th>\n",
              "      <td>571044</td>\n",
              "      <td>831347344</td>\n",
              "      <td>750943270</td>\n",
              "      <td>15.95</td>\n",
              "      <td>591</td>\n",
              "      <td>18868</td>\n",
              "    </tr>\n",
              "  </tbody>\n",
              "</table>\n",
              "</div>"
            ],
            "text/plain": [
              "   product_id  family_id  subfamily_id  price  sales  stock\n",
              "0      151926  396066037     335531561  25.95    167   7995\n",
              "1      213413  552529755      11509337  19.95    757  56646\n",
              "2      310130  679611953     533441312  12.95    578  49639\n",
              "3      455200  998145072     490222156  29.95     24   2258\n",
              "4      571044  831347344     750943270  15.95    591  18868"
            ]
          },
          "metadata": {
            "tags": []
          },
          "execution_count": 7
        }
      ]
    },
    {
      "cell_type": "code",
      "metadata": {
        "id": "vKdf-U5TQ9wn",
        "colab_type": "code",
        "colab": {}
      },
      "source": [
        "positions.loc[:,'high_rank']=positions.loc[:,'position'] \n",
        "high_rank=pd.DataFrame(positions.groupby(['date_number','product_id']).min()['position'] ).reset_index()\n",
        "positions=positions.drop('high_rank', axis=1)"
      ],
      "execution_count": 0,
      "outputs": []
    },
    {
      "cell_type": "code",
      "metadata": {
        "id": "5nsBScsqTsYw",
        "colab_type": "code",
        "colab": {}
      },
      "source": [
        "positions.loc[:,'low_rank']=positions.loc[:,'position'] \n",
        "low_rank=pd.DataFrame(positions.groupby(['date_number','product_id']).max()['position'] ).reset_index()\n",
        "positions=positions.drop('low_rank', axis=1)"
      ],
      "execution_count": 0,
      "outputs": []
    },
    {
      "cell_type": "code",
      "metadata": {
        "id": "opWqQD80Txso",
        "colab_type": "code",
        "colab": {}
      },
      "source": [
        "positions.loc[:,'rank_mean']=positions.loc[:,'position'] \n",
        "rank_mean=pd.DataFrame(positions.groupby(['date_number','product_id']).mean()['position']).reset_index()\n",
        "rank_mean=round(rank_mean)\n",
        "positions=positions.drop('rank_mean', axis=1)"
      ],
      "execution_count": 0,
      "outputs": []
    },
    {
      "cell_type": "code",
      "metadata": {
        "id": "2iLmwoDTT-YL",
        "colab_type": "code",
        "colab": {}
      },
      "source": [
        "positions=rank_mean.copy().rename(columns={\"position\": \"rank_mean\"}) \n",
        "positions.loc[:,'high_rank']=high_rank['position'] \n",
        "positions.loc[:,'low_rank']=low_rank['position'] "
      ],
      "execution_count": 0,
      "outputs": []
    },
    {
      "cell_type": "code",
      "metadata": {
        "id": "UzB95afZUGnb",
        "colab_type": "code",
        "colab": {
          "base_uri": "https://localhost:8080/",
          "height": 204
        },
        "outputId": "852916fa-923f-4a84-b546-a1a246842d1d"
      },
      "source": [
        "df=pd.merge(sales_final_df, positions,  left_on=['product_id'], right_on=['product_id']) \n",
        "df.head()"
      ],
      "execution_count": 12,
      "outputs": [
        {
          "output_type": "execute_result",
          "data": {
            "text/html": [
              "<div>\n",
              "<style scoped>\n",
              "    .dataframe tbody tr th:only-of-type {\n",
              "        vertical-align: middle;\n",
              "    }\n",
              "\n",
              "    .dataframe tbody tr th {\n",
              "        vertical-align: top;\n",
              "    }\n",
              "\n",
              "    .dataframe thead th {\n",
              "        text-align: right;\n",
              "    }\n",
              "</style>\n",
              "<table border=\"1\" class=\"dataframe\">\n",
              "  <thead>\n",
              "    <tr style=\"text-align: right;\">\n",
              "      <th></th>\n",
              "      <th>product_id</th>\n",
              "      <th>family_id</th>\n",
              "      <th>subfamily_id</th>\n",
              "      <th>price</th>\n",
              "      <th>sales</th>\n",
              "      <th>stock</th>\n",
              "      <th>date_number</th>\n",
              "      <th>rank_mean</th>\n",
              "      <th>high_rank</th>\n",
              "      <th>low_rank</th>\n",
              "    </tr>\n",
              "  </thead>\n",
              "  <tbody>\n",
              "    <tr>\n",
              "      <th>0</th>\n",
              "      <td>151926</td>\n",
              "      <td>396066037</td>\n",
              "      <td>335531561</td>\n",
              "      <td>25.95</td>\n",
              "      <td>167</td>\n",
              "      <td>7995</td>\n",
              "      <td>59</td>\n",
              "      <td>36.0</td>\n",
              "      <td>9</td>\n",
              "      <td>62</td>\n",
              "    </tr>\n",
              "    <tr>\n",
              "      <th>1</th>\n",
              "      <td>151926</td>\n",
              "      <td>396066037</td>\n",
              "      <td>335531561</td>\n",
              "      <td>25.95</td>\n",
              "      <td>167</td>\n",
              "      <td>7995</td>\n",
              "      <td>60</td>\n",
              "      <td>37.0</td>\n",
              "      <td>10</td>\n",
              "      <td>64</td>\n",
              "    </tr>\n",
              "    <tr>\n",
              "      <th>2</th>\n",
              "      <td>151926</td>\n",
              "      <td>396066037</td>\n",
              "      <td>335531561</td>\n",
              "      <td>25.95</td>\n",
              "      <td>167</td>\n",
              "      <td>7995</td>\n",
              "      <td>61</td>\n",
              "      <td>38.0</td>\n",
              "      <td>10</td>\n",
              "      <td>65</td>\n",
              "    </tr>\n",
              "    <tr>\n",
              "      <th>3</th>\n",
              "      <td>151926</td>\n",
              "      <td>396066037</td>\n",
              "      <td>335531561</td>\n",
              "      <td>25.95</td>\n",
              "      <td>167</td>\n",
              "      <td>7995</td>\n",
              "      <td>62</td>\n",
              "      <td>38.0</td>\n",
              "      <td>10</td>\n",
              "      <td>65</td>\n",
              "    </tr>\n",
              "    <tr>\n",
              "      <th>4</th>\n",
              "      <td>151926</td>\n",
              "      <td>396066037</td>\n",
              "      <td>335531561</td>\n",
              "      <td>25.95</td>\n",
              "      <td>167</td>\n",
              "      <td>7995</td>\n",
              "      <td>63</td>\n",
              "      <td>38.0</td>\n",
              "      <td>10</td>\n",
              "      <td>63</td>\n",
              "    </tr>\n",
              "  </tbody>\n",
              "</table>\n",
              "</div>"
            ],
            "text/plain": [
              "   product_id  family_id  subfamily_id  ...  rank_mean  high_rank  low_rank\n",
              "0      151926  396066037     335531561  ...       36.0          9        62\n",
              "1      151926  396066037     335531561  ...       37.0         10        64\n",
              "2      151926  396066037     335531561  ...       38.0         10        65\n",
              "3      151926  396066037     335531561  ...       38.0         10        65\n",
              "4      151926  396066037     335531561  ...       38.0         10        63\n",
              "\n",
              "[5 rows x 10 columns]"
            ]
          },
          "metadata": {
            "tags": []
          },
          "execution_count": 12
        }
      ]
    },
    {
      "cell_type": "code",
      "metadata": {
        "id": "sKLojbtwUwgg",
        "colab_type": "code",
        "colab": {}
      },
      "source": [
        "train = df.loc[df['date_number'] <= 46].reset_index(drop=True)\n",
        "test = df.loc[df['date_number'] >= 46].reset_index(drop=True)"
      ],
      "execution_count": 0,
      "outputs": []
    },
    {
      "cell_type": "code",
      "metadata": {
        "id": "O-WJs_wHVBEs",
        "colab_type": "code",
        "colab": {
          "base_uri": "https://localhost:8080/",
          "height": 204
        },
        "outputId": "b5024ae3-4905-4068-d12d-a86aa72b250c"
      },
      "source": [
        "train.head()"
      ],
      "execution_count": 14,
      "outputs": [
        {
          "output_type": "execute_result",
          "data": {
            "text/html": [
              "<div>\n",
              "<style scoped>\n",
              "    .dataframe tbody tr th:only-of-type {\n",
              "        vertical-align: middle;\n",
              "    }\n",
              "\n",
              "    .dataframe tbody tr th {\n",
              "        vertical-align: top;\n",
              "    }\n",
              "\n",
              "    .dataframe thead th {\n",
              "        text-align: right;\n",
              "    }\n",
              "</style>\n",
              "<table border=\"1\" class=\"dataframe\">\n",
              "  <thead>\n",
              "    <tr style=\"text-align: right;\">\n",
              "      <th></th>\n",
              "      <th>product_id</th>\n",
              "      <th>family_id</th>\n",
              "      <th>subfamily_id</th>\n",
              "      <th>price</th>\n",
              "      <th>sales</th>\n",
              "      <th>stock</th>\n",
              "      <th>date_number</th>\n",
              "      <th>rank_mean</th>\n",
              "      <th>high_rank</th>\n",
              "      <th>low_rank</th>\n",
              "    </tr>\n",
              "  </thead>\n",
              "  <tbody>\n",
              "    <tr>\n",
              "      <th>0</th>\n",
              "      <td>213413</td>\n",
              "      <td>552529755</td>\n",
              "      <td>11509337</td>\n",
              "      <td>19.95</td>\n",
              "      <td>757</td>\n",
              "      <td>56646</td>\n",
              "      <td>4</td>\n",
              "      <td>190.0</td>\n",
              "      <td>13</td>\n",
              "      <td>254</td>\n",
              "    </tr>\n",
              "    <tr>\n",
              "      <th>1</th>\n",
              "      <td>213413</td>\n",
              "      <td>552529755</td>\n",
              "      <td>11509337</td>\n",
              "      <td>19.95</td>\n",
              "      <td>757</td>\n",
              "      <td>56646</td>\n",
              "      <td>5</td>\n",
              "      <td>190.0</td>\n",
              "      <td>13</td>\n",
              "      <td>255</td>\n",
              "    </tr>\n",
              "    <tr>\n",
              "      <th>2</th>\n",
              "      <td>213413</td>\n",
              "      <td>552529755</td>\n",
              "      <td>11509337</td>\n",
              "      <td>19.95</td>\n",
              "      <td>757</td>\n",
              "      <td>56646</td>\n",
              "      <td>6</td>\n",
              "      <td>26.0</td>\n",
              "      <td>13</td>\n",
              "      <td>37</td>\n",
              "    </tr>\n",
              "    <tr>\n",
              "      <th>3</th>\n",
              "      <td>213413</td>\n",
              "      <td>552529755</td>\n",
              "      <td>11509337</td>\n",
              "      <td>19.95</td>\n",
              "      <td>757</td>\n",
              "      <td>56646</td>\n",
              "      <td>7</td>\n",
              "      <td>26.0</td>\n",
              "      <td>13</td>\n",
              "      <td>37</td>\n",
              "    </tr>\n",
              "    <tr>\n",
              "      <th>4</th>\n",
              "      <td>213413</td>\n",
              "      <td>552529755</td>\n",
              "      <td>11509337</td>\n",
              "      <td>19.95</td>\n",
              "      <td>757</td>\n",
              "      <td>56646</td>\n",
              "      <td>8</td>\n",
              "      <td>23.0</td>\n",
              "      <td>4</td>\n",
              "      <td>39</td>\n",
              "    </tr>\n",
              "  </tbody>\n",
              "</table>\n",
              "</div>"
            ],
            "text/plain": [
              "   product_id  family_id  subfamily_id  ...  rank_mean  high_rank  low_rank\n",
              "0      213413  552529755      11509337  ...      190.0         13       254\n",
              "1      213413  552529755      11509337  ...      190.0         13       255\n",
              "2      213413  552529755      11509337  ...       26.0         13        37\n",
              "3      213413  552529755      11509337  ...       26.0         13        37\n",
              "4      213413  552529755      11509337  ...       23.0          4        39\n",
              "\n",
              "[5 rows x 10 columns]"
            ]
          },
          "metadata": {
            "tags": []
          },
          "execution_count": 14
        }
      ]
    },
    {
      "cell_type": "code",
      "metadata": {
        "id": "4eInU3_jVEDM",
        "colab_type": "code",
        "colab": {}
      },
      "source": [
        "X_train=train.drop(['sales'], axis=1) \n",
        "y_train=train.loc[:,'sales']"
      ],
      "execution_count": 0,
      "outputs": []
    },
    {
      "cell_type": "code",
      "metadata": {
        "id": "4SF-4KkTgFRB",
        "colab_type": "code",
        "colab": {
          "base_uri": "https://localhost:8080/",
          "height": 136
        },
        "outputId": "36812866-9f7c-4f80-9813-3a50d30fd1cb"
      },
      "source": [
        "y_train[0:6]"
      ],
      "execution_count": 32,
      "outputs": [
        {
          "output_type": "execute_result",
          "data": {
            "text/plain": [
              "0    757\n",
              "1    757\n",
              "2    757\n",
              "3    757\n",
              "4    757\n",
              "5    757\n",
              "Name: sales, dtype: int64"
            ]
          },
          "metadata": {
            "tags": []
          },
          "execution_count": 32
        }
      ]
    },
    {
      "cell_type": "code",
      "metadata": {
        "id": "bEGMj3KlY9Em",
        "colab_type": "code",
        "colab": {
          "base_uri": "https://localhost:8080/",
          "height": 235
        },
        "outputId": "a14de43a-c278-493a-a4d2-211489a56e84"
      },
      "source": [
        "X_train[0:6]"
      ],
      "execution_count": 16,
      "outputs": [
        {
          "output_type": "execute_result",
          "data": {
            "text/html": [
              "<div>\n",
              "<style scoped>\n",
              "    .dataframe tbody tr th:only-of-type {\n",
              "        vertical-align: middle;\n",
              "    }\n",
              "\n",
              "    .dataframe tbody tr th {\n",
              "        vertical-align: top;\n",
              "    }\n",
              "\n",
              "    .dataframe thead th {\n",
              "        text-align: right;\n",
              "    }\n",
              "</style>\n",
              "<table border=\"1\" class=\"dataframe\">\n",
              "  <thead>\n",
              "    <tr style=\"text-align: right;\">\n",
              "      <th></th>\n",
              "      <th>product_id</th>\n",
              "      <th>family_id</th>\n",
              "      <th>subfamily_id</th>\n",
              "      <th>price</th>\n",
              "      <th>stock</th>\n",
              "      <th>date_number</th>\n",
              "      <th>rank_mean</th>\n",
              "      <th>high_rank</th>\n",
              "      <th>low_rank</th>\n",
              "    </tr>\n",
              "  </thead>\n",
              "  <tbody>\n",
              "    <tr>\n",
              "      <th>0</th>\n",
              "      <td>213413</td>\n",
              "      <td>552529755</td>\n",
              "      <td>11509337</td>\n",
              "      <td>19.95</td>\n",
              "      <td>56646</td>\n",
              "      <td>4</td>\n",
              "      <td>190.0</td>\n",
              "      <td>13</td>\n",
              "      <td>254</td>\n",
              "    </tr>\n",
              "    <tr>\n",
              "      <th>1</th>\n",
              "      <td>213413</td>\n",
              "      <td>552529755</td>\n",
              "      <td>11509337</td>\n",
              "      <td>19.95</td>\n",
              "      <td>56646</td>\n",
              "      <td>5</td>\n",
              "      <td>190.0</td>\n",
              "      <td>13</td>\n",
              "      <td>255</td>\n",
              "    </tr>\n",
              "    <tr>\n",
              "      <th>2</th>\n",
              "      <td>213413</td>\n",
              "      <td>552529755</td>\n",
              "      <td>11509337</td>\n",
              "      <td>19.95</td>\n",
              "      <td>56646</td>\n",
              "      <td>6</td>\n",
              "      <td>26.0</td>\n",
              "      <td>13</td>\n",
              "      <td>37</td>\n",
              "    </tr>\n",
              "    <tr>\n",
              "      <th>3</th>\n",
              "      <td>213413</td>\n",
              "      <td>552529755</td>\n",
              "      <td>11509337</td>\n",
              "      <td>19.95</td>\n",
              "      <td>56646</td>\n",
              "      <td>7</td>\n",
              "      <td>26.0</td>\n",
              "      <td>13</td>\n",
              "      <td>37</td>\n",
              "    </tr>\n",
              "    <tr>\n",
              "      <th>4</th>\n",
              "      <td>213413</td>\n",
              "      <td>552529755</td>\n",
              "      <td>11509337</td>\n",
              "      <td>19.95</td>\n",
              "      <td>56646</td>\n",
              "      <td>8</td>\n",
              "      <td>23.0</td>\n",
              "      <td>4</td>\n",
              "      <td>39</td>\n",
              "    </tr>\n",
              "    <tr>\n",
              "      <th>5</th>\n",
              "      <td>213413</td>\n",
              "      <td>552529755</td>\n",
              "      <td>11509337</td>\n",
              "      <td>19.95</td>\n",
              "      <td>56646</td>\n",
              "      <td>9</td>\n",
              "      <td>53.0</td>\n",
              "      <td>8</td>\n",
              "      <td>97</td>\n",
              "    </tr>\n",
              "  </tbody>\n",
              "</table>\n",
              "</div>"
            ],
            "text/plain": [
              "   product_id  family_id  subfamily_id  ...  rank_mean  high_rank  low_rank\n",
              "0      213413  552529755      11509337  ...      190.0         13       254\n",
              "1      213413  552529755      11509337  ...      190.0         13       255\n",
              "2      213413  552529755      11509337  ...       26.0         13        37\n",
              "3      213413  552529755      11509337  ...       26.0         13        37\n",
              "4      213413  552529755      11509337  ...       23.0          4        39\n",
              "5      213413  552529755      11509337  ...       53.0          8        97\n",
              "\n",
              "[6 rows x 9 columns]"
            ]
          },
          "metadata": {
            "tags": []
          },
          "execution_count": 16
        }
      ]
    },
    {
      "cell_type": "code",
      "metadata": {
        "id": "qzGaGTy0Vs36",
        "colab_type": "code",
        "colab": {}
      },
      "source": [
        "X_test=test.drop(['sales'], axis=1) \n",
        "y_test=test.loc[:,'sales']"
      ],
      "execution_count": 0,
      "outputs": []
    },
    {
      "cell_type": "code",
      "metadata": {
        "id": "J_S5m1OcWoie",
        "colab_type": "code",
        "colab": {}
      },
      "source": [
        "from sklearn import preprocessing\n",
        "X_train= preprocessing.StandardScaler().fit(X_train).transform(X_train)"
      ],
      "execution_count": 0,
      "outputs": []
    },
    {
      "cell_type": "code",
      "metadata": {
        "id": "KvQ4mig8Ww3U",
        "colab_type": "code",
        "colab": {}
      },
      "source": [
        "X_test= preprocessing.StandardScaler().fit(X_test).transform(X_test)"
      ],
      "execution_count": 0,
      "outputs": []
    },
    {
      "cell_type": "code",
      "metadata": {
        "id": "QZZo0DW7b7m0",
        "colab_type": "code",
        "colab": {
          "base_uri": "https://localhost:8080/",
          "height": 187
        },
        "outputId": "a6f82b12-4e1f-45e9-870a-ba2beb4751b2"
      },
      "source": [
        "rf = RandomForestRegressor(n_estimators=100, random_state=42, verbose=1, n_jobs=-1) \n",
        "rf.fit(X_train, y_train)"
      ],
      "execution_count": 20,
      "outputs": [
        {
          "output_type": "stream",
          "text": [
            "[Parallel(n_jobs=-1)]: Using backend ThreadingBackend with 2 concurrent workers.\n",
            "[Parallel(n_jobs=-1)]: Done  46 tasks      | elapsed:   48.0s\n",
            "[Parallel(n_jobs=-1)]: Done 100 out of 100 | elapsed:  1.7min finished\n"
          ],
          "name": "stderr"
        },
        {
          "output_type": "execute_result",
          "data": {
            "text/plain": [
              "RandomForestRegressor(bootstrap=True, ccp_alpha=0.0, criterion='mse',\n",
              "                      max_depth=None, max_features='auto', max_leaf_nodes=None,\n",
              "                      max_samples=None, min_impurity_decrease=0.0,\n",
              "                      min_impurity_split=None, min_samples_leaf=1,\n",
              "                      min_samples_split=2, min_weight_fraction_leaf=0.0,\n",
              "                      n_estimators=100, n_jobs=-1, oob_score=False,\n",
              "                      random_state=42, verbose=1, warm_start=False)"
            ]
          },
          "metadata": {
            "tags": []
          },
          "execution_count": 20
        }
      ]
    },
    {
      "cell_type": "code",
      "metadata": {
        "id": "YvjdyYjMckmh",
        "colab_type": "code",
        "colab": {}
      },
      "source": [
        "from sklearn.metrics import mean_squared_error"
      ],
      "execution_count": 0,
      "outputs": []
    },
    {
      "cell_type": "code",
      "metadata": {
        "id": "WzX8Mn3RcpJa",
        "colab_type": "code",
        "colab": {}
      },
      "source": [
        "from math import sqrt"
      ],
      "execution_count": 0,
      "outputs": []
    },
    {
      "cell_type": "code",
      "metadata": {
        "id": "26py8hxGdMAT",
        "colab_type": "code",
        "colab": {
          "base_uri": "https://localhost:8080/",
          "height": 68
        },
        "outputId": "1b74a187-1476-4c2a-cff2-6a217204dab0"
      },
      "source": [
        "predictions = rf.predict(X_test)"
      ],
      "execution_count": 23,
      "outputs": [
        {
          "output_type": "stream",
          "text": [
            "[Parallel(n_jobs=2)]: Using backend ThreadingBackend with 2 concurrent workers.\n",
            "[Parallel(n_jobs=2)]: Done  46 tasks      | elapsed:    0.9s\n",
            "[Parallel(n_jobs=2)]: Done 100 out of 100 | elapsed:    2.0s finished\n"
          ],
          "name": "stderr"
        }
      ]
    },
    {
      "cell_type": "code",
      "metadata": {
        "id": "tdW2_E09fk3X",
        "colab_type": "code",
        "colab": {
          "base_uri": "https://localhost:8080/",
          "height": 34
        },
        "outputId": "0e9d3b06-46e0-4b15-f851-86263e5787a4"
      },
      "source": [
        "mean_squared_error(y_test, predictions, squared=False)"
      ],
      "execution_count": 29,
      "outputs": [
        {
          "output_type": "execute_result",
          "data": {
            "text/plain": [
              "336.7137294146801"
            ]
          },
          "metadata": {
            "tags": []
          },
          "execution_count": 29
        }
      ]
    },
    {
      "cell_type": "code",
      "metadata": {
        "id": "pstr_f_Df77G",
        "colab_type": "code",
        "colab": {}
      },
      "source": [
        ""
      ],
      "execution_count": 0,
      "outputs": []
    },
    {
      "cell_type": "code",
      "metadata": {
        "id": "yzGooqPreWYb",
        "colab_type": "code",
        "colab": {
          "base_uri": "https://localhost:8080/",
          "height": 34
        },
        "outputId": "32bd0a50-993a-4f55-eca1-8a9a2c1dbc2a"
      },
      "source": [
        "from sklearn.metrics import r2_score\n",
        "r2_score(y_test, predictions)"
      ],
      "execution_count": 27,
      "outputs": [
        {
          "output_type": "execute_result",
          "data": {
            "text/plain": [
              "0.7797749824989103"
            ]
          },
          "metadata": {
            "tags": []
          },
          "execution_count": 27
        }
      ]
    },
    {
      "cell_type": "code",
      "metadata": {
        "id": "WZ4glTmUf69H",
        "colab_type": "code",
        "colab": {
          "base_uri": "https://localhost:8080/",
          "height": 164
        },
        "outputId": "586d7591-0bb3-4f2f-9e3d-c4994d87a1a5"
      },
      "source": [
        "predictions.head()"
      ],
      "execution_count": 31,
      "outputs": [
        {
          "output_type": "error",
          "ename": "AttributeError",
          "evalue": "ignored",
          "traceback": [
            "\u001b[0;31m---------------------------------------------------------------------------\u001b[0m",
            "\u001b[0;31mAttributeError\u001b[0m                            Traceback (most recent call last)",
            "\u001b[0;32m<ipython-input-31-70c11d2378a3>\u001b[0m in \u001b[0;36m<module>\u001b[0;34m()\u001b[0m\n\u001b[0;32m----> 1\u001b[0;31m \u001b[0mpredictions\u001b[0m\u001b[0;34m.\u001b[0m\u001b[0mhead\u001b[0m\u001b[0;34m(\u001b[0m\u001b[0;34m)\u001b[0m\u001b[0;34m\u001b[0m\u001b[0;34m\u001b[0m\u001b[0m\n\u001b[0m",
            "\u001b[0;31mAttributeError\u001b[0m: 'numpy.ndarray' object has no attribute 'head'"
          ]
        }
      ]
    }
  ]
}